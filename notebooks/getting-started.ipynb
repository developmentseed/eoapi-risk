{
 "cells": [
  {
   "attachments": {},
   "cell_type": "markdown",
   "metadata": {},
   "source": [
    "# Getting Started with STAC and eoAPI\n",
    "\n",
    "## A Foundational Guide for the IFRC's Geospatial Data Analysis\n",
    "\n",
    "### Overview\n",
    "\n",
    "Welcome to this guide designed to introduce you to the world of SpatioTemporal Asset Catalog (STAC), Cloud Optimized Geotiffs (COGs), and eoAPI. Tailored for the International Federation of Red Cross and Red Crescent Societies (IFRC), this Jupyter Notebook aims to provide you with the foundational knowledge and practical skills necessary to effectively utilize these powerful tools in geospatial data management and analysis.\n",
    "\n",
    "### Context\n",
    "\n",
    "The notebook delves into the essentials of using eoAPI, offering insights into STAC and COGs. We will explore how eoAPI facilitates querying metadata and visualizing the underlying referenced data. All notebooks of the repository run within a specially configured cluster, integrating a deployed instance of eoAPI and JupyterHub to provide a seamless, hands-on experience.\n",
    "\n",
    "### STAC, COG, and eoAPI\n",
    "\n",
    "- **STAC**: We begin with an introduction to STAC, explaining its structure and critical role in damage assessment and risk management.\n",
    "- **COG**: Next, we explore COGs and why they are pivotal in modern geospatial data handling.\n",
    "- **eoAPI**: Finally, we discuss eoAPI, detailing its functionalities and importance in this ecosystem.\n",
    "\n",
    "In this notebook, we leverage Maxar's high-resolution satellite imagery, acquired explicitly for the M7.8 and M7.5 Kahramanmaras earthquakes in Turkey on February 6, 2023. This data, pivotal for emergency response and risk assessment, has been ingested into our instance of eoAPI deployed on the cluster. The imagery, available as Cloud Optimized Geotiffs (COGs) with accompanying STAC metadata, enables streamlined analysis and visualization of the earthquake's impact. Maxar's data, being analysis-ready and cloud-optimized, provides a rich resource for demonstrating the capabilities of eoAPI in handling large-scale geospatial datasets in a crisis context.\n",
    "\n",
    "This notebook is the foundational guide for the IFRC's of eoAPI and associated resources. It is structured to guide you through these concepts, culminating in a hands-on demonstration of using eoAPI to query and visualize earth observation data."
   ]
  },
  {
   "attachments": {},
   "cell_type": "markdown",
   "metadata": {},
   "source": [
    "## STAC: What is it? Why is it important? How can I learn more?\n",
    "\n",
    "### What is STAC (SpatioTemporal Asset Catalog)?\n",
    "\n",
    "The SpatioTemporal Asset Catalog (STAC) is a specification designed to standardize how geospatial data is organized and accessed. It's a community-driven standard developed collaboratively by experts and stakeholders in the geospatial data field. STAC provides a common language and structure for describing geospatial information, making it easier to index, discover, and manage spatial data across various platforms and systems. One of the critical features of STAC is its format: simple JSON objects, which are both human-readable and machine-processable, ensuring ease of use and broad accessibility.\n",
    "\n",
    "A fundamental aspect of STAC's design is its hierarchical organization, comprising Catalogs, Collections, and Items. At the highest level, **Catalogs** serve as containers that organize and provide access to Collections and Items. **Collections** represent a group of Items that share common properties, metadata, and structure, typically representing a dataset or a series of datasets. Within Collections, **Items** are individual pieces of data, each containing specific geospatial information, such as location and time. Crucially, each Item includes links to its Assets, which are the files associated with the data, such as imagery, thumbnails, or other related resources. These **Assets** are integral to the utility of each Item, providing the data required for analysis and visualization. This structured approach ensures a consistent and intuitive way to access and manage vast amounts of geospatial data, making STAC an efficient tool for data providers and users.\n",
    "\n",
    "### Why is STAC Important?\n",
    "\n",
    "STAC is critical in the modern earth observation stack, particularly for large-scale environmental monitoring, disaster response, and risk assessment scenarios. Its standardized, community-backed approach facilitates:\n",
    "\n",
    "- **Efficient Data Discovery**: Simplifying the finding of relevant geospatial data across vast datasets.\n",
    "- **Interoperability**: Enabling different systems and tools to access and use geospatial data seamlessly.\n",
    "- **Scalability**: Supporting the management of increasingly large and complex datasets is a common challenge in geospatial analysis.\n",
    "- **Inclusivity and Collaboration**: STAC evolves through collective insights as a community-driven standard, ensuring it remains relevant and effective for various use cases.\n",
    "\n",
    "For organizations like the IFRC, STAC's capabilities are invaluable in rapidly accessing and analyzing data for humanitarian aid, disaster relief, and risk management purposes.\n",
    "\n",
    "### How Can I Learn More?\n",
    "\n",
    "To deepen your understanding of STAC and its applications:\n",
    "\n",
    "- **STAC Specification**: Dive into the official [STAC Specification](https://stacspec.org/) for detailed documentation and standards.\n",
    "- **STAC Index**: Explore the [STAC Index](https://stacindex.org/), a comprehensive resource listing STAC implementations, tools, and data catalogs, to get a better grasp of the ecosystem and its applications.\n",
    "- **Developer Best Practices**: For a more technical perspective, review the [STAC Best Practices](https://github.com/radiantearth/stac-spec/blob/master/best-practices.md) on GitHub, offering in-depth guidance for developers working with STAC.\n",
    "\n",
    "As we progress through this notebook, we'll explore applying STAC principles using eoAPI in practical scenarios."
   ]
  },
  {
   "attachments": {},
   "cell_type": "markdown",
   "metadata": {},
   "source": [
    "## COG: What is it? Why is it important? How can I learn more?\n",
    "\n",
    "### What is a COG (Cloud Optimized Geotiff)?\n",
    "\n",
    "A Cloud Optimized GeoTIFF (COG) is a variant of the TIFF image format tailored explicitly for optimized access over a network. A raster format specifies a particular layout of internal data within the GeoTIFF specification, allowing for efficient, subsetted, or aggregated access. This format is designed to enable efficient workflows on the cloud by leveraging HTTP GET range requests for just the parts of the file needed. COGs are regular GeoTIFF files, making them backward compatible with other geospatial software but with an internal organization that enables more efficient data access and processing.\n",
    "\n",
    "### Why is COG Important?\n",
    "\n",
    "COGs represent a significant advancement in geospatial data handling, primarily due to:\n",
    "\n",
    "- **Efficient Imagery Data Access**: COG-aware software can stream just the portion of data it needs, significantly improving processing times and enabling real-time workflows that were previously not possible.\n",
    "- **Internal Compression and Optimized Read Performance**: COGs are internally compressed, meaning the inner blocks in a GeoTIFF are already compressed. This internal compression allows COG readers to decompress only the specific portion of the file requested rather than the entire file.\n",
    "- **Reduced Duplication of Data**: COGs enable diverse software to access a single file online, reducing the need to copy and cache data.\n",
    "- **Legacy Compatibility**: Traditional GIS software can treat cloud-optimized geoTIFFs just like normal geoTIFFs, simplifying data management.\n",
    "\n",
    "### How Can I Learn More?\n",
    "\n",
    "For a deeper dive into COGs and to understand their implementation and usage:\n",
    "\n",
    "- **Official Documentation**: Visit the [COG website](https://www.cogeo.org/) for a comprehensive understanding of COGs and their implementation details.\n",
    "- **Cloud Native Geospatial Formats Guide**: The [Cloud Native Geospatial Formats Guide](https://guide.cloudnativegeo.org/) offers detailed insights into COGs, including advanced details and working examples to help you grasp the practical applications of this format.\n",
    "\n",
    "In the following sections, we'll explore the practical application of COGs in conjunction with eoAPI, focusing on how they can be utilized for efficient geospatial data management and visualization."
   ]
  },
  {
   "attachments": {},
   "cell_type": "markdown",
   "metadata": {},
   "source": [
    "## eoAPI: What is it? Why is it important? How can I learn more?\n",
    "\n",
    "### What is eoAPI?\n",
    "\n",
    "eoAPI is an open-source framework for accessing and utilizing Earth Observation (EO) data. It simplifies constructing a cloud-native EO infrastructure by providing sensible defaults for most EO and geospatial infrastructure needs. eoAPI is modular, allowing for easy customization to specific requirements. Its key features include:\n",
    "\n",
    "- **STAC Powered**: Utilizes a suite of STAC-focused technologies.\n",
    "- **Sensible Defaults**: Facilitates seamless deployment, configuration, and customization.\n",
    "- **Cloud Agnostic**: Capable of quick deployment and scaling of EO services anywhere.\n",
    "\n",
    "### Why is eoAPI Important?\n",
    "\n",
    "eoAPI addresses the challenge of making EO data easily discoverable, interoperable, ingestible, and optimized for integration into modern applications and decision-making tools. Simply put, it lowers the barrier of entry to earth observation data to a broader range of developers, scientists, and the general public. This is crucial for understanding our changing planet and maximizing the societal impact of EO data. eoAPI's framework supports end-to-end EO infrastructure, including data cataloging, searching, visualization, and access, making it a powerful tool for organizations like the IFRC in their mission-driven work.\n",
    "\n",
    "### How Can I Learn More?\n",
    "\n",
    "To explore eoAPI further:\n",
    "\n",
    "- **Official Documentation and Guides**: Visit [eoAPI's website](https://eoapi.dev/) for comprehensive documentation and guides on deploying and using the framework.\n",
    "- **GitHub Repository**: Check out the [eoAPI GitHub repository](https://github.com/developmentseed/eoapi) for source code, updates, and community contributions.\n",
    "\n",
    "We'll delve into effectively utilizing eoAPI with STAC and COGs as we proceed."
   ]
  },
  {
   "attachments": {},
   "cell_type": "markdown",
   "metadata": {},
   "source": [
    "## eoAPI in Action - Kahramanmaras Earthquakes\n",
    "\n",
    "### Background\n",
    "\n",
    "This section will review the different [eoAPI](https://github.com/developmentseed/eoAPI) services using the latest Open data from Maxar acquired for the M7.8 and M7.5 Kahramanmaras earthquakes in Turkey on February 6, 2023. For more information on the event, visit [USGS' article](https://www.usgs.gov/news/featured-story/m78-and-m75-kahramanmaras-earthquake-sequence-near-nurdagi-turkey-turkiye)\n",
    "\n",
    "Maxar provides pre and post-event high-resolution satellite imagery in support of emergency planning, risk assessment, monitoring of staging areas and emergency response, damage assessment, and recovery. These images are generated using the Maxar ARD pipeline, tiled on an organized grid in analysis-ready cloud-optimized formats.\n",
    "\n",
    "Maxar releases open data for select sudden-onset major crisis events. In addition to making the formatted COG data freely available on AWS, they also add static STAC metadata alongside the images. Having the STAC items already created makes ingestion into the PgSTAC database easy because we don't have to produce the items ourselves and read the images.\n",
    "\n",
    "To learn more about ingesting the Maxar OpenData STAC catalog into PgSTAC, see https://github.com/vincentsarago/MAXAR_opendata_to_pgstac. For IFRC, data ingestion to the Kubernetes cluster can be trigger via [GitHub actions](https://github.com/developmentseed/eoapi-risk/tree/main/.github/workflows) directly on the repository.\n",
    "\n",
    "### Structure of eoAPI in Action\n",
    "\n",
    "0. Setting Up\n",
    "1. How to query STAC\n",
    "    - How to query Collections\n",
    "    - How to query Items\n",
    "2. Find Items within a data range\n",
    "3. Visualizing an Asset\n",
    "4. Visualizing multiple Assets with Mosaics\n",
    "5. Comparing pre and post events Mosaics"
   ]
  },
  {
   "attachments": {},
   "cell_type": "markdown",
   "metadata": {},
   "source": [
    "### Setting Up\n",
    "\n",
    "Before we start querying the STAC endpoint, there are a few setup steps to ensure that our environment has all the necessary tools and libraries. This section will guide you through installing the required packages and importing essential modules.\n",
    "\n",
    "We must install two packages: **`httpx`** for making HTTP requests and **`ipyleaflet`** for interactive mapping in Jupyter notebooks.\n",
    "\n",
    "Run the following command in your Jupyter Notebook to install these packages:"
   ]
  },
  {
   "cell_type": "code",
   "execution_count": 38,
   "metadata": {},
   "outputs": [
    {
     "name": "stdout",
     "output_type": "stream",
     "text": [
      "Requirement already satisfied: httpx in /Users/zacdez/.pyenv/versions/3.10.5/lib/python3.10/site-packages (0.24.1)\n",
      "Requirement already satisfied: ipyleaflet in /Users/zacdez/.pyenv/versions/3.10.5/lib/python3.10/site-packages (0.17.3)\n",
      "Requirement already satisfied: certifi in /Users/zacdez/.pyenv/versions/3.10.5/lib/python3.10/site-packages (from httpx) (2023.5.7)\n",
      "Requirement already satisfied: httpcore<0.18.0,>=0.15.0 in /Users/zacdez/.pyenv/versions/3.10.5/lib/python3.10/site-packages (from httpx) (0.17.3)\n",
      "Requirement already satisfied: idna in /Users/zacdez/.pyenv/versions/3.10.5/lib/python3.10/site-packages (from httpx) (3.4)\n",
      "Requirement already satisfied: sniffio in /Users/zacdez/.pyenv/versions/3.10.5/lib/python3.10/site-packages (from httpx) (1.3.0)\n",
      "Requirement already satisfied: ipywidgets<9,>=7.6.0 in /Users/zacdez/.pyenv/versions/3.10.5/lib/python3.10/site-packages (from ipyleaflet) (8.1.0)\n",
      "Requirement already satisfied: traittypes<3,>=0.2.1 in /Users/zacdez/.pyenv/versions/3.10.5/lib/python3.10/site-packages (from ipyleaflet) (0.2.1)\n",
      "Requirement already satisfied: xyzservices>=2021.8.1 in /Users/zacdez/.pyenv/versions/3.10.5/lib/python3.10/site-packages (from ipyleaflet) (2023.7.0)\n",
      "Requirement already satisfied: branca>=0.5.0 in /Users/zacdez/.pyenv/versions/3.10.5/lib/python3.10/site-packages (from ipyleaflet) (0.6.0)\n",
      "Requirement already satisfied: jinja2 in /Users/zacdez/.pyenv/versions/3.10.5/lib/python3.10/site-packages (from branca>=0.5.0->ipyleaflet) (3.1.2)\n",
      "Requirement already satisfied: h11<0.15,>=0.13 in /Users/zacdez/.pyenv/versions/3.10.5/lib/python3.10/site-packages (from httpcore<0.18.0,>=0.15.0->httpx) (0.14.0)\n",
      "Requirement already satisfied: anyio<5.0,>=3.0 in /Users/zacdez/.pyenv/versions/3.10.5/lib/python3.10/site-packages (from httpcore<0.18.0,>=0.15.0->httpx) (3.7.1)\n",
      "Requirement already satisfied: comm>=0.1.3 in /Users/zacdez/.pyenv/versions/3.10.5/lib/python3.10/site-packages (from ipywidgets<9,>=7.6.0->ipyleaflet) (0.1.4)\n",
      "Requirement already satisfied: ipython>=6.1.0 in /Users/zacdez/.pyenv/versions/3.10.5/lib/python3.10/site-packages (from ipywidgets<9,>=7.6.0->ipyleaflet) (8.14.0)\n",
      "Requirement already satisfied: traitlets>=4.3.1 in /Users/zacdez/.pyenv/versions/3.10.5/lib/python3.10/site-packages (from ipywidgets<9,>=7.6.0->ipyleaflet) (5.9.0)\n",
      "Requirement already satisfied: widgetsnbextension~=4.0.7 in /Users/zacdez/.pyenv/versions/3.10.5/lib/python3.10/site-packages (from ipywidgets<9,>=7.6.0->ipyleaflet) (4.0.8)\n",
      "Requirement already satisfied: jupyterlab-widgets~=3.0.7 in /Users/zacdez/.pyenv/versions/3.10.5/lib/python3.10/site-packages (from ipywidgets<9,>=7.6.0->ipyleaflet) (3.0.8)\n",
      "Requirement already satisfied: exceptiongroup in /Users/zacdez/.pyenv/versions/3.10.5/lib/python3.10/site-packages (from anyio<5.0,>=3.0->httpcore<0.18.0,>=0.15.0->httpx) (1.1.1)\n",
      "Requirement already satisfied: backcall in /Users/zacdez/.pyenv/versions/3.10.5/lib/python3.10/site-packages (from ipython>=6.1.0->ipywidgets<9,>=7.6.0->ipyleaflet) (0.2.0)\n",
      "Requirement already satisfied: decorator in /Users/zacdez/.pyenv/versions/3.10.5/lib/python3.10/site-packages (from ipython>=6.1.0->ipywidgets<9,>=7.6.0->ipyleaflet) (5.1.1)\n",
      "Requirement already satisfied: jedi>=0.16 in /Users/zacdez/.pyenv/versions/3.10.5/lib/python3.10/site-packages (from ipython>=6.1.0->ipywidgets<9,>=7.6.0->ipyleaflet) (0.19.0)\n",
      "Requirement already satisfied: matplotlib-inline in /Users/zacdez/.pyenv/versions/3.10.5/lib/python3.10/site-packages (from ipython>=6.1.0->ipywidgets<9,>=7.6.0->ipyleaflet) (0.1.6)\n",
      "Requirement already satisfied: pickleshare in /Users/zacdez/.pyenv/versions/3.10.5/lib/python3.10/site-packages (from ipython>=6.1.0->ipywidgets<9,>=7.6.0->ipyleaflet) (0.7.5)\n",
      "Requirement already satisfied: prompt-toolkit!=3.0.37,<3.1.0,>=3.0.30 in /Users/zacdez/.pyenv/versions/3.10.5/lib/python3.10/site-packages (from ipython>=6.1.0->ipywidgets<9,>=7.6.0->ipyleaflet) (3.0.39)\n",
      "Requirement already satisfied: pygments>=2.4.0 in /Users/zacdez/.pyenv/versions/3.10.5/lib/python3.10/site-packages (from ipython>=6.1.0->ipywidgets<9,>=7.6.0->ipyleaflet) (2.16.1)\n",
      "Requirement already satisfied: stack-data in /Users/zacdez/.pyenv/versions/3.10.5/lib/python3.10/site-packages (from ipython>=6.1.0->ipywidgets<9,>=7.6.0->ipyleaflet) (0.6.2)\n",
      "Requirement already satisfied: pexpect>4.3 in /Users/zacdez/.pyenv/versions/3.10.5/lib/python3.10/site-packages (from ipython>=6.1.0->ipywidgets<9,>=7.6.0->ipyleaflet) (4.8.0)\n",
      "Requirement already satisfied: appnope in /Users/zacdez/.pyenv/versions/3.10.5/lib/python3.10/site-packages (from ipython>=6.1.0->ipywidgets<9,>=7.6.0->ipyleaflet) (0.1.3)\n",
      "Requirement already satisfied: MarkupSafe>=2.0 in /Users/zacdez/.pyenv/versions/3.10.5/lib/python3.10/site-packages (from jinja2->branca>=0.5.0->ipyleaflet) (2.1.3)\n",
      "Requirement already satisfied: parso<0.9.0,>=0.8.3 in /Users/zacdez/.pyenv/versions/3.10.5/lib/python3.10/site-packages (from jedi>=0.16->ipython>=6.1.0->ipywidgets<9,>=7.6.0->ipyleaflet) (0.8.3)\n",
      "Requirement already satisfied: ptyprocess>=0.5 in /Users/zacdez/.pyenv/versions/3.10.5/lib/python3.10/site-packages (from pexpect>4.3->ipython>=6.1.0->ipywidgets<9,>=7.6.0->ipyleaflet) (0.7.0)\n",
      "Requirement already satisfied: wcwidth in /Users/zacdez/.pyenv/versions/3.10.5/lib/python3.10/site-packages (from prompt-toolkit!=3.0.37,<3.1.0,>=3.0.30->ipython>=6.1.0->ipywidgets<9,>=7.6.0->ipyleaflet) (0.2.6)\n",
      "Requirement already satisfied: executing>=1.2.0 in /Users/zacdez/.pyenv/versions/3.10.5/lib/python3.10/site-packages (from stack-data->ipython>=6.1.0->ipywidgets<9,>=7.6.0->ipyleaflet) (1.2.0)\n",
      "Requirement already satisfied: asttokens>=2.1.0 in /Users/zacdez/.pyenv/versions/3.10.5/lib/python3.10/site-packages (from stack-data->ipython>=6.1.0->ipywidgets<9,>=7.6.0->ipyleaflet) (2.2.1)\n",
      "Requirement already satisfied: pure-eval in /Users/zacdez/.pyenv/versions/3.10.5/lib/python3.10/site-packages (from stack-data->ipython>=6.1.0->ipywidgets<9,>=7.6.0->ipyleaflet) (0.2.2)\n",
      "Requirement already satisfied: six in /Users/zacdez/.pyenv/versions/3.10.5/lib/python3.10/site-packages (from asttokens>=2.1.0->stack-data->ipython>=6.1.0->ipywidgets<9,>=7.6.0->ipyleaflet) (1.16.0)\n",
      "\n",
      "\u001b[1m[\u001b[0m\u001b[34;49mnotice\u001b[0m\u001b[1;39;49m]\u001b[0m\u001b[39;49m A new release of pip is available: \u001b[0m\u001b[31;49m23.1.2\u001b[0m\u001b[39;49m -> \u001b[0m\u001b[32;49m23.3.1\u001b[0m\n",
      "\u001b[1m[\u001b[0m\u001b[34;49mnotice\u001b[0m\u001b[1;39;49m]\u001b[0m\u001b[39;49m To update, run: \u001b[0m\u001b[32;49mpip install --upgrade pip\u001b[0m\n"
     ]
    }
   ],
   "source": [
    "!python -m pip install httpx ipyleaflet"
   ]
  },
  {
   "attachments": {},
   "cell_type": "markdown",
   "metadata": {},
   "source": [
    "This command uses pip, Python's package installer, to download and install the **`httpx`** and **`ipyleaflet`** packages from the Python Package Index (PyPI).\n",
    "\n",
    "### Importing Modules\n",
    "\n",
    "After installing the necessary packages, we need to import some standard and installed modules that will be used throughout our queries. The following Python code imports these modules:"
   ]
  },
  {
   "cell_type": "code",
   "execution_count": 39,
   "metadata": {},
   "outputs": [],
   "source": [
    "from datetime import datetime\n",
    "import json\n",
    "\n",
    "import httpx\n",
    "import ipyleaflet"
   ]
  },
  {
   "attachments": {},
   "cell_type": "markdown",
   "metadata": {},
   "source": [
    "- **`datetime`**: This module from Python's standard library works with dates and times. It's especially useful when dealing with time-based geospatial data.\n",
    "- **`json`**: This module is used for JSON data handling. Since responses from STAC endpoints are typically in JSON format, this module is crucial for parsing and processing these responses.\n",
    "- **`httpx`**: A powerful and user-friendly HTTP client for Python. We will use it to send requests to the STAC endpoint.\n",
    "- **`ipyleaflet`**: A library for creating interactive maps in Jupyter notebooks. It's beneficial for visualizing geospatial data on a map.\n",
    "\n",
    "Ensure that all imports run successfully. Double-check that the required packages are installed correctly if there are any issues."
   ]
  },
  {
   "attachments": {},
   "cell_type": "markdown",
   "metadata": {},
   "source": [
    "### How to Query STAC\n",
    "\n",
    "The SpatioTemporal Asset Catalog (STAC) provides a standardized way to expose geospatial data and metadata. This section will explore how to query the STAC endpoint, specifically for the International Federation of Red Cross and Red Crescent Societies (IFRC).\n",
    "\n",
    "The eoAPI STAC endpoint for IFRC is available at:"
   ]
  },
  {
   "cell_type": "code",
   "execution_count": 40,
   "metadata": {},
   "outputs": [],
   "source": [
    "stac_endpoint = \"https://eoapi.ifrc-risk.k8s.labs.ds.io/stac\""
   ]
  },
  {
   "attachments": {},
   "cell_type": "markdown",
   "metadata": {},
   "source": [
    "This endpoint is your gateway to accessing various geospatial datasets and metadata associated with IFRC's initiatives.\n",
    "\n",
    "#### How to Query STAC Collections\n",
    "\n",
    "Collections in STAC represent higher-level groupings under which items (geospatial datasets) are associated. These collections are folders containing related items. To start querying, we'll focus on these collections to understand the types of data available.\n",
    "\n",
    "To query collections, we can use `httpx` to use a HTTP GET request to the **`/collections`** endpoint. To give you an overview of the STAC specification, here's what the first Collection of the requests looks like in its JSON format:"
   ]
  },
  {
   "cell_type": "code",
   "execution_count": 41,
   "metadata": {},
   "outputs": [
    {
     "data": {
      "text/plain": [
       "{'id': 'MAXAR_Hurricane_Fiona_9_19_2022',\n",
       " 'type': 'Collection',\n",
       " 'links': [{'rel': 'items',\n",
       "   'type': 'application/geo+json',\n",
       "   'href': 'https://eoapi.ifrc-risk.k8s.labs.ds.io/stac/collections/MAXAR_Hurricane_Fiona_9_19_2022/items'},\n",
       "  {'rel': 'parent',\n",
       "   'type': 'application/json',\n",
       "   'href': 'https://eoapi.ifrc-risk.k8s.labs.ds.io/stac/'},\n",
       "  {'rel': 'root',\n",
       "   'type': 'application/json',\n",
       "   'href': 'https://eoapi.ifrc-risk.k8s.labs.ds.io/stac/'},\n",
       "  {'rel': 'self',\n",
       "   'type': 'application/json',\n",
       "   'href': 'https://eoapi.ifrc-risk.k8s.labs.ds.io/stac/collections/MAXAR_Hurricane_Fiona_9_19_2022'}],\n",
       " 'title': 'Hurricane Fiona',\n",
       " 'extent': {'spatial': {'bbox': [[-71.187593,\n",
       "     17.954147,\n",
       "     -63.439022,\n",
       "     44.773025],\n",
       "    [-69.099169, 18.742458604518692, -68.99159713983063, 19.012464],\n",
       "    [-66.64272487919193, 17.954147, -66.505857, 18.07003790570068],\n",
       "    [-66.80458743674043, 17.965385273422456, -66.64554177695827, 18.304871],\n",
       "    [-66.80104540829352, 17.966338837525004, -66.65466636288615, 18.304871],\n",
       "    [-66.6747369828142, 17.955747336188054, -66.5299712774829, 18.304871],\n",
       "    [-66.63229909722203, 17.954147, -66.505857, 18.0694680258092],\n",
       "    [-63.696920797028596, 44.617236, -63.50264938375682, 44.77191280066033],\n",
       "    [-66.747314, 18.215088, -66.65271, 18.304871],\n",
       "    [-66.839351, 17.976402135668007, -66.77699566199256, 18.078925],\n",
       "    [-66.76894252644114,\n",
       "     17.961091462486046,\n",
       "     -66.5934037839884,\n",
       "     18.076827519816593],\n",
       "    [-71.187593, 21.422357, -71.087044, 21.516045],\n",
       "    [-63.720186, 44.617236, -63.439022, 44.773025],\n",
       "    [-66.75435718688048,\n",
       "     17.9546182537576,\n",
       "     -66.51706902912508,\n",
       "     18.07581454774256],\n",
       "    [-66.839351, 17.965462087815848, -66.64482742070584, 18.078925],\n",
       "    [-69.099169, 18.737343302382776, -68.9106661754657, 19.012464],\n",
       "    [-68.94144366692778, 18.734463, -68.848803, 19.0044055005562]]},\n",
       "  'temporal': {'interval': [['2022-02-07T15:18:25Z',\n",
       "     '2022-09-29T15:26:07Z']]}},\n",
       " 'license': 'CC-BY-NC-4.0',\n",
       " 'description': \"Maxar OpenData | Hurricane Fiona made landfall in Puerto Rico on Sunday, September 18, 2022. By Tuesday, September 20, 2022, 60% of Puerto Rico is without water service and only 20% of residents have power, according to the government's emergency portal system. U.S. President Joe Biden issued an emergency declaration.\",\n",
       " 'stac_version': '1.0.0'}"
      ]
     },
     "execution_count": 41,
     "metadata": {},
     "output_type": "execute_result"
    }
   ],
   "source": [
    "collections = httpx.get(f\"{stac_endpoint}/collections\").json()\n",
    "collections[\"collections\"][0]"
   ]
  },
  {
   "attachments": {},
   "cell_type": "markdown",
   "metadata": {},
   "source": [
    "However, there are many more collections available through the STAC endpoint. We can list the available collections by their `id`:"
   ]
  },
  {
   "cell_type": "code",
   "execution_count": 42,
   "metadata": {},
   "outputs": [
    {
     "data": {
      "text/plain": [
       "['MAXAR_Hurricane_Fiona_9_19_2022',\n",
       " 'MAXAR_Hurricane_Ian_9_26_2022',\n",
       " 'MAXAR_Marshall_Fire_21_Update',\n",
       " 'MAXAR_Emilia_Romagna_Italy_flooding_may23',\n",
       " 'MAXAR_Gambia_flooding_8_11_2022',\n",
       " 'MAXAR_Hurricane_Idalia_Florida_Aug23',\n",
       " 'MAXAR_India_Floods_Oct_2023',\n",
       " 'MAXAR_Indonesia_Earthquake22',\n",
       " 'MAXAR_Kahramanmaras_turkey_earthquake_23',\n",
       " 'MAXAR_Kalehe_DRC_Flooding_5_8_23',\n",
       " 'MAXAR_Libya_Floods_Sept_2023',\n",
       " 'MAXAR_pakistan_flooding22',\n",
       " 'MAXAR_Maui_Hawaii_fires_Aug_23',\n",
       " 'MAXAR_McDougallCreekWildfire_BC_Canada_Aug_23',\n",
       " 'MAXAR_Morocco_Earthquake_Sept_2023',\n",
       " 'MAXAR_NWT_Canada_Aug_23',\n",
       " 'MAXAR_Nepal_Earthquake_Nov_2023',\n",
       " 'MAXAR_New_Zealand_Flooding23',\n",
       " 'MAXAR_Sudan_flooding_8_22_2022',\n",
       " 'MAXAR_afghanistan_earthquake22',\n",
       " 'MAXAR_cyclone_emnati22',\n",
       " 'MAXAR_ghana_explosion22',\n",
       " 'MAXAR_kentucky_flooding_7_29_2022',\n",
       " 'MAXAR_shovi_georgia_landslide_8Aug23',\n",
       " 'MAXAR_southafrica_flooding22',\n",
       " 'MAXAR_tonga_volcano21',\n",
       " 'MAXAR_volcano_indonesia21',\n",
       " 'MAXAR_yellowstone_flooding22',\n",
       " 'noaa-emergency-response',\n",
       " 'MAXAR_BayofBengal_Cyclone_Mocha_May_23']"
      ]
     },
     "execution_count": 42,
     "metadata": {},
     "output_type": "execute_result"
    }
   ],
   "source": [
    "[c['id'] for c in collections[\"collections\"]]"
   ]
  },
  {
   "attachments": {},
   "cell_type": "markdown",
   "metadata": {},
   "source": [
    "For the following steps, we will be using the Kahramanmaras Earthquake collection. \n",
    "\n",
    "A key feature of STAC is spatial and temporal extents. It is slightly intricate, but a collection can have multiple spatial and temporal extents. By convention, the first extent is supposed to encapsulate all sub-extents. For the temporal extents, the first data interval must cover the entire date interval of the sub-extents. For spatial extents, the first bounding box must cover all other bounding boxes for spatial extents.\n",
    "\n",
    "However, the Maxar Collections do not follow this convention for spatial extents. Let's illustrate the structure for spatial extents and display them on a map:"
   ]
  },
  {
   "cell_type": "code",
   "execution_count": 43,
   "metadata": {},
   "outputs": [
    {
     "name": "stdout",
     "output_type": "stream",
     "text": [
      "Number of spatial extents: 77\n",
      "First spatial extent bounding box: \n",
      " [35.302597, 35.875122, 40.310497, 38.47292570695286]\n"
     ]
    }
   ],
   "source": [
    "collection_id = \"MAXAR_Kahramanmaras_turkey_earthquake_23\"\n",
    "\n",
    "collection_info = httpx.get(f\"{stac_endpoint}/collections/{collection_id}\").json()\n",
    "bboxes = collection_info[\"extent\"][\"spatial\"][\"bbox\"]\n",
    "print(f\"Number of spatial extents: {len(bboxes)}\")\n",
    "print(f\"First spatial extent bounding box: \\n {bboxes[0]}\")"
   ]
  },
  {
   "cell_type": "code",
   "execution_count": 44,
   "metadata": {},
   "outputs": [
    {
     "data": {
      "application/vnd.jupyter.widget-view+json": {
       "model_id": "35f38477e9bf43dd975e90e4c2b3481b",
       "version_major": 2,
       "version_minor": 0
      },
      "text/plain": [
       "Map(center=[37.17402385347643, 37.806546999999995], controls=(ZoomControl(options=['position', 'zoom_in_text',…"
      ]
     },
     "execution_count": 44,
     "metadata": {},
     "output_type": "execute_result"
    }
   ],
   "source": [
    "geojson = {\n",
    "    \"type\": \"FeatureCollection\",\n",
    "    \"features\": [\n",
    "        {\n",
    "            'type': 'Feature',\n",
    "            'geometry': {\n",
    "                'type': 'Polygon',\n",
    "                'coordinates': [[\n",
    "                    [bbox[0], bbox[1]],\n",
    "                    [bbox[2], bbox[1]],\n",
    "                    [bbox[2], bbox[3]],\n",
    "                    [bbox[0], bbox[3]],\n",
    "                    [bbox[0], bbox[1]],\n",
    "                ]]\n",
    "            },\n",
    "            'properties': {}\n",
    "        }\n",
    "        for bbox in bboxes\n",
    "    ]\n",
    "}\n",
    "\n",
    "mainbbox = collection_info[\"extent\"][\"spatial\"][\"bbox\"][0]\n",
    "\n",
    "m = ipyleaflet.leaflet.Map(\n",
    "    center=((mainbbox[1] + mainbbox[3]) / 2,(mainbbox[0] + mainbbox[2]) / 2),\n",
    "    zoom=7\n",
    ")\n",
    "\n",
    "geo_json = ipyleaflet.leaflet.GeoJSON(data=geojson)\n",
    "m.add_layer(geo_json)\n",
    "m"
   ]
  },
  {
   "attachments": {},
   "cell_type": "markdown",
   "metadata": {},
   "source": [
    "Now, let's take a look into the temporal extent of the collection. In the case of Maxar's collections, there is a single temporal extent:"
   ]
  },
  {
   "cell_type": "code",
   "execution_count": 45,
   "metadata": {},
   "outputs": [
    {
     "name": "stdout",
     "output_type": "stream",
     "text": [
      "Number of temporal extents: 1\n",
      "Temporal extent: \n",
      " ['2021-02-28T08:10:22Z', '2023-03-11T08:29:15Z']\n"
     ]
    }
   ],
   "source": [
    "temporal_extents = collection_info[\"extent\"][\"temporal\"]['interval']\n",
    "print(f\"Number of temporal extents: {len(temporal_extents)}\")\n",
    "print(f\"Temporal extent: \\n {temporal_extents[0]}\")"
   ]
  },
  {
   "attachments": {},
   "cell_type": "markdown",
   "metadata": {},
   "source": [
    "#### How to Query STAC Items\n",
    "\n",
    "Querying items in STAC (SpatioTemporal Asset Catalog) involves accessing individual datasets within a collection. Each item in a STAC collection represents a distinct spatiotemporal asset, such as a satellite image or geographical survey data. These items are the fundamental units of STAC, containing metadata and links to the actual data.\n",
    "\n",
    "To begin querying items, we must use the `id` of the collection under which the items are defined. To query the Kahramanmaras collection's items, we will use the following URL:"
   ]
  },
  {
   "cell_type": "code",
   "execution_count": 47,
   "metadata": {},
   "outputs": [
    {
     "data": {
      "text/plain": [
       "'https://eoapi.ifrc-risk.k8s.labs.ds.io/stac/collections/MAXAR_Kahramanmaras_turkey_earthquake_23/items'"
      ]
     },
     "execution_count": 47,
     "metadata": {},
     "output_type": "execute_result"
    }
   ],
   "source": [
    "collection_id = \"MAXAR_Kahramanmaras_turkey_earthquake_23\"\n",
    "turkey_items_url = f\"{stac_endpoint}/collections/{collection_id}/items\"\n",
    "turkey_items_url"
   ]
  },
  {
   "attachments": {},
   "cell_type": "markdown",
   "metadata": {},
   "source": [
    " To provide a practical insight into the STAC specification and how it structures item data, let's examine the first item returned from a typical request:"
   ]
  },
  {
   "cell_type": "code",
   "execution_count": 59,
   "metadata": {},
   "outputs": [
    {
     "name": "stdout",
     "output_type": "stream",
     "text": [
      "Item attributes: \n",
      " id, bbox, type, links, assets, geometry, collection, properties, stac_version, stac_extensions\n",
      "{\n",
      "    \"id\": \"37_031133210001_10300100E49E8000\",\n",
      "    \"bbox\": [\n",
      "        36.387245559111236,\n",
      "        36.092041667396806,\n",
      "        36.42079643694594,\n",
      "        36.11834923545021\n",
      "    ],\n",
      "    \"type\": \"Feature\",\n",
      "    \"links\": [\n",
      "        {\n",
      "            \"rel\": \"collection\",\n",
      "            \"type\": \"application/json\",\n",
      "            \"href\": \"https://eoapi.ifrc-risk.k8s.labs.ds.io/stac/collections/MAXAR_Kahramanmaras_turkey_earthquake_23\"\n",
      "        },\n",
      "        {\n",
      "            \"rel\": \"parent\",\n",
      "            \"type\": \"application/json\",\n",
      "            \"href\": \"https://eoapi.ifrc-risk.k8s.labs.ds.io/stac/collections/MAXAR_Kahramanmaras_turkey_earthquake_23\"\n",
      "        },\n",
      "        {\n",
      "            \"rel\": \"root\",\n",
      "            \"type\": \"application/json\",\n",
      "            \"href\": \"https://eoapi.ifrc-risk.k8s.labs.ds.io/stac/\"\n",
      "        },\n",
      "        {\n",
      "            \"rel\": \"self\",\n",
      "            \"type\": \"application/geo+json\",\n",
      "            \"href\": \"https://eoapi.ifrc-risk.k8s.labs.ds.io/stac/collections/MAXAR_Kahramanmaras_turkey_earthquake_23/items/37_031133210001_10300100E49E8000\"\n",
      "        }\n",
      "    ],\n",
      "    \"assets\": {\n",
      "        \"visual\": {\n",
      "            \"href\": \"https://maxar-opendata.s3.amazonaws.com/events/Kahramanmaras-turkey-earthquake-23/ard/37/031133210001/2023-03-11/10300100E49E8000-visual.tif\",\n",
      "            \"type\": \"image/tiff; application=geotiff; profile=cloud-optimized\",\n",
      "            \"roles\": [\n",
      "                \"visual\"\n",
      "            ],\n",
      "            \"title\": \"Visual Image\",\n",
      "            \"eo:bands\": [\n",
      "                {\n",
      "                    \"name\": \"BAND_R\",\n",
      "                    \"common_name\": \"red\",\n",
      "                    \"description\": \"Red\"\n",
      "                },\n",
      "                {\n",
      "                    \"name\": \"BAND_G\",\n",
      "                    \"common_name\": \"green\",\n",
      "                    \"description\": \"Green\"\n",
      "                },\n",
      "                {\n",
      "                    \"name\": \"BAND_B\",\n",
      "                    \"common_name\": \"blue\",\n",
      "                    \"description\": \"Blue\"\n",
      "                }\n",
      "            ],\n",
      "            \"proj:bbox\": [\n",
      "                264843.75,\n",
      "                3994843.75,\n",
      "                270156.25,\n",
      "                4000156.25\n",
      "            ],\n",
      "            \"proj:shape\": [\n",
      "                17408,\n",
      "                17408\n",
      "            ],\n",
      "            \"proj:transform\": [\n",
      "                0.30517578125,\n",
      "                0.0,\n",
      "                264843.75,\n",
      "                0.0,\n",
      "                -0.30517578125,\n",
      "                4000156.25,\n",
      "                0.0,\n",
      "                0.0,\n",
      "                1.0\n",
      "            ]\n",
      "        },\n",
      "        \"data-mask\": {\n",
      "            \"href\": \"https://maxar-opendata.s3.amazonaws.com/events/Kahramanmaras-turkey-earthquake-23/ard/37/031133210001/2023-03-11/10300100E49E8000-data-mask.gpkg\",\n",
      "            \"type\": \"application/geopackage+sqlite3\",\n",
      "            \"roles\": [\n",
      "                \"data-mask\"\n",
      "            ],\n",
      "            \"title\": \"Data Mask\"\n",
      "        },\n",
      "        \"ms_analytic\": {\n",
      "            \"href\": \"https://maxar-opendata.s3.amazonaws.com/events/Kahramanmaras-turkey-earthquake-23/ard/37/031133210001/2023-03-11/10300100E49E8000-ms.tif\",\n",
      "            \"type\": \"image/tiff; application=geotiff; profile=cloud-optimized\",\n",
      "            \"roles\": [\n",
      "                \"data\"\n",
      "            ],\n",
      "            \"title\": \"Multispectral Image\",\n",
      "            \"eo:bands\": [\n",
      "                {\n",
      "                    \"name\": \"BAND_C\",\n",
      "                    \"common_name\": \"coastal\",\n",
      "                    \"description\": \"Coastal Blue\"\n",
      "                },\n",
      "                {\n",
      "                    \"name\": \"BAND_B\",\n",
      "                    \"common_name\": \"blue\",\n",
      "                    \"description\": \"Blue\"\n",
      "                },\n",
      "                {\n",
      "                    \"name\": \"BAND_G\",\n",
      "                    \"common_name\": \"green\",\n",
      "                    \"description\": \"Green\"\n",
      "                },\n",
      "                {\n",
      "                    \"name\": \"BAND_Y\",\n",
      "                    \"common_name\": \"yellow\",\n",
      "                    \"description\": \"Yellow\"\n",
      "                },\n",
      "                {\n",
      "                    \"name\": \"BAND_R\",\n",
      "                    \"common_name\": \"red\",\n",
      "                    \"description\": \"Red\"\n",
      "                },\n",
      "                {\n",
      "                    \"name\": \"BAND_RE\",\n",
      "                    \"common_name\": \"rededge\",\n",
      "                    \"description\": \"Red Edge 1\"\n",
      "                },\n",
      "                {\n",
      "                    \"name\": \"BAND_N\",\n",
      "                    \"common_name\": \"nir08\",\n",
      "                    \"description\": \"Near Infrared 1\"\n",
      "                },\n",
      "                {\n",
      "                    \"name\": \"BAND_N2\",\n",
      "                    \"common_name\": \"nir09\",\n",
      "                    \"description\": \"Near Infrared 2\"\n",
      "                }\n",
      "            ],\n",
      "            \"proj:bbox\": [\n",
      "                264843.75,\n",
      "                3994843.75,\n",
      "                270156.25,\n",
      "                4000156.25\n",
      "            ],\n",
      "            \"proj:shape\": [\n",
      "                2779,\n",
      "                2779\n",
      "            ],\n",
      "            \"proj:transform\": [\n",
      "                1.9116588700971573,\n",
      "                0.0,\n",
      "                264843.75,\n",
      "                0.0,\n",
      "                -1.9116588700971573,\n",
      "                4000156.25,\n",
      "                0.0,\n",
      "                0.0,\n",
      "                1.0\n",
      "            ]\n",
      "        },\n",
      "        \"pan_analytic\": {\n",
      "            \"href\": \"https://maxar-opendata.s3.amazonaws.com/events/Kahramanmaras-turkey-earthquake-23/ard/37/031133210001/2023-03-11/10300100E49E8000-pan.tif\",\n",
      "            \"type\": \"image/tiff; application=geotiff; profile=cloud-optimized\",\n",
      "            \"roles\": [\n",
      "                \"data\"\n",
      "            ],\n",
      "            \"title\": \"Panchromatic Image\",\n",
      "            \"eo:bands\": [\n",
      "                {\n",
      "                    \"name\": \"BAND_P\",\n",
      "                    \"description\": \"Pan\"\n",
      "                }\n",
      "            ],\n",
      "            \"proj:bbox\": [\n",
      "                264843.75,\n",
      "                3994843.75,\n",
      "                270156.25,\n",
      "                4000156.25\n",
      "            ],\n",
      "            \"proj:shape\": [\n",
      "                11116,\n",
      "                11116\n",
      "            ],\n",
      "            \"proj:transform\": [\n",
      "                0.4779147175242893,\n",
      "                0.0,\n",
      "                264843.75,\n",
      "                0.0,\n",
      "                -0.4779147175242893,\n",
      "                4000156.25,\n",
      "                0.0,\n",
      "                0.0,\n",
      "                1.0\n",
      "            ]\n",
      "        }\n",
      "    },\n",
      "    \"geometry\": {\n",
      "        \"type\": \"Polygon\",\n",
      "        \"coordinates\": [\n",
      "            [\n",
      "                [\n",
      "                    36.387245559111236,\n",
      "                    36.11762172115687\n",
      "                ],\n",
      "                [\n",
      "                    36.38807914445892,\n",
      "                    36.09246165938945\n",
      "                ],\n",
      "                [\n",
      "                    36.40855030738972,\n",
      "                    36.09229578729594\n",
      "                ],\n",
      "                [\n",
      "                    36.420731654920246,\n",
      "                    36.092041667396806\n",
      "                ],\n",
      "                [\n",
      "                    36.42079643694594,\n",
      "                    36.11834923545021\n",
      "                ],\n",
      "                [\n",
      "                    36.387245559111236,\n",
      "                    36.11762172115687\n",
      "                ]\n",
      "            ]\n",
      "        ]\n",
      "    },\n",
      "    \"collection\": \"MAXAR_Kahramanmaras_turkey_earthquake_23\",\n",
      "    \"properties\": {\n",
      "        \"gsd\": 0.48,\n",
      "        \"quadkey\": \"031133210001\",\n",
      "        \"datetime\": \"2023-03-11T08:29:15Z\",\n",
      "        \"platform\": \"WV02\",\n",
      "        \"utm_zone\": 37,\n",
      "        \"grid:code\": \"MXRA-Z37-031133210001\",\n",
      "        \"proj:bbox\": [\n",
      "            264843.75,\n",
      "            3997237.548828125,\n",
      "            267866.2109375,\n",
      "            4000156.25\n",
      "        ],\n",
      "        \"proj:epsg\": 32637,\n",
      "        \"catalog_id\": \"10300100E49E8000\",\n",
      "        \"view:azimuth\": 175.5,\n",
      "        \"proj:geometry\": {\n",
      "            \"type\": \"Polygon\",\n",
      "            \"coordinates\": [\n",
      "                [\n",
      "                    [\n",
      "                        264843.75,\n",
      "                        4000156.25\n",
      "                    ],\n",
      "                    [\n",
      "                        264843.75,\n",
      "                        3997362.6708984375\n",
      "                    ],\n",
      "                    [\n",
      "                        266686.70654296875,\n",
      "                        3997294.921875\n",
      "                    ],\n",
      "                    [\n",
      "                        267782.89794921875,\n",
      "                        3997237.548828125\n",
      "                    ],\n",
      "                    [\n",
      "                        267866.2109375,\n",
      "                        4000156.25\n",
      "                    ],\n",
      "                    [\n",
      "                        264843.75,\n",
      "                        4000156.25\n",
      "                    ]\n",
      "                ]\n",
      "            ]\n",
      "        },\n",
      "        \"tile:data_area\": 8.5,\n",
      "        \"view:off_nadir\": 12.4,\n",
      "        \"tile:clouds_area\": 0.0,\n",
      "        \"view:sun_azimuth\": 152.0,\n",
      "        \"view:sun_elevation\": 46.5,\n",
      "        \"tile:clouds_percent\": 0,\n",
      "        \"ard_metadata_version\": \"0.0.1\",\n",
      "        \"view:incidence_angle\": 76.1\n",
      "    },\n",
      "    \"stac_version\": \"1.0.0\",\n",
      "    \"stac_extensions\": [\n",
      "        \"https://stac-extensions.github.io/view/v1.0.0/schema.json\",\n",
      "        \"https://stac-extensions.github.io/projection/v1.0.0/schema.json\",\n",
      "        \"https://stac-extensions.github.io/eo/v1.0.0/schema.json\",\n",
      "        \"https://stac-extensions.github.io/raster/v1.1.0/schema.json\",\n",
      "        \"https://stac-extensions.github.io/grid/v1.0.0/schema.json\"\n",
      "    ]\n",
      "}\n"
     ]
    }
   ],
   "source": [
    "items = httpx.get(turkey_items_url).json() \n",
    "print(f\"Item attributes: \\n {', '.join(items['features'][0].keys())}\")\n",
    "print(json.dumps(items['features'][0], indent=4))"
   ]
  },
  {
   "attachments": {},
   "cell_type": "markdown",
   "metadata": {},
   "source": [
    "For our purposes, we are focusing on the essential components of a STAC item. Here's a concise description of the key elements that are most relevant:\n",
    "\n",
    "- ID (`id`): This is the unique identifier of the STAC item, crucial for referencing and retrieving the specific asset within its collection.\n",
    "- Bounding Box (`bbox`): This field defines the geographical bounds of the item, typically as an array representing the minimum and maximum coordinates (longitude and latitude) that encompass the asset.\n",
    "- Properties (`properties`): This segment contains important metadata about the item, such as the acquisition date, sensor type, and other descriptive information specific to the asset.\n",
    "- Links (`links`): Links are an array of objects that provide hyperlinks related to the item. These links can direct to the item itself, its parent collection, related items, and other URLs for data access or further details.\n",
    "- Assets (`assets`): Assets are pointers to the actual data files associated with the item, such as images or data files. They contain URLs and metadata for each file, enabling access to the spatial data.\n",
    "\n",
    "While these are the key components for our analysis, it's important to note that there are additional elements in the STAC item output, such as the STAC version (`stac_version`) and STAC extensions (`stac_extensions`). These provide information about the version of the STAC specification used and any extensions enabled for the item, respectively. "
   ]
  },
  {
   "attachments": {},
   "cell_type": "markdown",
   "metadata": {},
   "source": [
    "Before diving into more advanced item queries, let's get a sens of the number of items within the collection. `STAC-FastAPI` will only return the first 10 items of collection by default:"
   ]
  },
  {
   "cell_type": "code",
   "execution_count": 64,
   "metadata": {},
   "outputs": [
    {
     "name": "stdout",
     "output_type": "stream",
     "text": [
      "Returned Items in JSON: 10\n"
     ]
    }
   ],
   "source": [
    "items = httpx.get(turkey_items_url).json()\n",
    "print(f\"Returned Items in JSON: {len(items['features'])}\")"
   ]
  },
  {
   "attachments": {},
   "cell_type": "markdown",
   "metadata": {},
   "source": [
    "To retrieve the JSON of every item, we must incorporate the paging mechanism of `STAC-FastAPI` with the `limit` parameter (*the query can take a few minutes given there are 2115 items in the collection!*):\n",
    "\n",
    "**TODO: Shorten time. Takes more than 15m right now...**"
   ]
  },
  {
   "cell_type": "code",
   "execution_count": 66,
   "metadata": {},
   "outputs": [],
   "source": [
    "turkey_items = []\n",
    "\n",
    "while True:\n",
    "    items = httpx.get(turkey_items_url, params={\"limit\": 200}).json()\n",
    "    \n",
    "    turkey_items.extend(items[\"features\"])\n",
    "    next_link = list(filter(lambda link: link[\"rel\"] == \"next\", items[\"links\"]))\n",
    "    if next_link:\n",
    "        url = next_link[0][\"href\"]\n",
    "    else:\n",
    "        break\n",
    "\n",
    "print(f\"Returned Items in JSON: {len(items['features'])}\")"
   ]
  }
 ],
 "metadata": {
  "kernelspec": {
   "display_name": "Python 3",
   "language": "python",
   "name": "python3"
  },
  "language_info": {
   "codemirror_mode": {
    "name": "ipython",
    "version": 3
   },
   "file_extension": ".py",
   "mimetype": "text/x-python",
   "name": "python",
   "nbconvert_exporter": "python",
   "pygments_lexer": "ipython3",
   "version": "3.10.5"
  },
  "orig_nbformat": 4
 },
 "nbformat": 4,
 "nbformat_minor": 2
}
