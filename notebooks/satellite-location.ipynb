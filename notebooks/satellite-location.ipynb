{
 "cells": [
  {
   "cell_type": "markdown",
   "metadata": {},
   "source": [
    "# Satellite Location Demo"
   ]
  },
  {
   "cell_type": "markdown",
   "metadata": {},
   "source": [
    "Timeliness is an important aspect for countless uses of Earth Observation (EO) data. Humanitarians, for example, benefit from imagery immediately before or after an emergency.\n",
    "\n",
    "Knowing when an image was captured of an area of interested, or when it will be captured next, can help humanitarians better understand where aid is most needed.\n",
    "\n",
    "This notebook demonstrates how the location of EO satellites can be computed, both in the past and in the future, in an area of interest. This can be used as a proxy of where images were and will be captured. \n",
    "\n",
    "These techniques could be combined with those in other notebooks in this repository, such as loading STAC items and calculating how a disaster impacts people, to create automated analysis for past and future disasters."
   ]
  },
  {
   "cell_type": "markdown",
   "metadata": {},
   "source": [
    "## Load Libraries and Data"
   ]
  },
  {
   "cell_type": "markdown",
   "metadata": {},
   "source": [
    "We'll use the [sgp4](https://pypi.org/project/sgp4/) and [skyfield](https://rhodesmill.org/skyfield/) libraries, which help us calculate the position of satellites using complex orbital physics."
   ]
  },
  {
   "cell_type": "code",
   "execution_count": 1,
   "metadata": {},
   "outputs": [],
   "source": [
    "from skyfield.api import load, wgs84, Timescale\n",
    "\n",
    "from datetime import datetime, timedelta, timezone\n",
    "\n",
    "from lonboard import viz, Map, ScatterplotLayer, basemap\n",
    "from lonboard.colormap import apply_continuous_cmap\n",
    "from palettable.colorbrewer.sequential import OrRd_9\n",
    "from palettable.colorbrewer.diverging import BrBG_9\n",
    "\n",
    "import geopandas as gpd\n",
    "import pandas as pd\n",
    "from shapely import Point, LineString"
   ]
  },
  {
   "cell_type": "markdown",
   "metadata": {},
   "source": [
    "We'll load information about specific satellites from [Celestrak](https://celestrak.org). Due to the complexities of orbital physics, data about satellites needs to be updated frequently is only accurate for about 1 week before and after \"epoch\".\n",
    "\n",
    "For this example, we'll calculate the position of Sentinel 2b."
   ]
  },
  {
   "cell_type": "code",
   "execution_count": 2,
   "metadata": {},
   "outputs": [
    {
     "name": "stderr",
     "output_type": "stream",
     "text": [
      "[#################################] 100% sentinel_2b\n"
     ]
    }
   ],
   "source": [
    "sentinel_2b_url = \"https://celestrak.org/NORAD/elements/gp.php?CATNR=42063\"\n",
    "\n",
    "sentinel_2b = load.tle_file(sentinel_2b_url, reload=True, filename=\"sentinel_2b\")"
   ]
  },
  {
   "cell_type": "code",
   "execution_count": 3,
   "metadata": {},
   "outputs": [
    {
     "data": {
      "text/plain": [
       "<EarthSatellite SENTINEL-2B catalog #42063 epoch 2024-06-12 04:08:31 UTC>"
      ]
     },
     "execution_count": 3,
     "metadata": {},
     "output_type": "execute_result"
    }
   ],
   "source": [
    "satellite = sentinel_2b[0]\n",
    "satellite"
   ]
  },
  {
   "cell_type": "markdown",
   "metadata": {},
   "source": [
    "---"
   ]
  },
  {
   "cell_type": "markdown",
   "metadata": {},
   "source": [
    "## Calculating the position of a satellite"
   ]
  },
  {
   "cell_type": "markdown",
   "metadata": {},
   "source": [
    "For sudden-onset emergencies, the time immediately before an after an event are the most critical. We can set a time range of +- 1 day from a certain point in time. For the purposes of this notebook, we'll use `now` (the time when the cell is run)."
   ]
  },
  {
   "cell_type": "code",
   "execution_count": 4,
   "metadata": {},
   "outputs": [],
   "source": [
    "# Calculate the current UTC time (without microseconds), then creating a time range +/- 24h\n",
    "\n",
    "# load timescale\n",
    "ts = load.timescale()\n",
    "\n",
    "# load \"ephemeris\" (https://rhodesmill.org/skyfield/api.html#planetary-ephemerides)\n",
    "eph = load('de421.bsp')\n",
    "\n",
    "now = datetime.now(timezone.utc).replace(microsecond=0)\n",
    "t1 = now - timedelta(days=1)\n",
    "t2 = now + timedelta(days=1)"
   ]
  },
  {
   "cell_type": "markdown",
   "metadata": {},
   "source": [
    "To calculate the position of the satellite throughout the time range, we can initiate a timer and then calculate the position at each time step (defined below)."
   ]
  },
  {
   "cell_type": "code",
   "execution_count": 5,
   "metadata": {},
   "outputs": [],
   "source": [
    "# initiate\n",
    "\n",
    "timer = t1\n",
    "\n",
    "df = pd.DataFrame(columns=['satellite', 'timestamp', 'coordinates', 'lng', 'lat', 'daytime'])\n",
    "\n",
    "rows = []"
   ]
  },
  {
   "cell_type": "markdown",
   "metadata": {},
   "source": [
    "The `location_iteration` function lodes the geocentric location, calculates the latitude and longitude, converts them to decimal degrees, and saves them as a point coordinate. It also checks if the satellite is sunlit at the time of calculation, which can be used as an approximation of if it is daytime below."
   ]
  },
  {
   "cell_type": "code",
   "execution_count": 6,
   "metadata": {},
   "outputs": [],
   "source": [
    "def location_iteration(timer, sat):\n",
    "    geocentric = sat.at(Timescale.from_datetime(ts, timer))\n",
    "    lat, lon = wgs84.latlon_of(geocentric)\n",
    "    longitude = lon.degrees\n",
    "    latitude = lat.degrees\n",
    "    daytime = geocentric.is_sunlit(eph)\n",
    "    coords = Point(longitude, latitude)\n",
    "\n",
    "    return timer, longitude, latitude, coords, daytime"
   ]
  },
  {
   "cell_type": "markdown",
   "metadata": {},
   "source": [
    "Then, we can iterate over the time frame. The more frequent the measurements, the slower the calculation takes."
   ]
  },
  {
   "cell_type": "code",
   "execution_count": 7,
   "metadata": {},
   "outputs": [],
   "source": [
    "while timer <= t2:\n",
    "    timer, longitude, latitude, coords, daytime = location_iteration(timer, sentinel_2b[0])\n",
    "\n",
    "    row = pd.DataFrame({'satellite': satellite.name, 'timestamp': timer, 'coordinates': [coords], 'lng': longitude, 'lat': latitude, 'daytime': daytime}, index=[0])\n",
    "    rows.append(row)    \n",
    "\n",
    "    timer += timedelta(seconds=30) # ~7 seconds\n",
    "\n",
    "df = pd.concat(rows, ignore_index=True)\n",
    "df[\"time_string\"] = df[\"timestamp\"].dt.strftime('%Y-%m-%d %X')"
   ]
  },
  {
   "cell_type": "markdown",
   "metadata": {},
   "source": [
    "We can then save this as a geodataframe."
   ]
  },
  {
   "cell_type": "code",
   "execution_count": 8,
   "metadata": {},
   "outputs": [
    {
     "data": {
      "text/html": [
       "<div>\n",
       "<style scoped>\n",
       "    .dataframe tbody tr th:only-of-type {\n",
       "        vertical-align: middle;\n",
       "    }\n",
       "\n",
       "    .dataframe tbody tr th {\n",
       "        vertical-align: top;\n",
       "    }\n",
       "\n",
       "    .dataframe thead th {\n",
       "        text-align: right;\n",
       "    }\n",
       "</style>\n",
       "<table border=\"1\" class=\"dataframe\">\n",
       "  <thead>\n",
       "    <tr style=\"text-align: right;\">\n",
       "      <th></th>\n",
       "      <th>satellite</th>\n",
       "      <th>timestamp</th>\n",
       "      <th>coordinates</th>\n",
       "      <th>lng</th>\n",
       "      <th>lat</th>\n",
       "      <th>daytime</th>\n",
       "      <th>time_string</th>\n",
       "    </tr>\n",
       "  </thead>\n",
       "  <tbody>\n",
       "    <tr>\n",
       "      <th>0</th>\n",
       "      <td>SENTINEL-2B</td>\n",
       "      <td>2024-06-11 11:51:57+00:00</td>\n",
       "      <td>POINT (3.03133 69.39471)</td>\n",
       "      <td>3.031333</td>\n",
       "      <td>69.394710</td>\n",
       "      <td>True</td>\n",
       "      <td>2024-06-11 11:51:57</td>\n",
       "    </tr>\n",
       "    <tr>\n",
       "      <th>1</th>\n",
       "      <td>SENTINEL-2B</td>\n",
       "      <td>2024-06-11 11:52:27+00:00</td>\n",
       "      <td>POINT (0.92155 67.76540)</td>\n",
       "      <td>0.921554</td>\n",
       "      <td>67.765403</td>\n",
       "      <td>True</td>\n",
       "      <td>2024-06-11 11:52:27</td>\n",
       "    </tr>\n",
       "    <tr>\n",
       "      <th>2</th>\n",
       "      <td>SENTINEL-2B</td>\n",
       "      <td>2024-06-11 11:52:57+00:00</td>\n",
       "      <td>POINT (-0.92884 66.11479)</td>\n",
       "      <td>-0.928840</td>\n",
       "      <td>66.114787</td>\n",
       "      <td>True</td>\n",
       "      <td>2024-06-11 11:52:57</td>\n",
       "    </tr>\n",
       "    <tr>\n",
       "      <th>3</th>\n",
       "      <td>SENTINEL-2B</td>\n",
       "      <td>2024-06-11 11:53:27+00:00</td>\n",
       "      <td>POINT (-2.56775 64.44689)</td>\n",
       "      <td>-2.567752</td>\n",
       "      <td>64.446891</td>\n",
       "      <td>True</td>\n",
       "      <td>2024-06-11 11:53:27</td>\n",
       "    </tr>\n",
       "    <tr>\n",
       "      <th>4</th>\n",
       "      <td>SENTINEL-2B</td>\n",
       "      <td>2024-06-11 11:53:57+00:00</td>\n",
       "      <td>POINT (-4.03251 62.76479)</td>\n",
       "      <td>-4.032507</td>\n",
       "      <td>62.764791</td>\n",
       "      <td>True</td>\n",
       "      <td>2024-06-11 11:53:57</td>\n",
       "    </tr>\n",
       "    <tr>\n",
       "      <th>...</th>\n",
       "      <td>...</td>\n",
       "      <td>...</td>\n",
       "      <td>...</td>\n",
       "      <td>...</td>\n",
       "      <td>...</td>\n",
       "      <td>...</td>\n",
       "      <td>...</td>\n",
       "    </tr>\n",
       "    <tr>\n",
       "      <th>5756</th>\n",
       "      <td>SENTINEL-2B</td>\n",
       "      <td>2024-06-13 11:49:57+00:00</td>\n",
       "      <td>POINT (167.77817 -41.94441)</td>\n",
       "      <td>167.778172</td>\n",
       "      <td>-41.944412</td>\n",
       "      <td>False</td>\n",
       "      <td>2024-06-13 11:49:57</td>\n",
       "    </tr>\n",
       "    <tr>\n",
       "      <th>5757</th>\n",
       "      <td>SENTINEL-2B</td>\n",
       "      <td>2024-06-13 11:50:27+00:00</td>\n",
       "      <td>POINT (167.18726 -40.19322)</td>\n",
       "      <td>167.187264</td>\n",
       "      <td>-40.193218</td>\n",
       "      <td>False</td>\n",
       "      <td>2024-06-13 11:50:27</td>\n",
       "    </tr>\n",
       "    <tr>\n",
       "      <th>5758</th>\n",
       "      <td>SENTINEL-2B</td>\n",
       "      <td>2024-06-13 11:50:57+00:00</td>\n",
       "      <td>POINT (166.61965 -38.43950)</td>\n",
       "      <td>166.619646</td>\n",
       "      <td>-38.439502</td>\n",
       "      <td>False</td>\n",
       "      <td>2024-06-13 11:50:57</td>\n",
       "    </tr>\n",
       "    <tr>\n",
       "      <th>5759</th>\n",
       "      <td>SENTINEL-2B</td>\n",
       "      <td>2024-06-13 11:51:27+00:00</td>\n",
       "      <td>POINT (166.07287 -36.68346)</td>\n",
       "      <td>166.072865</td>\n",
       "      <td>-36.683455</td>\n",
       "      <td>False</td>\n",
       "      <td>2024-06-13 11:51:27</td>\n",
       "    </tr>\n",
       "    <tr>\n",
       "      <th>5760</th>\n",
       "      <td>SENTINEL-2B</td>\n",
       "      <td>2024-06-13 11:51:57+00:00</td>\n",
       "      <td>POINT (165.54476 -34.92525)</td>\n",
       "      <td>165.544762</td>\n",
       "      <td>-34.925249</td>\n",
       "      <td>False</td>\n",
       "      <td>2024-06-13 11:51:57</td>\n",
       "    </tr>\n",
       "  </tbody>\n",
       "</table>\n",
       "<p>5761 rows × 7 columns</p>\n",
       "</div>"
      ],
      "text/plain": [
       "        satellite                 timestamp                  coordinates  \\\n",
       "0     SENTINEL-2B 2024-06-11 11:51:57+00:00     POINT (3.03133 69.39471)   \n",
       "1     SENTINEL-2B 2024-06-11 11:52:27+00:00     POINT (0.92155 67.76540)   \n",
       "2     SENTINEL-2B 2024-06-11 11:52:57+00:00    POINT (-0.92884 66.11479)   \n",
       "3     SENTINEL-2B 2024-06-11 11:53:27+00:00    POINT (-2.56775 64.44689)   \n",
       "4     SENTINEL-2B 2024-06-11 11:53:57+00:00    POINT (-4.03251 62.76479)   \n",
       "...           ...                       ...                          ...   \n",
       "5756  SENTINEL-2B 2024-06-13 11:49:57+00:00  POINT (167.77817 -41.94441)   \n",
       "5757  SENTINEL-2B 2024-06-13 11:50:27+00:00  POINT (167.18726 -40.19322)   \n",
       "5758  SENTINEL-2B 2024-06-13 11:50:57+00:00  POINT (166.61965 -38.43950)   \n",
       "5759  SENTINEL-2B 2024-06-13 11:51:27+00:00  POINT (166.07287 -36.68346)   \n",
       "5760  SENTINEL-2B 2024-06-13 11:51:57+00:00  POINT (165.54476 -34.92525)   \n",
       "\n",
       "             lng        lat  daytime          time_string  \n",
       "0       3.031333  69.394710     True  2024-06-11 11:51:57  \n",
       "1       0.921554  67.765403     True  2024-06-11 11:52:27  \n",
       "2      -0.928840  66.114787     True  2024-06-11 11:52:57  \n",
       "3      -2.567752  64.446891     True  2024-06-11 11:53:27  \n",
       "4      -4.032507  62.764791     True  2024-06-11 11:53:57  \n",
       "...          ...        ...      ...                  ...  \n",
       "5756  167.778172 -41.944412    False  2024-06-13 11:49:57  \n",
       "5757  167.187264 -40.193218    False  2024-06-13 11:50:27  \n",
       "5758  166.619646 -38.439502    False  2024-06-13 11:50:57  \n",
       "5759  166.072865 -36.683455    False  2024-06-13 11:51:27  \n",
       "5760  165.544762 -34.925249    False  2024-06-13 11:51:57  \n",
       "\n",
       "[5761 rows x 7 columns]"
      ]
     },
     "execution_count": 8,
     "metadata": {},
     "output_type": "execute_result"
    }
   ],
   "source": [
    "sentinel_2b_gdf = gpd.GeoDataFrame(df, geometry=\"coordinates\")\n",
    "sentinel_2b_gdf"
   ]
  },
  {
   "cell_type": "markdown",
   "metadata": {},
   "source": [
    "Let's refine our area of interest to see when/where satellites pass overhead. We can use a large bounding box of South Asia for demonstration purposes."
   ]
  },
  {
   "cell_type": "code",
   "execution_count": 9,
   "metadata": {},
   "outputs": [
    {
     "data": {
      "text/plain": [
       "[53.45, 98.16, 3.89, 40.24]"
      ]
     },
     "execution_count": 9,
     "metadata": {},
     "output_type": "execute_result"
    }
   ],
   "source": [
    "# South Asia bbox\n",
    "\n",
    "min_lon = 53.45\n",
    "max_lon = 98.16\n",
    "min_lat = 3.89\n",
    "max_lat = 40.24\n",
    "\n",
    "bbox=[min_lon, max_lon, min_lat, max_lat]\n",
    "bbox"
   ]
  },
  {
   "cell_type": "code",
   "execution_count": 10,
   "metadata": {},
   "outputs": [
    {
     "data": {
      "text/html": [
       "<div>\n",
       "<style scoped>\n",
       "    .dataframe tbody tr th:only-of-type {\n",
       "        vertical-align: middle;\n",
       "    }\n",
       "\n",
       "    .dataframe tbody tr th {\n",
       "        vertical-align: top;\n",
       "    }\n",
       "\n",
       "    .dataframe thead th {\n",
       "        text-align: right;\n",
       "    }\n",
       "</style>\n",
       "<table border=\"1\" class=\"dataframe\">\n",
       "  <thead>\n",
       "    <tr style=\"text-align: right;\">\n",
       "      <th></th>\n",
       "      <th>satellite</th>\n",
       "      <th>timestamp</th>\n",
       "      <th>coordinates</th>\n",
       "      <th>lng</th>\n",
       "      <th>lat</th>\n",
       "      <th>daytime</th>\n",
       "      <th>time_string</th>\n",
       "    </tr>\n",
       "  </thead>\n",
       "  <tbody>\n",
       "    <tr>\n",
       "      <th>546</th>\n",
       "      <td>SENTINEL-2B</td>\n",
       "      <td>2024-06-11 16:24:57+00:00</td>\n",
       "      <td>POINT (90.57917 4.71387)</td>\n",
       "      <td>90.579173</td>\n",
       "      <td>4.713868</td>\n",
       "      <td>False</td>\n",
       "      <td>2024-06-11 16:24:57</td>\n",
       "    </tr>\n",
       "    <tr>\n",
       "      <th>547</th>\n",
       "      <td>SENTINEL-2B</td>\n",
       "      <td>2024-06-11 16:25:27+00:00</td>\n",
       "      <td>POINT (90.18499 6.49231)</td>\n",
       "      <td>90.184995</td>\n",
       "      <td>6.492309</td>\n",
       "      <td>False</td>\n",
       "      <td>2024-06-11 16:25:27</td>\n",
       "    </tr>\n",
       "    <tr>\n",
       "      <th>548</th>\n",
       "      <td>SENTINEL-2B</td>\n",
       "      <td>2024-06-11 16:25:57+00:00</td>\n",
       "      <td>POINT (89.78891 8.27058)</td>\n",
       "      <td>89.788911</td>\n",
       "      <td>8.270581</td>\n",
       "      <td>False</td>\n",
       "      <td>2024-06-11 16:25:57</td>\n",
       "    </tr>\n",
       "    <tr>\n",
       "      <th>549</th>\n",
       "      <td>SENTINEL-2B</td>\n",
       "      <td>2024-06-11 16:26:27+00:00</td>\n",
       "      <td>POINT (89.39038 10.04860)</td>\n",
       "      <td>89.390381</td>\n",
       "      <td>10.048602</td>\n",
       "      <td>False</td>\n",
       "      <td>2024-06-11 16:26:27</td>\n",
       "    </tr>\n",
       "    <tr>\n",
       "      <th>550</th>\n",
       "      <td>SENTINEL-2B</td>\n",
       "      <td>2024-06-11 16:26:57+00:00</td>\n",
       "      <td>POINT (88.98884 11.82629)</td>\n",
       "      <td>88.988841</td>\n",
       "      <td>11.826289</td>\n",
       "      <td>False</td>\n",
       "      <td>2024-06-11 16:26:57</td>\n",
       "    </tr>\n",
       "    <tr>\n",
       "      <th>...</th>\n",
       "      <td>...</td>\n",
       "      <td>...</td>\n",
       "      <td>...</td>\n",
       "      <td>...</td>\n",
       "      <td>...</td>\n",
       "      <td>...</td>\n",
       "      <td>...</td>\n",
       "    </tr>\n",
       "    <tr>\n",
       "      <th>5068</th>\n",
       "      <td>SENTINEL-2B</td>\n",
       "      <td>2024-06-13 06:05:57+00:00</td>\n",
       "      <td>POINT (67.84104 11.86058)</td>\n",
       "      <td>67.841042</td>\n",
       "      <td>11.860578</td>\n",
       "      <td>True</td>\n",
       "      <td>2024-06-13 06:05:57</td>\n",
       "    </tr>\n",
       "    <tr>\n",
       "      <th>5069</th>\n",
       "      <td>SENTINEL-2B</td>\n",
       "      <td>2024-06-13 06:06:27+00:00</td>\n",
       "      <td>POINT (67.43943 10.08285)</td>\n",
       "      <td>67.439430</td>\n",
       "      <td>10.082846</td>\n",
       "      <td>True</td>\n",
       "      <td>2024-06-13 06:06:27</td>\n",
       "    </tr>\n",
       "    <tr>\n",
       "      <th>5070</th>\n",
       "      <td>SENTINEL-2B</td>\n",
       "      <td>2024-06-13 06:06:57+00:00</td>\n",
       "      <td>POINT (67.04084 8.30478)</td>\n",
       "      <td>67.040839</td>\n",
       "      <td>8.304777</td>\n",
       "      <td>True</td>\n",
       "      <td>2024-06-13 06:06:57</td>\n",
       "    </tr>\n",
       "    <tr>\n",
       "      <th>5071</th>\n",
       "      <td>SENTINEL-2B</td>\n",
       "      <td>2024-06-13 06:07:27+00:00</td>\n",
       "      <td>POINT (66.64471 6.52645)</td>\n",
       "      <td>66.644705</td>\n",
       "      <td>6.526455</td>\n",
       "      <td>True</td>\n",
       "      <td>2024-06-13 06:07:27</td>\n",
       "    </tr>\n",
       "    <tr>\n",
       "      <th>5072</th>\n",
       "      <td>SENTINEL-2B</td>\n",
       "      <td>2024-06-13 06:07:57+00:00</td>\n",
       "      <td>POINT (66.25049 4.74796)</td>\n",
       "      <td>66.250487</td>\n",
       "      <td>4.747963</td>\n",
       "      <td>True</td>\n",
       "      <td>2024-06-13 06:07:57</td>\n",
       "    </tr>\n",
       "  </tbody>\n",
       "</table>\n",
       "<p>162 rows × 7 columns</p>\n",
       "</div>"
      ],
      "text/plain": [
       "        satellite                 timestamp                coordinates  \\\n",
       "546   SENTINEL-2B 2024-06-11 16:24:57+00:00   POINT (90.57917 4.71387)   \n",
       "547   SENTINEL-2B 2024-06-11 16:25:27+00:00   POINT (90.18499 6.49231)   \n",
       "548   SENTINEL-2B 2024-06-11 16:25:57+00:00   POINT (89.78891 8.27058)   \n",
       "549   SENTINEL-2B 2024-06-11 16:26:27+00:00  POINT (89.39038 10.04860)   \n",
       "550   SENTINEL-2B 2024-06-11 16:26:57+00:00  POINT (88.98884 11.82629)   \n",
       "...           ...                       ...                        ...   \n",
       "5068  SENTINEL-2B 2024-06-13 06:05:57+00:00  POINT (67.84104 11.86058)   \n",
       "5069  SENTINEL-2B 2024-06-13 06:06:27+00:00  POINT (67.43943 10.08285)   \n",
       "5070  SENTINEL-2B 2024-06-13 06:06:57+00:00   POINT (67.04084 8.30478)   \n",
       "5071  SENTINEL-2B 2024-06-13 06:07:27+00:00   POINT (66.64471 6.52645)   \n",
       "5072  SENTINEL-2B 2024-06-13 06:07:57+00:00   POINT (66.25049 4.74796)   \n",
       "\n",
       "            lng        lat daytime          time_string  \n",
       "546   90.579173   4.713868   False  2024-06-11 16:24:57  \n",
       "547   90.184995   6.492309   False  2024-06-11 16:25:27  \n",
       "548   89.788911   8.270581   False  2024-06-11 16:25:57  \n",
       "549   89.390381  10.048602   False  2024-06-11 16:26:27  \n",
       "550   88.988841  11.826289   False  2024-06-11 16:26:57  \n",
       "...         ...        ...     ...                  ...  \n",
       "5068  67.841042  11.860578    True  2024-06-13 06:05:57  \n",
       "5069  67.439430  10.082846    True  2024-06-13 06:06:27  \n",
       "5070  67.040839   8.304777    True  2024-06-13 06:06:57  \n",
       "5071  66.644705   6.526455    True  2024-06-13 06:07:27  \n",
       "5072  66.250487   4.747963    True  2024-06-13 06:07:57  \n",
       "\n",
       "[162 rows x 7 columns]"
      ]
     },
     "execution_count": 10,
     "metadata": {},
     "output_type": "execute_result"
    }
   ],
   "source": [
    "mask_lon = (sentinel_2b_gdf.lng >= min_lon) & (sentinel_2b_gdf.lng <= max_lon)\n",
    "mask_lat = (sentinel_2b_gdf.lat >= min_lat) & (sentinel_2b_gdf.lat <= max_lat)\n",
    "\n",
    "aoi = sentinel_2b_gdf.where(mask_lon & mask_lat).dropna()\n",
    "aoi"
   ]
  },
  {
   "cell_type": "markdown",
   "metadata": {},
   "source": [
    "Next, we can visualize these points on a map. They are color coded using a diverging color scale, with brown being before `now` and green being after `now`."
   ]
  },
  {
   "cell_type": "code",
   "execution_count": 11,
   "metadata": {},
   "outputs": [],
   "source": [
    "# This creates a range from 0-1 to define our colormap.\n",
    "time_norm = (aoi.timestamp - t1) / (t2 - t1)\n",
    "\n",
    "colors = apply_continuous_cmap(time_norm, BrBG_9)"
   ]
  },
  {
   "cell_type": "code",
   "execution_count": 12,
   "metadata": {},
   "outputs": [
    {
     "name": "stderr",
     "output_type": "stream",
     "text": [
      "/opt/homebrew/lib/python3.10/site-packages/lonboard/_geoarrow/ops/reproject.py:23: UserWarning: No CRS exists on data. If no data is shown on the map, double check that your CRS is WGS84.\n",
      "  warn(\n"
     ]
    },
    {
     "data": {
      "application/vnd.jupyter.widget-view+json": {
       "model_id": "e02f3d478d3d4ffba6d78420031b2346",
       "version_major": 2,
       "version_minor": 1
      },
      "text/plain": [
       "Map(basemap_style=<CartoBasemap.DarkMatter: 'https://basemaps.cartocdn.com/gl/dark-matter-gl-style/style.json'…"
      ]
     },
     "execution_count": 12,
     "metadata": {},
     "output_type": "execute_result"
    }
   ],
   "source": [
    "layer = ScatterplotLayer.from_geopandas(\n",
    "    aoi,\n",
    "    # extensions=[filter_extension],\n",
    "    get_fill_color=colors,\n",
    "    radius_min_pixels = 3\n",
    "    # get_filter_value=filter_values,\n",
    "    # filter_range=initial_filter_range,\n",
    ")\n",
    "\n",
    "m = Map(\n",
    "    layer,\n",
    "    basemap_style = basemap.CartoBasemap.DarkMatter,\n",
    "    )\n",
    "m"
   ]
  },
  {
   "cell_type": "markdown",
   "metadata": {},
   "source": [
    "We can clearly see the passes that Sentinel 2b takes in our area of interest and during our time frame."
   ]
  },
  {
   "cell_type": "markdown",
   "metadata": {},
   "source": [
    "---"
   ]
  },
  {
   "cell_type": "markdown",
   "metadata": {},
   "source": [
    "## Calculating the position of a satellite constellation"
   ]
  },
  {
   "cell_type": "markdown",
   "metadata": {},
   "source": [
    "Usually, humanitarians aren't concerned about which satellite captures an image, as long as they have a timely image with the appropriate resolution, (lack of) cloud cover, bands, etc.\n",
    "\n",
    "The following example calculates the position of Planet satellites. With their portfolio's high spatial and temporal resolution, they are able to capture high-resolution images immediately before or after an event."
   ]
  },
  {
   "cell_type": "code",
   "execution_count": 14,
   "metadata": {},
   "outputs": [
    {
     "name": "stderr",
     "output_type": "stream",
     "text": [
      "[#################################] 100% planet_swarm\n"
     ]
    },
    {
     "data": {
      "text/plain": [
       "<EarthSatellite SKYSAT-A catalog #39418 epoch 2024-06-12 02:27:34 UTC>"
      ]
     },
     "execution_count": 14,
     "metadata": {},
     "output_type": "execute_result"
    }
   ],
   "source": [
    "planet_url = \"https://celestrak.org/NORAD/elements/gp.php?GROUP=planet&FORMAT=tle\"\n",
    "\n",
    "planet_swarm = load.tle_file(planet_url, reload=True, filename=\"planet_swarm\")\n",
    "planet_swarm[0]"
   ]
  },
  {
   "cell_type": "markdown",
   "metadata": {},
   "source": [
    "We then calculate the locations for all Planet satellites during our time frame in set increments."
   ]
  },
  {
   "cell_type": "code",
   "execution_count": 15,
   "metadata": {},
   "outputs": [],
   "source": [
    "timer = t1\n",
    "\n",
    "rows = []\n",
    "\n",
    "while timer <= t2:\n",
    "    for sat in planet_swarm:\n",
    "        timer, longitude, latitude, coords, daytime = location_iteration(timer, sat)\n",
    "\n",
    "        row = pd.DataFrame({'satellite': sat.name, 'timestamp': timer, 'coordinates': [coords], 'lng': longitude, 'lat': latitude, 'daytime': daytime}, index=[0])\n",
    "        rows.append(row)    \n",
    "\n",
    "    timer += timedelta(minutes=5) # ~ 1 min 45s\n",
    "\n",
    "planet_swarm_df = pd.concat(rows, ignore_index=True)\n",
    "planet_swarm_df[\"time_string\"] = planet_swarm_df[\"timestamp\"].dt.strftime('%Y-%m-%d %X')\n"
   ]
  },
  {
   "cell_type": "code",
   "execution_count": 42,
   "metadata": {},
   "outputs": [],
   "source": [
    "planet_swarm_gdf = gpd.GeoDataFrame(planet_swarm_df, geometry=\"coordinates\")"
   ]
  },
  {
   "cell_type": "markdown",
   "metadata": {},
   "source": [
    "Again, we want to look at the satellites in our AOI. Because Planet satellites capture optical images, the following shows the next passes that occur when the satellite is lit (as a proxy of when the ground below is lit)."
   ]
  },
  {
   "cell_type": "code",
   "execution_count": 44,
   "metadata": {},
   "outputs": [
    {
     "data": {
      "text/html": [
       "<div>\n",
       "<style scoped>\n",
       "    .dataframe tbody tr th:only-of-type {\n",
       "        vertical-align: middle;\n",
       "    }\n",
       "\n",
       "    .dataframe tbody tr th {\n",
       "        vertical-align: top;\n",
       "    }\n",
       "\n",
       "    .dataframe thead th {\n",
       "        text-align: right;\n",
       "    }\n",
       "</style>\n",
       "<table border=\"1\" class=\"dataframe\">\n",
       "  <thead>\n",
       "    <tr style=\"text-align: right;\">\n",
       "      <th></th>\n",
       "      <th>satellite</th>\n",
       "      <th>timestamp</th>\n",
       "      <th>coordinates</th>\n",
       "      <th>lng</th>\n",
       "      <th>lat</th>\n",
       "      <th>daytime</th>\n",
       "      <th>time_string</th>\n",
       "    </tr>\n",
       "  </thead>\n",
       "  <tbody>\n",
       "    <tr>\n",
       "      <th>49708</th>\n",
       "      <td>SKYSAT-C16</td>\n",
       "      <td>2024-06-12 13:06:57+00:00</td>\n",
       "      <td>POINT (87.00313 38.87908)</td>\n",
       "      <td>87.003135</td>\n",
       "      <td>38.879076</td>\n",
       "      <td>True</td>\n",
       "      <td>2024-06-12 13:06:57</td>\n",
       "    </tr>\n",
       "    <tr>\n",
       "      <th>51337</th>\n",
       "      <td>SKYSAT-C2</td>\n",
       "      <td>2024-06-12 13:56:57+00:00</td>\n",
       "      <td>POINT (95.07295 37.95610)</td>\n",
       "      <td>95.072950</td>\n",
       "      <td>37.956098</td>\n",
       "      <td>True</td>\n",
       "      <td>2024-06-12 13:56:57</td>\n",
       "    </tr>\n",
       "    <tr>\n",
       "      <th>52824</th>\n",
       "      <td>SKYSAT-C16</td>\n",
       "      <td>2024-06-12 14:41:57+00:00</td>\n",
       "      <td>POINT (73.86640 30.48973)</td>\n",
       "      <td>73.866397</td>\n",
       "      <td>30.489728</td>\n",
       "      <td>True</td>\n",
       "      <td>2024-06-12 14:41:57</td>\n",
       "    </tr>\n",
       "    <tr>\n",
       "      <th>52975</th>\n",
       "      <td>SKYSAT-C4</td>\n",
       "      <td>2024-06-12 14:46:57+00:00</td>\n",
       "      <td>POINT (84.88512 31.60898)</td>\n",
       "      <td>84.885120</td>\n",
       "      <td>31.608985</td>\n",
       "      <td>True</td>\n",
       "      <td>2024-06-12 14:46:57</td>\n",
       "    </tr>\n",
       "    <tr>\n",
       "      <th>53083</th>\n",
       "      <td>FLOCK 4Y-33</td>\n",
       "      <td>2024-06-12 14:46:57+00:00</td>\n",
       "      <td>POINT (97.85033 36.25842)</td>\n",
       "      <td>97.850326</td>\n",
       "      <td>36.258420</td>\n",
       "      <td>True</td>\n",
       "      <td>2024-06-12 14:46:57</td>\n",
       "    </tr>\n",
       "    <tr>\n",
       "      <th>...</th>\n",
       "      <td>...</td>\n",
       "      <td>...</td>\n",
       "      <td>...</td>\n",
       "      <td>...</td>\n",
       "      <td>...</td>\n",
       "      <td>...</td>\n",
       "      <td>...</td>\n",
       "    </tr>\n",
       "    <tr>\n",
       "      <th>91683</th>\n",
       "      <td>SKYSAT-C11</td>\n",
       "      <td>2024-06-13 10:26:57+00:00</td>\n",
       "      <td>POINT (58.70425 38.81331)</td>\n",
       "      <td>58.704255</td>\n",
       "      <td>38.813307</td>\n",
       "      <td>True</td>\n",
       "      <td>2024-06-13 10:26:57</td>\n",
       "    </tr>\n",
       "    <tr>\n",
       "      <th>91685</th>\n",
       "      <td>SKYSAT-C9</td>\n",
       "      <td>2024-06-13 10:26:57+00:00</td>\n",
       "      <td>POINT (56.71764 38.04449)</td>\n",
       "      <td>56.717644</td>\n",
       "      <td>38.044485</td>\n",
       "      <td>True</td>\n",
       "      <td>2024-06-13 10:26:57</td>\n",
       "    </tr>\n",
       "    <tr>\n",
       "      <th>91847</th>\n",
       "      <td>SKYSAT-C11</td>\n",
       "      <td>2024-06-13 10:31:57+00:00</td>\n",
       "      <td>POINT (54.16280 19.71644)</td>\n",
       "      <td>54.162801</td>\n",
       "      <td>19.716444</td>\n",
       "      <td>True</td>\n",
       "      <td>2024-06-13 10:31:57</td>\n",
       "    </tr>\n",
       "    <tr>\n",
       "      <th>92012</th>\n",
       "      <td>SKYSAT-C10</td>\n",
       "      <td>2024-06-13 10:36:57+00:00</td>\n",
       "      <td>POINT (54.60599 32.14601)</td>\n",
       "      <td>54.605989</td>\n",
       "      <td>32.146006</td>\n",
       "      <td>True</td>\n",
       "      <td>2024-06-13 10:36:57</td>\n",
       "    </tr>\n",
       "    <tr>\n",
       "      <th>92179</th>\n",
       "      <td>SKYSAT-C7</td>\n",
       "      <td>2024-06-13 10:41:57+00:00</td>\n",
       "      <td>POINT (54.11799 36.32154)</td>\n",
       "      <td>54.117987</td>\n",
       "      <td>36.321543</td>\n",
       "      <td>True</td>\n",
       "      <td>2024-06-13 10:41:57</td>\n",
       "    </tr>\n",
       "  </tbody>\n",
       "</table>\n",
       "<p>659 rows × 7 columns</p>\n",
       "</div>"
      ],
      "text/plain": [
       "         satellite                 timestamp                coordinates  \\\n",
       "49708   SKYSAT-C16 2024-06-12 13:06:57+00:00  POINT (87.00313 38.87908)   \n",
       "51337    SKYSAT-C2 2024-06-12 13:56:57+00:00  POINT (95.07295 37.95610)   \n",
       "52824   SKYSAT-C16 2024-06-12 14:41:57+00:00  POINT (73.86640 30.48973)   \n",
       "52975    SKYSAT-C4 2024-06-12 14:46:57+00:00  POINT (84.88512 31.60898)   \n",
       "53083  FLOCK 4Y-33 2024-06-12 14:46:57+00:00  POINT (97.85033 36.25842)   \n",
       "...            ...                       ...                        ...   \n",
       "91683   SKYSAT-C11 2024-06-13 10:26:57+00:00  POINT (58.70425 38.81331)   \n",
       "91685    SKYSAT-C9 2024-06-13 10:26:57+00:00  POINT (56.71764 38.04449)   \n",
       "91847   SKYSAT-C11 2024-06-13 10:31:57+00:00  POINT (54.16280 19.71644)   \n",
       "92012   SKYSAT-C10 2024-06-13 10:36:57+00:00  POINT (54.60599 32.14601)   \n",
       "92179    SKYSAT-C7 2024-06-13 10:41:57+00:00  POINT (54.11799 36.32154)   \n",
       "\n",
       "             lng        lat daytime          time_string  \n",
       "49708  87.003135  38.879076    True  2024-06-12 13:06:57  \n",
       "51337  95.072950  37.956098    True  2024-06-12 13:56:57  \n",
       "52824  73.866397  30.489728    True  2024-06-12 14:41:57  \n",
       "52975  84.885120  31.608985    True  2024-06-12 14:46:57  \n",
       "53083  97.850326  36.258420    True  2024-06-12 14:46:57  \n",
       "...          ...        ...     ...                  ...  \n",
       "91683  58.704255  38.813307    True  2024-06-13 10:26:57  \n",
       "91685  56.717644  38.044485    True  2024-06-13 10:26:57  \n",
       "91847  54.162801  19.716444    True  2024-06-13 10:31:57  \n",
       "92012  54.605989  32.146006    True  2024-06-13 10:36:57  \n",
       "92179  54.117987  36.321543    True  2024-06-13 10:41:57  \n",
       "\n",
       "[659 rows x 7 columns]"
      ]
     },
     "execution_count": 44,
     "metadata": {},
     "output_type": "execute_result"
    }
   ],
   "source": [
    "mask_lon = (planet_swarm_gdf.lng >= min_lon) & (planet_swarm_gdf.lng <= max_lon)\n",
    "mask_lat = (planet_swarm_gdf.lat >= min_lat) & (planet_swarm_gdf.lat <= max_lat)\n",
    "\n",
    "aoi_planet = planet_swarm_gdf.where(mask_lon & mask_lat).dropna()\n",
    "aoi_planet_day = aoi_planet[aoi_planet.daytime == True]\n",
    "aoi_planet_day[aoi_planet_day[\"timestamp\"] > now]"
   ]
  },
  {
   "cell_type": "code",
   "execution_count": 45,
   "metadata": {},
   "outputs": [],
   "source": [
    "# This creates a range from 0-1 to define our colormap.\n",
    "time_norm_planet = (aoi_planet_day.timestamp - t1) / (t2 - t1)\n",
    "\n",
    "colors_planet = apply_continuous_cmap(time_norm_planet, BrBG_9)"
   ]
  },
  {
   "cell_type": "markdown",
   "metadata": {},
   "source": [
    "Let's visualize this with the same color scheme we used before."
   ]
  },
  {
   "cell_type": "code",
   "execution_count": 46,
   "metadata": {},
   "outputs": [
    {
     "name": "stderr",
     "output_type": "stream",
     "text": [
      "/opt/homebrew/lib/python3.10/site-packages/lonboard/_geoarrow/ops/reproject.py:23: UserWarning: No CRS exists on data. If no data is shown on the map, double check that your CRS is WGS84.\n",
      "  warn(\n"
     ]
    },
    {
     "data": {
      "application/vnd.jupyter.widget-view+json": {
       "model_id": "0726a01c1937449588ed05b0e1678735",
       "version_major": 2,
       "version_minor": 1
      },
      "text/plain": [
       "Map(basemap_style=<CartoBasemap.DarkMatter: 'https://basemaps.cartocdn.com/gl/dark-matter-gl-style/style.json'…"
      ]
     },
     "execution_count": 46,
     "metadata": {},
     "output_type": "execute_result"
    }
   ],
   "source": [
    "layer2 = ScatterplotLayer.from_geopandas(\n",
    "    aoi_planet_day,\n",
    "    # extensions=[filter_extension],\n",
    "    get_fill_color=colors_planet,\n",
    "    radius_min_pixels = 3\n",
    "    # get_filter_value=filter_values,\n",
    "    # filter_range=initial_filter_range,\n",
    ")\n",
    "\n",
    "m2 = Map(\n",
    "    layer2,\n",
    "    basemap_style = basemap.CartoBasemap.DarkMatter,\n",
    "    )\n",
    "m2"
   ]
  },
  {
   "cell_type": "markdown",
   "metadata": {},
   "source": [
    "As expected, there are many more passes than by a single satellite. Due to small area of interests for many events, cloud cover, and other variables, a larger constellation lets practitioners then narrow down their search.\n",
    "\n",
    "In reality, satellites are taking more images than the amount of time steps that we arbitrarily set. A line would better represent the path these satellites take. The area of capture of satellites also varies, which a point doesn't represent.\n",
    "\n",
    "Once a satellite is calculated to have passed over an AOI, the next step could be to analyze the imagery, ideally using the other STAC and COG focused notebooks in this repository. Combining a positioning calculation with automated image loading and processing could be the foundations for a powerful EO-based monitoring and alerting system."
   ]
  },
  {
   "cell_type": "code",
   "execution_count": 54,
   "metadata": {},
   "outputs": [],
   "source": [
    "# geo_df2 = planet_swarm_gdf.groupby('satellite')['coordinates'].apply(lambda x: LineString(x.tolist()))\n",
    "# geo_df2 = gpd.GeoDataFrame(geo_df2, geometry='coordinates')\n",
    "# geo_df2 = geo_df2.reset_index()"
   ]
  },
  {
   "cell_type": "code",
   "execution_count": 55,
   "metadata": {},
   "outputs": [],
   "source": [
    "# viz(geo_df2[geo_df2[\"satellite\"] == \"FLOCK 4Q-1\"])"
   ]
  }
 ],
 "metadata": {
  "kernelspec": {
   "display_name": "Python 3",
   "language": "python",
   "name": "python3"
  },
  "language_info": {
   "codemirror_mode": {
    "name": "ipython",
    "version": 3
   },
   "file_extension": ".py",
   "mimetype": "text/x-python",
   "name": "python",
   "nbconvert_exporter": "python",
   "pygments_lexer": "ipython3",
   "version": "3.10.13"
  }
 },
 "nbformat": 4,
 "nbformat_minor": 2
}
