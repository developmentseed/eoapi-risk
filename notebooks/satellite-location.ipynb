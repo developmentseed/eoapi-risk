{
 "cells": [
  {
   "cell_type": "markdown",
   "metadata": {},
   "source": [
    "# Satellite Location Demo"
   ]
  },
  {
   "cell_type": "markdown",
   "metadata": {},
   "source": [
    "Timeliness is an important aspect for countless uses of Earth Observation (EO) data. Humanitarians and emergency response organizations, for example, benefit from imagery immediately before or after an emergency.\n",
    "\n",
    "Knowing when an image was captured of an area of interested, or when it will be captured next, can help humanitarians emergency response organizations better understand where aid is most needed.\n",
    "\n",
    "This notebook demonstrates how the location of EO satellites can be computed in an area of interest. This can be used as a proxy of where images were and will be captured. \n",
    "\n",
    "These techniques could be combined with those in other notebooks in this repository, such as loading STAC items and calculating how a disaster impacts people, to create automated analysis for past and future disasters."
   ]
  },
  {
   "cell_type": "markdown",
   "metadata": {},
   "source": [
    "## Load Libraries and Data"
   ]
  },
  {
   "cell_type": "markdown",
   "metadata": {},
   "source": [
    "We'll use the [sgp4](https://pypi.org/project/sgp4/) and [skyfield](https://rhodesmill.org/skyfield/) libraries, which help us calculate the position of satellites using complex orbital physics. Shapely will help us with some of the geometry creation and calculations, and Lonboard will be used to visualize the results."
   ]
  },
  {
   "cell_type": "code",
   "execution_count": 1,
   "metadata": {},
   "outputs": [],
   "source": [
    "from skyfield.api import load, wgs84, Timescale\n",
    "\n",
    "from datetime import datetime, timedelta, timezone\n",
    "\n",
    "from lonboard import viz, Map, ScatterplotLayer, basemap, PathLayer\n",
    "from lonboard.colormap import apply_continuous_cmap\n",
    "from palettable.colorbrewer.sequential import Oranges_9\n",
    "\n",
    "import geopandas as gpd\n",
    "import pandas as pd\n",
    "from shapely import Point, LineString, Polygon"
   ]
  },
  {
   "cell_type": "markdown",
   "metadata": {},
   "source": [
    "## Calculating the position of a satellite"
   ]
  },
  {
   "cell_type": "markdown",
   "metadata": {},
   "source": [
    "We'll load information about specific satellites from [Celestrak](https://celestrak.org). Due to the complexities of orbital physics, data about satellites needs to be updated frequently is only accurate for about 1 week before and after \"epoch\".\n",
    "\n",
    "For this example, we'll calculate the position of Sentinel 2b."
   ]
  },
  {
   "cell_type": "code",
   "execution_count": 2,
   "metadata": {},
   "outputs": [
    {
     "name": "stderr",
     "output_type": "stream",
     "text": [
      "[#################################] 100% sentinel_2b\n"
     ]
    }
   ],
   "source": [
    "sentinel_2b_url = \"https://celestrak.org/NORAD/elements/gp.php?CATNR=42063\"\n",
    "\n",
    "sentinel_2b = load.tle_file(sentinel_2b_url, reload=True, filename=\"sentinel_2b\")"
   ]
  },
  {
   "cell_type": "code",
   "execution_count": 3,
   "metadata": {},
   "outputs": [
    {
     "data": {
      "text/plain": [
       "<EarthSatellite SENTINEL-2B catalog #42063 epoch 2024-09-30 04:08:29 UTC>"
      ]
     },
     "execution_count": 3,
     "metadata": {},
     "output_type": "execute_result"
    }
   ],
   "source": [
    "satellite = sentinel_2b[0]\n",
    "satellite"
   ]
  },
  {
   "cell_type": "markdown",
   "metadata": {},
   "source": [
    "For sudden-onset emergencies, the time immediately before an after an event are the most critical. We can set a time range of +2 days (48h) from a certain point in time. For the purposes of this notebook, we'll use `now` (the time when the cell is run). These techniques can also be applied in the past, if a before/after analysis is needed."
   ]
  },
  {
   "cell_type": "code",
   "execution_count": 4,
   "metadata": {},
   "outputs": [],
   "source": [
    "# Calculate the current UTC time (without microseconds), then creating a time range + 48h\n",
    "\n",
    "# load timescale\n",
    "ts = load.timescale()\n",
    "\n",
    "# load \"ephemeris\" (https://rhodesmill.org/skyfield/api.html#planetary-ephemerides), which let's us determine if a satellite is illuminated by the sun (as a proxy of if the ground is lit)\n",
    "eph = load('de421.bsp')\n",
    "\n",
    "now = datetime.now(timezone.utc).replace(microsecond=0)\n",
    "t1 = now\n",
    "t2 = now + timedelta(days=2)"
   ]
  },
  {
   "cell_type": "markdown",
   "metadata": {},
   "source": [
    "To calculate the position of the satellite throughout the time range, we can initiate a timer and then calculate the position at each time step (defined below)."
   ]
  },
  {
   "cell_type": "code",
   "execution_count": 5,
   "metadata": {},
   "outputs": [],
   "source": [
    "# initiate\n",
    "\n",
    "timer = t1\n",
    "\n",
    "df = pd.DataFrame(columns=['satellite', 'timestamp', 'coordinates', 'lng', 'lat', 'daytime'])\n",
    "\n",
    "rows = []"
   ]
  },
  {
   "cell_type": "markdown",
   "metadata": {},
   "source": [
    "The `location_iteration` function lodes the geocentric location, calculates the latitude and longitude, converts them to decimal degrees, and saves them as a point coordinate. It also checks if the satellite is sunlit at the time of calculation, which can be used as an approximation of if it is daytime below."
   ]
  },
  {
   "cell_type": "code",
   "execution_count": 6,
   "metadata": {},
   "outputs": [],
   "source": [
    "def location_iteration(timer, sat):\n",
    "    geocentric = sat.at(Timescale.from_datetime(ts, timer))\n",
    "    lat, lon = wgs84.latlon_of(geocentric)\n",
    "    longitude = lon.degrees\n",
    "    latitude = lat.degrees\n",
    "    daytime = geocentric.is_sunlit(eph)\n",
    "    coords = Point(longitude, latitude)\n",
    "\n",
    "    return timer, longitude, latitude, coords, daytime"
   ]
  },
  {
   "cell_type": "markdown",
   "metadata": {},
   "source": [
    "Then, we can iterate over the time frame. The more frequent the measurements, the slower the calculation takes."
   ]
  },
  {
   "cell_type": "code",
   "execution_count": 7,
   "metadata": {},
   "outputs": [],
   "source": [
    "while timer <= t2:\n",
    "    timer, longitude, latitude, coords, daytime = location_iteration(timer, sentinel_2b[0])\n",
    "\n",
    "    row = pd.DataFrame({'satellite': satellite.name, 'timestamp': timer, 'coordinates': [coords], 'lng': longitude, 'lat': latitude, 'daytime': daytime}, index=[0])\n",
    "    rows.append(row)    \n",
    "\n",
    "    timer += timedelta(seconds=15) # ~13 seconds\n",
    "\n",
    "df = pd.concat(rows, ignore_index=True)\n",
    "df[\"time_string\"] = df[\"timestamp\"].dt.strftime('%Y-%m-%d %X')"
   ]
  },
  {
   "cell_type": "markdown",
   "metadata": {},
   "source": [
    "We can then save this as a geodataframe."
   ]
  },
  {
   "cell_type": "code",
   "execution_count": 8,
   "metadata": {},
   "outputs": [
    {
     "data": {
      "text/html": [
       "<div>\n",
       "<style scoped>\n",
       "    .dataframe tbody tr th:only-of-type {\n",
       "        vertical-align: middle;\n",
       "    }\n",
       "\n",
       "    .dataframe tbody tr th {\n",
       "        vertical-align: top;\n",
       "    }\n",
       "\n",
       "    .dataframe thead th {\n",
       "        text-align: right;\n",
       "    }\n",
       "</style>\n",
       "<table border=\"1\" class=\"dataframe\">\n",
       "  <thead>\n",
       "    <tr style=\"text-align: right;\">\n",
       "      <th></th>\n",
       "      <th>satellite</th>\n",
       "      <th>timestamp</th>\n",
       "      <th>coordinates</th>\n",
       "      <th>lng</th>\n",
       "      <th>lat</th>\n",
       "      <th>daytime</th>\n",
       "      <th>time_string</th>\n",
       "    </tr>\n",
       "  </thead>\n",
       "  <tbody>\n",
       "    <tr>\n",
       "      <th>0</th>\n",
       "      <td>SENTINEL-2B</td>\n",
       "      <td>2024-09-30 08:10:17+00:00</td>\n",
       "      <td>POINT (40.97457 35.03148)</td>\n",
       "      <td>40.974574</td>\n",
       "      <td>35.031476</td>\n",
       "      <td>True</td>\n",
       "      <td>2024-09-30 08:10:17</td>\n",
       "    </tr>\n",
       "    <tr>\n",
       "      <th>1</th>\n",
       "      <td>SENTINEL-2B</td>\n",
       "      <td>2024-09-30 08:10:32+00:00</td>\n",
       "      <td>POINT (40.71589 34.14938)</td>\n",
       "      <td>40.715892</td>\n",
       "      <td>34.149378</td>\n",
       "      <td>True</td>\n",
       "      <td>2024-09-30 08:10:32</td>\n",
       "    </tr>\n",
       "    <tr>\n",
       "      <th>2</th>\n",
       "      <td>SENTINEL-2B</td>\n",
       "      <td>2024-09-30 08:10:47+00:00</td>\n",
       "      <td>POINT (40.46124 33.26684)</td>\n",
       "      <td>40.461238</td>\n",
       "      <td>33.266844</td>\n",
       "      <td>True</td>\n",
       "      <td>2024-09-30 08:10:47</td>\n",
       "    </tr>\n",
       "    <tr>\n",
       "      <th>3</th>\n",
       "      <td>SENTINEL-2B</td>\n",
       "      <td>2024-09-30 08:11:02+00:00</td>\n",
       "      <td>POINT (40.21040 32.38389)</td>\n",
       "      <td>40.210402</td>\n",
       "      <td>32.383893</td>\n",
       "      <td>True</td>\n",
       "      <td>2024-09-30 08:11:02</td>\n",
       "    </tr>\n",
       "    <tr>\n",
       "      <th>4</th>\n",
       "      <td>SENTINEL-2B</td>\n",
       "      <td>2024-09-30 08:11:17+00:00</td>\n",
       "      <td>POINT (39.96319 31.50054)</td>\n",
       "      <td>39.963187</td>\n",
       "      <td>31.500541</td>\n",
       "      <td>True</td>\n",
       "      <td>2024-09-30 08:11:17</td>\n",
       "    </tr>\n",
       "    <tr>\n",
       "      <th>...</th>\n",
       "      <td>...</td>\n",
       "      <td>...</td>\n",
       "      <td>...</td>\n",
       "      <td>...</td>\n",
       "      <td>...</td>\n",
       "      <td>...</td>\n",
       "      <td>...</td>\n",
       "    </tr>\n",
       "    <tr>\n",
       "      <th>11516</th>\n",
       "      <td>SENTINEL-2B</td>\n",
       "      <td>2024-10-02 08:09:17+00:00</td>\n",
       "      <td>POINT (-144.33830 -3.12798)</td>\n",
       "      <td>-144.338298</td>\n",
       "      <td>-3.127984</td>\n",
       "      <td>False</td>\n",
       "      <td>2024-10-02 08:09:17</td>\n",
       "    </tr>\n",
       "    <tr>\n",
       "      <th>11517</th>\n",
       "      <td>SENTINEL-2B</td>\n",
       "      <td>2024-10-02 08:09:32+00:00</td>\n",
       "      <td>POINT (-144.53438 -2.23887)</td>\n",
       "      <td>-144.534385</td>\n",
       "      <td>-2.238865</td>\n",
       "      <td>False</td>\n",
       "      <td>2024-10-02 08:09:32</td>\n",
       "    </tr>\n",
       "    <tr>\n",
       "      <th>11518</th>\n",
       "      <td>SENTINEL-2B</td>\n",
       "      <td>2024-10-02 08:09:47+00:00</td>\n",
       "      <td>POINT (-144.73032 -1.34969)</td>\n",
       "      <td>-144.730316</td>\n",
       "      <td>-1.349689</td>\n",
       "      <td>False</td>\n",
       "      <td>2024-10-02 08:09:47</td>\n",
       "    </tr>\n",
       "    <tr>\n",
       "      <th>11519</th>\n",
       "      <td>SENTINEL-2B</td>\n",
       "      <td>2024-10-02 08:10:02+00:00</td>\n",
       "      <td>POINT (-144.92616 -0.46047)</td>\n",
       "      <td>-144.926156</td>\n",
       "      <td>-0.460466</td>\n",
       "      <td>False</td>\n",
       "      <td>2024-10-02 08:10:02</td>\n",
       "    </tr>\n",
       "    <tr>\n",
       "      <th>11520</th>\n",
       "      <td>SENTINEL-2B</td>\n",
       "      <td>2024-10-02 08:10:17+00:00</td>\n",
       "      <td>POINT (-145.12197 0.42879)</td>\n",
       "      <td>-145.121967</td>\n",
       "      <td>0.428793</td>\n",
       "      <td>False</td>\n",
       "      <td>2024-10-02 08:10:17</td>\n",
       "    </tr>\n",
       "  </tbody>\n",
       "</table>\n",
       "<p>11521 rows × 7 columns</p>\n",
       "</div>"
      ],
      "text/plain": [
       "         satellite                 timestamp                  coordinates  \\\n",
       "0      SENTINEL-2B 2024-09-30 08:10:17+00:00    POINT (40.97457 35.03148)   \n",
       "1      SENTINEL-2B 2024-09-30 08:10:32+00:00    POINT (40.71589 34.14938)   \n",
       "2      SENTINEL-2B 2024-09-30 08:10:47+00:00    POINT (40.46124 33.26684)   \n",
       "3      SENTINEL-2B 2024-09-30 08:11:02+00:00    POINT (40.21040 32.38389)   \n",
       "4      SENTINEL-2B 2024-09-30 08:11:17+00:00    POINT (39.96319 31.50054)   \n",
       "...            ...                       ...                          ...   \n",
       "11516  SENTINEL-2B 2024-10-02 08:09:17+00:00  POINT (-144.33830 -3.12798)   \n",
       "11517  SENTINEL-2B 2024-10-02 08:09:32+00:00  POINT (-144.53438 -2.23887)   \n",
       "11518  SENTINEL-2B 2024-10-02 08:09:47+00:00  POINT (-144.73032 -1.34969)   \n",
       "11519  SENTINEL-2B 2024-10-02 08:10:02+00:00  POINT (-144.92616 -0.46047)   \n",
       "11520  SENTINEL-2B 2024-10-02 08:10:17+00:00   POINT (-145.12197 0.42879)   \n",
       "\n",
       "              lng        lat  daytime          time_string  \n",
       "0       40.974574  35.031476     True  2024-09-30 08:10:17  \n",
       "1       40.715892  34.149378     True  2024-09-30 08:10:32  \n",
       "2       40.461238  33.266844     True  2024-09-30 08:10:47  \n",
       "3       40.210402  32.383893     True  2024-09-30 08:11:02  \n",
       "4       39.963187  31.500541     True  2024-09-30 08:11:17  \n",
       "...           ...        ...      ...                  ...  \n",
       "11516 -144.338298  -3.127984    False  2024-10-02 08:09:17  \n",
       "11517 -144.534385  -2.238865    False  2024-10-02 08:09:32  \n",
       "11518 -144.730316  -1.349689    False  2024-10-02 08:09:47  \n",
       "11519 -144.926156  -0.460466    False  2024-10-02 08:10:02  \n",
       "11520 -145.121967   0.428793    False  2024-10-02 08:10:17  \n",
       "\n",
       "[11521 rows x 7 columns]"
      ]
     },
     "execution_count": 8,
     "metadata": {},
     "output_type": "execute_result"
    }
   ],
   "source": [
    "sentinel_2b_gdf = gpd.GeoDataFrame(df, geometry=\"coordinates\")\n",
    "sentinel_2b_gdf"
   ]
  },
  {
   "cell_type": "markdown",
   "metadata": {},
   "source": [
    "Let's refine our area of interest to see when/where satellites pass overhead. As the 2024 hurricane season in the Americas is under way, we can focus on the US state of Florida for our analysis."
   ]
  },
  {
   "cell_type": "code",
   "execution_count": 9,
   "metadata": {},
   "outputs": [],
   "source": [
    "min_lon = x_min = -89\n",
    "max_lon = x_max = -74\n",
    "min_lat = y_min = 22\n",
    "max_lat = y_max = 32\n",
    "\n",
    "bbox=[min_lon, max_lon, min_lat, max_lat]\n",
    "bbox\n",
    "\n",
    "# Defining our AOI as a polygon shape\n",
    "florida = Polygon([(x_min, y_min), (x_max, y_min), (x_max, y_max), (x_min, y_max), (x_min,y_min)])"
   ]
  },
  {
   "cell_type": "code",
   "execution_count": 10,
   "metadata": {},
   "outputs": [
    {
     "data": {
      "text/html": [
       "<div>\n",
       "<style scoped>\n",
       "    .dataframe tbody tr th:only-of-type {\n",
       "        vertical-align: middle;\n",
       "    }\n",
       "\n",
       "    .dataframe tbody tr th {\n",
       "        vertical-align: top;\n",
       "    }\n",
       "\n",
       "    .dataframe thead th {\n",
       "        text-align: right;\n",
       "    }\n",
       "</style>\n",
       "<table border=\"1\" class=\"dataframe\">\n",
       "  <thead>\n",
       "    <tr style=\"text-align: right;\">\n",
       "      <th></th>\n",
       "      <th>satellite</th>\n",
       "      <th>timestamp</th>\n",
       "      <th>coordinates</th>\n",
       "      <th>lng</th>\n",
       "      <th>lat</th>\n",
       "      <th>daytime</th>\n",
       "      <th>time_string</th>\n",
       "    </tr>\n",
       "  </thead>\n",
       "  <tbody>\n",
       "    <tr>\n",
       "      <th>2018</th>\n",
       "      <td>SENTINEL-2B</td>\n",
       "      <td>2024-09-30 16:34:47+00:00</td>\n",
       "      <td>POINT (-85.91352 31.49217)</td>\n",
       "      <td>-85.913522</td>\n",
       "      <td>31.492168</td>\n",
       "      <td>True</td>\n",
       "      <td>2024-09-30 16:34:47</td>\n",
       "    </tr>\n",
       "    <tr>\n",
       "      <th>2019</th>\n",
       "      <td>SENTINEL-2B</td>\n",
       "      <td>2024-09-30 16:35:02+00:00</td>\n",
       "      <td>POINT (-86.15727 30.60843)</td>\n",
       "      <td>-86.157272</td>\n",
       "      <td>30.608431</td>\n",
       "      <td>True</td>\n",
       "      <td>2024-09-30 16:35:02</td>\n",
       "    </tr>\n",
       "    <tr>\n",
       "      <th>2020</th>\n",
       "      <td>SENTINEL-2B</td>\n",
       "      <td>2024-09-30 16:35:17+00:00</td>\n",
       "      <td>POINT (-86.39777 29.72433)</td>\n",
       "      <td>-86.397767</td>\n",
       "      <td>29.724326</td>\n",
       "      <td>True</td>\n",
       "      <td>2024-09-30 16:35:17</td>\n",
       "    </tr>\n",
       "    <tr>\n",
       "      <th>2021</th>\n",
       "      <td>SENTINEL-2B</td>\n",
       "      <td>2024-09-30 16:35:32+00:00</td>\n",
       "      <td>POINT (-86.63517 28.83987)</td>\n",
       "      <td>-86.635175</td>\n",
       "      <td>28.839870</td>\n",
       "      <td>True</td>\n",
       "      <td>2024-09-30 16:35:32</td>\n",
       "    </tr>\n",
       "    <tr>\n",
       "      <th>2022</th>\n",
       "      <td>SENTINEL-2B</td>\n",
       "      <td>2024-09-30 16:35:47+00:00</td>\n",
       "      <td>POINT (-86.86966 27.95508)</td>\n",
       "      <td>-86.869656</td>\n",
       "      <td>27.955076</td>\n",
       "      <td>True</td>\n",
       "      <td>2024-09-30 16:35:47</td>\n",
       "    </tr>\n",
       "    <tr>\n",
       "      <th>2023</th>\n",
       "      <td>SENTINEL-2B</td>\n",
       "      <td>2024-09-30 16:36:02+00:00</td>\n",
       "      <td>POINT (-87.10136 27.06996)</td>\n",
       "      <td>-87.101362</td>\n",
       "      <td>27.069960</td>\n",
       "      <td>True</td>\n",
       "      <td>2024-09-30 16:36:02</td>\n",
       "    </tr>\n",
       "    <tr>\n",
       "      <th>2024</th>\n",
       "      <td>SENTINEL-2B</td>\n",
       "      <td>2024-09-30 16:36:17+00:00</td>\n",
       "      <td>POINT (-87.33044 26.18454)</td>\n",
       "      <td>-87.330437</td>\n",
       "      <td>26.184536</td>\n",
       "      <td>True</td>\n",
       "      <td>2024-09-30 16:36:17</td>\n",
       "    </tr>\n",
       "    <tr>\n",
       "      <th>2025</th>\n",
       "      <td>SENTINEL-2B</td>\n",
       "      <td>2024-09-30 16:36:32+00:00</td>\n",
       "      <td>POINT (-87.55702 25.29882)</td>\n",
       "      <td>-87.557019</td>\n",
       "      <td>25.298817</td>\n",
       "      <td>True</td>\n",
       "      <td>2024-09-30 16:36:32</td>\n",
       "    </tr>\n",
       "    <tr>\n",
       "      <th>2026</th>\n",
       "      <td>SENTINEL-2B</td>\n",
       "      <td>2024-09-30 16:36:47+00:00</td>\n",
       "      <td>POINT (-87.78124 24.41282)</td>\n",
       "      <td>-87.781238</td>\n",
       "      <td>24.412816</td>\n",
       "      <td>True</td>\n",
       "      <td>2024-09-30 16:36:47</td>\n",
       "    </tr>\n",
       "    <tr>\n",
       "      <th>2027</th>\n",
       "      <td>SENTINEL-2B</td>\n",
       "      <td>2024-09-30 16:37:02+00:00</td>\n",
       "      <td>POINT (-88.00322 23.52655)</td>\n",
       "      <td>-88.003220</td>\n",
       "      <td>23.526547</td>\n",
       "      <td>True</td>\n",
       "      <td>2024-09-30 16:37:02</td>\n",
       "    </tr>\n",
       "    <tr>\n",
       "      <th>2028</th>\n",
       "      <td>SENTINEL-2B</td>\n",
       "      <td>2024-09-30 16:37:17+00:00</td>\n",
       "      <td>POINT (-88.22309 22.64002)</td>\n",
       "      <td>-88.223085</td>\n",
       "      <td>22.640023</td>\n",
       "      <td>True</td>\n",
       "      <td>2024-09-30 16:37:17</td>\n",
       "    </tr>\n",
       "    <tr>\n",
       "      <th>7657</th>\n",
       "      <td>SENTINEL-2B</td>\n",
       "      <td>2024-10-01 16:04:32+00:00</td>\n",
       "      <td>POINT (-78.31976 31.64256)</td>\n",
       "      <td>-78.319764</td>\n",
       "      <td>31.642563</td>\n",
       "      <td>True</td>\n",
       "      <td>2024-10-01 16:04:32</td>\n",
       "    </tr>\n",
       "    <tr>\n",
       "      <th>7658</th>\n",
       "      <td>SENTINEL-2B</td>\n",
       "      <td>2024-10-01 16:04:47+00:00</td>\n",
       "      <td>POINT (-78.56408 30.75890)</td>\n",
       "      <td>-78.564083</td>\n",
       "      <td>30.758897</td>\n",
       "      <td>True</td>\n",
       "      <td>2024-10-01 16:04:47</td>\n",
       "    </tr>\n",
       "    <tr>\n",
       "      <th>7659</th>\n",
       "      <td>SENTINEL-2B</td>\n",
       "      <td>2024-10-01 16:05:02+00:00</td>\n",
       "      <td>POINT (-78.80512 29.87486)</td>\n",
       "      <td>-78.805119</td>\n",
       "      <td>29.874861</td>\n",
       "      <td>True</td>\n",
       "      <td>2024-10-01 16:05:02</td>\n",
       "    </tr>\n",
       "    <tr>\n",
       "      <th>7660</th>\n",
       "      <td>SENTINEL-2B</td>\n",
       "      <td>2024-10-01 16:05:17+00:00</td>\n",
       "      <td>POINT (-79.04304 28.99047)</td>\n",
       "      <td>-79.043039</td>\n",
       "      <td>28.990471</td>\n",
       "      <td>True</td>\n",
       "      <td>2024-10-01 16:05:17</td>\n",
       "    </tr>\n",
       "    <tr>\n",
       "      <th>7661</th>\n",
       "      <td>SENTINEL-2B</td>\n",
       "      <td>2024-10-01 16:05:32+00:00</td>\n",
       "      <td>POINT (-79.27801 28.10574)</td>\n",
       "      <td>-79.278007</td>\n",
       "      <td>28.105740</td>\n",
       "      <td>True</td>\n",
       "      <td>2024-10-01 16:05:32</td>\n",
       "    </tr>\n",
       "    <tr>\n",
       "      <th>7662</th>\n",
       "      <td>SENTINEL-2B</td>\n",
       "      <td>2024-10-01 16:05:47+00:00</td>\n",
       "      <td>POINT (-79.51017 27.22069)</td>\n",
       "      <td>-79.510174</td>\n",
       "      <td>27.220685</td>\n",
       "      <td>True</td>\n",
       "      <td>2024-10-01 16:05:47</td>\n",
       "    </tr>\n",
       "    <tr>\n",
       "      <th>7663</th>\n",
       "      <td>SENTINEL-2B</td>\n",
       "      <td>2024-10-01 16:06:02+00:00</td>\n",
       "      <td>POINT (-79.73969 26.33532)</td>\n",
       "      <td>-79.739686</td>\n",
       "      <td>26.335320</td>\n",
       "      <td>True</td>\n",
       "      <td>2024-10-01 16:06:02</td>\n",
       "    </tr>\n",
       "    <tr>\n",
       "      <th>7664</th>\n",
       "      <td>SENTINEL-2B</td>\n",
       "      <td>2024-10-01 16:06:17+00:00</td>\n",
       "      <td>POINT (-79.96668 25.44966)</td>\n",
       "      <td>-79.966681</td>\n",
       "      <td>25.449657</td>\n",
       "      <td>True</td>\n",
       "      <td>2024-10-01 16:06:17</td>\n",
       "    </tr>\n",
       "    <tr>\n",
       "      <th>7665</th>\n",
       "      <td>SENTINEL-2B</td>\n",
       "      <td>2024-10-01 16:06:32+00:00</td>\n",
       "      <td>POINT (-80.19129 24.56371)</td>\n",
       "      <td>-80.191292</td>\n",
       "      <td>24.563711</td>\n",
       "      <td>True</td>\n",
       "      <td>2024-10-01 16:06:32</td>\n",
       "    </tr>\n",
       "    <tr>\n",
       "      <th>7666</th>\n",
       "      <td>SENTINEL-2B</td>\n",
       "      <td>2024-10-01 16:06:47+00:00</td>\n",
       "      <td>POINT (-80.41365 23.67749)</td>\n",
       "      <td>-80.413645</td>\n",
       "      <td>23.677494</td>\n",
       "      <td>True</td>\n",
       "      <td>2024-10-01 16:06:47</td>\n",
       "    </tr>\n",
       "    <tr>\n",
       "      <th>7667</th>\n",
       "      <td>SENTINEL-2B</td>\n",
       "      <td>2024-10-01 16:07:02+00:00</td>\n",
       "      <td>POINT (-80.63386 22.79102)</td>\n",
       "      <td>-80.633861</td>\n",
       "      <td>22.791020</td>\n",
       "      <td>True</td>\n",
       "      <td>2024-10-01 16:07:02</td>\n",
       "    </tr>\n",
       "  </tbody>\n",
       "</table>\n",
       "</div>"
      ],
      "text/plain": [
       "        satellite                 timestamp                 coordinates  \\\n",
       "2018  SENTINEL-2B 2024-09-30 16:34:47+00:00  POINT (-85.91352 31.49217)   \n",
       "2019  SENTINEL-2B 2024-09-30 16:35:02+00:00  POINT (-86.15727 30.60843)   \n",
       "2020  SENTINEL-2B 2024-09-30 16:35:17+00:00  POINT (-86.39777 29.72433)   \n",
       "2021  SENTINEL-2B 2024-09-30 16:35:32+00:00  POINT (-86.63517 28.83987)   \n",
       "2022  SENTINEL-2B 2024-09-30 16:35:47+00:00  POINT (-86.86966 27.95508)   \n",
       "2023  SENTINEL-2B 2024-09-30 16:36:02+00:00  POINT (-87.10136 27.06996)   \n",
       "2024  SENTINEL-2B 2024-09-30 16:36:17+00:00  POINT (-87.33044 26.18454)   \n",
       "2025  SENTINEL-2B 2024-09-30 16:36:32+00:00  POINT (-87.55702 25.29882)   \n",
       "2026  SENTINEL-2B 2024-09-30 16:36:47+00:00  POINT (-87.78124 24.41282)   \n",
       "2027  SENTINEL-2B 2024-09-30 16:37:02+00:00  POINT (-88.00322 23.52655)   \n",
       "2028  SENTINEL-2B 2024-09-30 16:37:17+00:00  POINT (-88.22309 22.64002)   \n",
       "7657  SENTINEL-2B 2024-10-01 16:04:32+00:00  POINT (-78.31976 31.64256)   \n",
       "7658  SENTINEL-2B 2024-10-01 16:04:47+00:00  POINT (-78.56408 30.75890)   \n",
       "7659  SENTINEL-2B 2024-10-01 16:05:02+00:00  POINT (-78.80512 29.87486)   \n",
       "7660  SENTINEL-2B 2024-10-01 16:05:17+00:00  POINT (-79.04304 28.99047)   \n",
       "7661  SENTINEL-2B 2024-10-01 16:05:32+00:00  POINT (-79.27801 28.10574)   \n",
       "7662  SENTINEL-2B 2024-10-01 16:05:47+00:00  POINT (-79.51017 27.22069)   \n",
       "7663  SENTINEL-2B 2024-10-01 16:06:02+00:00  POINT (-79.73969 26.33532)   \n",
       "7664  SENTINEL-2B 2024-10-01 16:06:17+00:00  POINT (-79.96668 25.44966)   \n",
       "7665  SENTINEL-2B 2024-10-01 16:06:32+00:00  POINT (-80.19129 24.56371)   \n",
       "7666  SENTINEL-2B 2024-10-01 16:06:47+00:00  POINT (-80.41365 23.67749)   \n",
       "7667  SENTINEL-2B 2024-10-01 16:07:02+00:00  POINT (-80.63386 22.79102)   \n",
       "\n",
       "            lng        lat daytime          time_string  \n",
       "2018 -85.913522  31.492168    True  2024-09-30 16:34:47  \n",
       "2019 -86.157272  30.608431    True  2024-09-30 16:35:02  \n",
       "2020 -86.397767  29.724326    True  2024-09-30 16:35:17  \n",
       "2021 -86.635175  28.839870    True  2024-09-30 16:35:32  \n",
       "2022 -86.869656  27.955076    True  2024-09-30 16:35:47  \n",
       "2023 -87.101362  27.069960    True  2024-09-30 16:36:02  \n",
       "2024 -87.330437  26.184536    True  2024-09-30 16:36:17  \n",
       "2025 -87.557019  25.298817    True  2024-09-30 16:36:32  \n",
       "2026 -87.781238  24.412816    True  2024-09-30 16:36:47  \n",
       "2027 -88.003220  23.526547    True  2024-09-30 16:37:02  \n",
       "2028 -88.223085  22.640023    True  2024-09-30 16:37:17  \n",
       "7657 -78.319764  31.642563    True  2024-10-01 16:04:32  \n",
       "7658 -78.564083  30.758897    True  2024-10-01 16:04:47  \n",
       "7659 -78.805119  29.874861    True  2024-10-01 16:05:02  \n",
       "7660 -79.043039  28.990471    True  2024-10-01 16:05:17  \n",
       "7661 -79.278007  28.105740    True  2024-10-01 16:05:32  \n",
       "7662 -79.510174  27.220685    True  2024-10-01 16:05:47  \n",
       "7663 -79.739686  26.335320    True  2024-10-01 16:06:02  \n",
       "7664 -79.966681  25.449657    True  2024-10-01 16:06:17  \n",
       "7665 -80.191292  24.563711    True  2024-10-01 16:06:32  \n",
       "7666 -80.413645  23.677494    True  2024-10-01 16:06:47  \n",
       "7667 -80.633861  22.791020    True  2024-10-01 16:07:02  "
      ]
     },
     "execution_count": 10,
     "metadata": {},
     "output_type": "execute_result"
    }
   ],
   "source": [
    "mask_lon = (sentinel_2b_gdf.lng >= min_lon) & (sentinel_2b_gdf.lng <= max_lon)\n",
    "mask_lat = (sentinel_2b_gdf.lat >= min_lat) & (sentinel_2b_gdf.lat <= max_lat)\n",
    "\n",
    "aoi = sentinel_2b_gdf.where(mask_lon & mask_lat).dropna()\n",
    "\n",
    "sentinel_2b_daylit = aoi[aoi[\"daytime\"] == True]\n",
    "sentinel_2b_daylit"
   ]
  },
  {
   "cell_type": "markdown",
   "metadata": {},
   "source": [
    "Next, we can visualize these points on a map. They are color coded using a continuous color scale, with white being `now` and darker purple being further after `now`."
   ]
  },
  {
   "cell_type": "code",
   "execution_count": 11,
   "metadata": {},
   "outputs": [],
   "source": [
    "# This creates a range from 0-1 to define our colormap.\n",
    "time_norm = (sentinel_2b_daylit.timestamp - t1) / (t2 - t1)\n",
    "\n",
    "colors = apply_continuous_cmap(time_norm, Oranges_9)"
   ]
  },
  {
   "cell_type": "code",
   "execution_count": 12,
   "metadata": {},
   "outputs": [
    {
     "name": "stderr",
     "output_type": "stream",
     "text": [
      "/opt/homebrew/lib/python3.10/site-packages/lonboard/_geoarrow/ops/reproject.py:23: UserWarning: No CRS exists on data. If no data is shown on the map, double check that your CRS is WGS84.\n",
      "  warn(\n"
     ]
    },
    {
     "data": {
      "application/vnd.jupyter.widget-view+json": {
       "model_id": "388dcb16cb9c4f36a6774f768dd0cd4b",
       "version_major": 2,
       "version_minor": 1
      },
      "text/plain": [
       "Map(basemap_style=<CartoBasemap.DarkMatter: 'https://basemaps.cartocdn.com/gl/dark-matter-gl-style/style.json'…"
      ]
     },
     "execution_count": 12,
     "metadata": {},
     "output_type": "execute_result"
    }
   ],
   "source": [
    "layer = ScatterplotLayer.from_geopandas(\n",
    "    sentinel_2b_daylit,\n",
    "    # extensions=[filter_extension],\n",
    "    get_fill_color=colors,\n",
    "    radius_min_pixels = 3\n",
    "    # get_filter_value=filter_values,\n",
    "    # filter_range=initial_filter_range,\n",
    ")\n",
    "\n",
    "m = Map(\n",
    "    layer,\n",
    "    basemap_style = basemap.CartoBasemap.DarkMatter,\n",
    "    )\n",
    "m"
   ]
  },
  {
   "cell_type": "markdown",
   "metadata": {},
   "source": [
    "We can clearly see the passes that Sentinel 2b takes in our area of interest and during our time frame, and during daytime hours."
   ]
  },
  {
   "cell_type": "markdown",
   "metadata": {},
   "source": [
    "---"
   ]
  },
  {
   "cell_type": "markdown",
   "metadata": {},
   "source": [
    "## Calculating the position of a satellite constellation"
   ]
  },
  {
   "cell_type": "markdown",
   "metadata": {},
   "source": [
    "Usually, humanitarians or emergency response organizations aren't concerned about which satellite captures an image, as long as they have a timely image with the appropriate resolution, (lack of) cloud cover, bands, etc.\n",
    "\n",
    "The following example calculates the position of Planet satellites. With their portfolio's high spatial and temporal resolution, they are able to capture high-resolution images immediately before or after an event."
   ]
  },
  {
   "cell_type": "code",
   "execution_count": 13,
   "metadata": {},
   "outputs": [
    {
     "name": "stderr",
     "output_type": "stream",
     "text": [
      "[#################################] 100% planet_swarm\n"
     ]
    },
    {
     "data": {
      "text/plain": [
       "<EarthSatellite SKYSAT-A catalog #39418 epoch 2024-09-29 21:20:16 UTC>"
      ]
     },
     "execution_count": 13,
     "metadata": {},
     "output_type": "execute_result"
    }
   ],
   "source": [
    "planet_url = \"https://celestrak.org/NORAD/elements/gp.php?GROUP=planet&FORMAT=tle\"\n",
    "\n",
    "planet_swarm = load.tle_file(planet_url, reload=True, filename=\"planet_swarm\")\n",
    "planet_swarm[0]"
   ]
  },
  {
   "cell_type": "markdown",
   "metadata": {},
   "source": [
    "We then calculate the locations for all Planet satellites during our time frame in set increments."
   ]
  },
  {
   "cell_type": "code",
   "execution_count": 14,
   "metadata": {},
   "outputs": [],
   "source": [
    "timer = t1\n",
    "\n",
    "rows = []\n",
    "\n",
    "while timer <= t2:\n",
    "    for sat in planet_swarm:\n",
    "        timer, longitude, latitude, coords, daytime = location_iteration(timer, sat)\n",
    "\n",
    "        row = pd.DataFrame({'satellite': sat.name, 'timestamp': timer, 'coordinates': [coords], 'lng': longitude, 'lat': latitude, 'daytime': daytime}, index=[0])\n",
    "        rows.append(row)    \n",
    "\n",
    "    timer += timedelta(minutes=2) # ~ 3.5 min\n",
    "\n",
    "planet_swarm_df = pd.concat(rows, ignore_index=True)\n",
    "planet_swarm_df[\"time_string\"] = planet_swarm_df[\"timestamp\"].dt.strftime('%Y-%m-%d %X')\n"
   ]
  },
  {
   "cell_type": "code",
   "execution_count": 15,
   "metadata": {},
   "outputs": [],
   "source": [
    "planet_swarm_gdf = gpd.GeoDataFrame(planet_swarm_df, geometry=\"coordinates\")"
   ]
  },
  {
   "cell_type": "markdown",
   "metadata": {},
   "source": [
    "Again, we want to look at the satellites in our AOI. Because Planet satellites capture optical images, the following shows the next passes that occur when the satellite is lit (as a proxy of when the ground below is lit)."
   ]
  },
  {
   "cell_type": "code",
   "execution_count": 16,
   "metadata": {},
   "outputs": [
    {
     "data": {
      "text/html": [
       "<div>\n",
       "<style scoped>\n",
       "    .dataframe tbody tr th:only-of-type {\n",
       "        vertical-align: middle;\n",
       "    }\n",
       "\n",
       "    .dataframe tbody tr th {\n",
       "        vertical-align: top;\n",
       "    }\n",
       "\n",
       "    .dataframe thead th {\n",
       "        text-align: right;\n",
       "    }\n",
       "</style>\n",
       "<table border=\"1\" class=\"dataframe\">\n",
       "  <thead>\n",
       "    <tr style=\"text-align: right;\">\n",
       "      <th></th>\n",
       "      <th>satellite</th>\n",
       "      <th>timestamp</th>\n",
       "      <th>coordinates</th>\n",
       "      <th>lng</th>\n",
       "      <th>lat</th>\n",
       "      <th>daytime</th>\n",
       "      <th>time_string</th>\n",
       "    </tr>\n",
       "  </thead>\n",
       "  <tbody>\n",
       "    <tr>\n",
       "      <th>123</th>\n",
       "      <td>SKYSAT-A</td>\n",
       "      <td>2024-09-30 08:12:17+00:00</td>\n",
       "      <td>POINT (-144.79334 -65.13927)</td>\n",
       "      <td>-144.793337</td>\n",
       "      <td>-65.139274</td>\n",
       "      <td>True</td>\n",
       "      <td>2024-09-30 08:12:17</td>\n",
       "    </tr>\n",
       "    <tr>\n",
       "      <th>124</th>\n",
       "      <td>SKYSAT-B</td>\n",
       "      <td>2024-09-30 08:12:17+00:00</td>\n",
       "      <td>POINT (53.76233 27.52190)</td>\n",
       "      <td>53.762327</td>\n",
       "      <td>27.521900</td>\n",
       "      <td>True</td>\n",
       "      <td>2024-09-30 08:12:17</td>\n",
       "    </tr>\n",
       "    <tr>\n",
       "      <th>127</th>\n",
       "      <td>SKYSAT-C5</td>\n",
       "      <td>2024-09-30 08:12:17+00:00</td>\n",
       "      <td>POINT (19.37024 37.43141)</td>\n",
       "      <td>19.370241</td>\n",
       "      <td>37.431412</td>\n",
       "      <td>True</td>\n",
       "      <td>2024-09-30 08:12:17</td>\n",
       "    </tr>\n",
       "    <tr>\n",
       "      <th>129</th>\n",
       "      <td>SKYSAT-C3</td>\n",
       "      <td>2024-09-30 08:12:17+00:00</td>\n",
       "      <td>POINT (13.91201 19.73941)</td>\n",
       "      <td>13.912006</td>\n",
       "      <td>19.739405</td>\n",
       "      <td>True</td>\n",
       "      <td>2024-09-30 08:12:17</td>\n",
       "    </tr>\n",
       "    <tr>\n",
       "      <th>130</th>\n",
       "      <td>SKYSAT-C11</td>\n",
       "      <td>2024-09-30 08:12:17+00:00</td>\n",
       "      <td>POINT (90.92110 14.82834)</td>\n",
       "      <td>90.921099</td>\n",
       "      <td>14.828342</td>\n",
       "      <td>True</td>\n",
       "      <td>2024-09-30 08:12:17</td>\n",
       "    </tr>\n",
       "    <tr>\n",
       "      <th>...</th>\n",
       "      <td>...</td>\n",
       "      <td>...</td>\n",
       "      <td>...</td>\n",
       "      <td>...</td>\n",
       "      <td>...</td>\n",
       "      <td>...</td>\n",
       "      <td>...</td>\n",
       "    </tr>\n",
       "    <tr>\n",
       "      <th>177221</th>\n",
       "      <td>FLOCK 4BE-32</td>\n",
       "      <td>2024-10-02 08:10:17+00:00</td>\n",
       "      <td>POINT (-124.77185 -67.41858)</td>\n",
       "      <td>-124.771852</td>\n",
       "      <td>-67.418579</td>\n",
       "      <td>True</td>\n",
       "      <td>2024-10-02 08:10:17</td>\n",
       "    </tr>\n",
       "    <tr>\n",
       "      <th>177222</th>\n",
       "      <td>FLOCK 4BE-30</td>\n",
       "      <td>2024-10-02 08:10:17+00:00</td>\n",
       "      <td>POINT (-106.53382 -77.64441)</td>\n",
       "      <td>-106.533820</td>\n",
       "      <td>-77.644415</td>\n",
       "      <td>True</td>\n",
       "      <td>2024-10-02 08:10:17</td>\n",
       "    </tr>\n",
       "    <tr>\n",
       "      <th>177223</th>\n",
       "      <td>FLOCK 4BE-11</td>\n",
       "      <td>2024-10-02 08:10:17+00:00</td>\n",
       "      <td>POINT (-118.13426 -72.82073)</td>\n",
       "      <td>-118.134259</td>\n",
       "      <td>-72.820732</td>\n",
       "      <td>True</td>\n",
       "      <td>2024-10-02 08:10:17</td>\n",
       "    </tr>\n",
       "    <tr>\n",
       "      <th>177224</th>\n",
       "      <td>FLOCK 4BE-33</td>\n",
       "      <td>2024-10-02 08:10:17+00:00</td>\n",
       "      <td>POINT (-126.58304 -65.25726)</td>\n",
       "      <td>-126.583040</td>\n",
       "      <td>-65.257257</td>\n",
       "      <td>True</td>\n",
       "      <td>2024-10-02 08:10:17</td>\n",
       "    </tr>\n",
       "    <tr>\n",
       "      <th>177225</th>\n",
       "      <td>FLOCK 4BE-10</td>\n",
       "      <td>2024-10-02 08:10:17+00:00</td>\n",
       "      <td>POINT (-125.81433 -66.15541)</td>\n",
       "      <td>-125.814330</td>\n",
       "      <td>-66.155407</td>\n",
       "      <td>True</td>\n",
       "      <td>2024-10-02 08:10:17</td>\n",
       "    </tr>\n",
       "  </tbody>\n",
       "</table>\n",
       "<p>112401 rows × 7 columns</p>\n",
       "</div>"
      ],
      "text/plain": [
       "           satellite                 timestamp                   coordinates  \\\n",
       "123         SKYSAT-A 2024-09-30 08:12:17+00:00  POINT (-144.79334 -65.13927)   \n",
       "124         SKYSAT-B 2024-09-30 08:12:17+00:00     POINT (53.76233 27.52190)   \n",
       "127        SKYSAT-C5 2024-09-30 08:12:17+00:00     POINT (19.37024 37.43141)   \n",
       "129        SKYSAT-C3 2024-09-30 08:12:17+00:00     POINT (13.91201 19.73941)   \n",
       "130       SKYSAT-C11 2024-09-30 08:12:17+00:00     POINT (90.92110 14.82834)   \n",
       "...              ...                       ...                           ...   \n",
       "177221  FLOCK 4BE-32 2024-10-02 08:10:17+00:00  POINT (-124.77185 -67.41858)   \n",
       "177222  FLOCK 4BE-30 2024-10-02 08:10:17+00:00  POINT (-106.53382 -77.64441)   \n",
       "177223  FLOCK 4BE-11 2024-10-02 08:10:17+00:00  POINT (-118.13426 -72.82073)   \n",
       "177224  FLOCK 4BE-33 2024-10-02 08:10:17+00:00  POINT (-126.58304 -65.25726)   \n",
       "177225  FLOCK 4BE-10 2024-10-02 08:10:17+00:00  POINT (-125.81433 -66.15541)   \n",
       "\n",
       "               lng        lat  daytime          time_string  \n",
       "123    -144.793337 -65.139274     True  2024-09-30 08:12:17  \n",
       "124      53.762327  27.521900     True  2024-09-30 08:12:17  \n",
       "127      19.370241  37.431412     True  2024-09-30 08:12:17  \n",
       "129      13.912006  19.739405     True  2024-09-30 08:12:17  \n",
       "130      90.921099  14.828342     True  2024-09-30 08:12:17  \n",
       "...            ...        ...      ...                  ...  \n",
       "177221 -124.771852 -67.418579     True  2024-10-02 08:10:17  \n",
       "177222 -106.533820 -77.644415     True  2024-10-02 08:10:17  \n",
       "177223 -118.134259 -72.820732     True  2024-10-02 08:10:17  \n",
       "177224 -126.583040 -65.257257     True  2024-10-02 08:10:17  \n",
       "177225 -125.814330 -66.155407     True  2024-10-02 08:10:17  \n",
       "\n",
       "[112401 rows x 7 columns]"
      ]
     },
     "execution_count": 16,
     "metadata": {},
     "output_type": "execute_result"
    }
   ],
   "source": [
    "mask_lon = (planet_swarm_gdf.lng >= min_lon) & (planet_swarm_gdf.lng <= max_lon)\n",
    "mask_lat = (planet_swarm_gdf.lat >= min_lat) & (planet_swarm_gdf.lat <= max_lat)\n",
    "\n",
    "aoi_planet = planet_swarm_gdf.where(mask_lon & mask_lat).dropna()\n",
    "aoi_planet_day = aoi_planet[aoi_planet.daytime == True]\n",
    "aoi_planet_day[aoi_planet_day[\"timestamp\"] > now]\n",
    "\n",
    "planet_day = planet_swarm_gdf[planet_swarm_gdf.daytime == True]\n",
    "planet_day[planet_day[\"timestamp\"] > now]"
   ]
  },
  {
   "cell_type": "markdown",
   "metadata": {},
   "source": [
    "## Visualize path of satellites"
   ]
  },
  {
   "cell_type": "markdown",
   "metadata": {},
   "source": [
    "Instead of visualizing points on a map, a better representation would be a line. We can \"connect the dots\" calculated in the previous step."
   ]
  },
  {
   "cell_type": "code",
   "execution_count": 17,
   "metadata": {},
   "outputs": [],
   "source": [
    "def create_individual_linestrings(coords, timestamps, time_strings):\n",
    "    coords_list = coords.tolist()\n",
    "    timestamps_list = timestamps.tolist()\n",
    "    time_strings_list = time_strings.tolist()\n",
    "    line_segments = [\n",
    "        {'linestring': LineString([coords_list[i], coords_list[i + 1]]), 'timestamp': timestamps_list[i], 'time_string': time_strings_list[i]} \n",
    "        for i in range(len(coords_list) - 1)\n",
    "    ]\n",
    "    return line_segments"
   ]
  },
  {
   "cell_type": "code",
   "execution_count": 18,
   "metadata": {},
   "outputs": [
    {
     "data": {
      "text/html": [
       "<div>\n",
       "<style scoped>\n",
       "    .dataframe tbody tr th:only-of-type {\n",
       "        vertical-align: middle;\n",
       "    }\n",
       "\n",
       "    .dataframe tbody tr th {\n",
       "        vertical-align: top;\n",
       "    }\n",
       "\n",
       "    .dataframe thead th {\n",
       "        text-align: right;\n",
       "    }\n",
       "</style>\n",
       "<table border=\"1\" class=\"dataframe\">\n",
       "  <thead>\n",
       "    <tr style=\"text-align: right;\">\n",
       "      <th></th>\n",
       "      <th>satellite</th>\n",
       "      <th>linestring</th>\n",
       "      <th>timestamp</th>\n",
       "      <th>time_string</th>\n",
       "    </tr>\n",
       "  </thead>\n",
       "  <tbody>\n",
       "    <tr>\n",
       "      <th>0</th>\n",
       "      <td>FLOCK 4BE-1</td>\n",
       "      <td>LINESTRING (-56.25717 -82.58685, -100.74972 -7...</td>\n",
       "      <td>2024-09-30 08:10:17+00:00</td>\n",
       "      <td>2024-09-30 08:10:17</td>\n",
       "    </tr>\n",
       "    <tr>\n",
       "      <th>1</th>\n",
       "      <td>FLOCK 4BE-1</td>\n",
       "      <td>LINESTRING (-100.74972 -79.14175, -118.96363 -...</td>\n",
       "      <td>2024-09-30 08:12:17+00:00</td>\n",
       "      <td>2024-09-30 08:12:17</td>\n",
       "    </tr>\n",
       "    <tr>\n",
       "      <th>2</th>\n",
       "      <td>FLOCK 4BE-1</td>\n",
       "      <td>LINESTRING (-118.96363 -72.85942, -127.52718 -...</td>\n",
       "      <td>2024-09-30 08:14:17+00:00</td>\n",
       "      <td>2024-09-30 08:14:17</td>\n",
       "    </tr>\n",
       "    <tr>\n",
       "      <th>3</th>\n",
       "      <td>FLOCK 4BE-1</td>\n",
       "      <td>LINESTRING (-127.52718 -65.85457, -172.98478 6...</td>\n",
       "      <td>2024-09-30 08:16:17+00:00</td>\n",
       "      <td>2024-09-30 08:16:17</td>\n",
       "    </tr>\n",
       "    <tr>\n",
       "      <th>4</th>\n",
       "      <td>FLOCK 4BE-1</td>\n",
       "      <td>LINESTRING (-172.98478 68.84880, 175.55200 75....</td>\n",
       "      <td>2024-09-30 08:52:17+00:00</td>\n",
       "      <td>2024-09-30 08:52:17</td>\n",
       "    </tr>\n",
       "    <tr>\n",
       "      <th>...</th>\n",
       "      <td>...</td>\n",
       "      <td>...</td>\n",
       "      <td>...</td>\n",
       "      <td>...</td>\n",
       "    </tr>\n",
       "    <tr>\n",
       "      <th>112362</th>\n",
       "      <td>TANAGER-1</td>\n",
       "      <td>LINESTRING (18.87117 -71.40974, 3.70230 -77.92...</td>\n",
       "      <td>2024-10-02 07:52:17+00:00</td>\n",
       "      <td>2024-10-02 07:52:17</td>\n",
       "    </tr>\n",
       "    <tr>\n",
       "      <th>112363</th>\n",
       "      <td>TANAGER-1</td>\n",
       "      <td>LINESTRING (3.70230 -77.92690, -33.98769 -82.3...</td>\n",
       "      <td>2024-10-02 07:54:17+00:00</td>\n",
       "      <td>2024-10-02 07:54:17</td>\n",
       "    </tr>\n",
       "    <tr>\n",
       "      <th>112364</th>\n",
       "      <td>TANAGER-1</td>\n",
       "      <td>LINESTRING (-33.98769 -82.32836, -86.68870 -80...</td>\n",
       "      <td>2024-10-02 07:56:17+00:00</td>\n",
       "      <td>2024-10-02 07:56:17</td>\n",
       "    </tr>\n",
       "    <tr>\n",
       "      <th>112365</th>\n",
       "      <td>TANAGER-1</td>\n",
       "      <td>LINESTRING (-86.68870 -80.79299, -111.33058 -7...</td>\n",
       "      <td>2024-10-02 07:58:17+00:00</td>\n",
       "      <td>2024-10-02 07:58:17</td>\n",
       "    </tr>\n",
       "    <tr>\n",
       "      <th>112366</th>\n",
       "      <td>TANAGER-1</td>\n",
       "      <td>LINESTRING (-111.33058 -75.04698, -121.98541 -...</td>\n",
       "      <td>2024-10-02 08:00:17+00:00</td>\n",
       "      <td>2024-10-02 08:00:17</td>\n",
       "    </tr>\n",
       "  </tbody>\n",
       "</table>\n",
       "<p>112367 rows × 4 columns</p>\n",
       "</div>"
      ],
      "text/plain": [
       "          satellite                                         linestring  \\\n",
       "0       FLOCK 4BE-1  LINESTRING (-56.25717 -82.58685, -100.74972 -7...   \n",
       "1       FLOCK 4BE-1  LINESTRING (-100.74972 -79.14175, -118.96363 -...   \n",
       "2       FLOCK 4BE-1  LINESTRING (-118.96363 -72.85942, -127.52718 -...   \n",
       "3       FLOCK 4BE-1  LINESTRING (-127.52718 -65.85457, -172.98478 6...   \n",
       "4       FLOCK 4BE-1  LINESTRING (-172.98478 68.84880, 175.55200 75....   \n",
       "...             ...                                                ...   \n",
       "112362    TANAGER-1  LINESTRING (18.87117 -71.40974, 3.70230 -77.92...   \n",
       "112363    TANAGER-1  LINESTRING (3.70230 -77.92690, -33.98769 -82.3...   \n",
       "112364    TANAGER-1  LINESTRING (-33.98769 -82.32836, -86.68870 -80...   \n",
       "112365    TANAGER-1  LINESTRING (-86.68870 -80.79299, -111.33058 -7...   \n",
       "112366    TANAGER-1  LINESTRING (-111.33058 -75.04698, -121.98541 -...   \n",
       "\n",
       "                       timestamp          time_string  \n",
       "0      2024-09-30 08:10:17+00:00  2024-09-30 08:10:17  \n",
       "1      2024-09-30 08:12:17+00:00  2024-09-30 08:12:17  \n",
       "2      2024-09-30 08:14:17+00:00  2024-09-30 08:14:17  \n",
       "3      2024-09-30 08:16:17+00:00  2024-09-30 08:16:17  \n",
       "4      2024-09-30 08:52:17+00:00  2024-09-30 08:52:17  \n",
       "...                          ...                  ...  \n",
       "112362 2024-10-02 07:52:17+00:00  2024-10-02 07:52:17  \n",
       "112363 2024-10-02 07:54:17+00:00  2024-10-02 07:54:17  \n",
       "112364 2024-10-02 07:56:17+00:00  2024-10-02 07:56:17  \n",
       "112365 2024-10-02 07:58:17+00:00  2024-10-02 07:58:17  \n",
       "112366 2024-10-02 08:00:17+00:00  2024-10-02 08:00:17  \n",
       "\n",
       "[112367 rows x 4 columns]"
      ]
     },
     "execution_count": 18,
     "metadata": {},
     "output_type": "execute_result"
    }
   ],
   "source": [
    "new_rows = []\n",
    "\n",
    "for satellite, group in planet_day.groupby('satellite'):\n",
    "    line_segments = create_individual_linestrings(group['coordinates'], group['timestamp'], group['time_string'])\n",
    "    for segment in line_segments:\n",
    "        new_rows.append({'satellite': satellite, 'linestring': segment['linestring'], 'timestamp': segment['timestamp'], 'time_string': segment['time_string']})\n",
    "\n",
    "path_segments = gpd.GeoDataFrame(new_rows, geometry='linestring')\n",
    "path_segments"
   ]
  },
  {
   "cell_type": "markdown",
   "metadata": {},
   "source": [
    "If these line segments are not within the AOI, we can drop them from the dataframe."
   ]
  },
  {
   "cell_type": "code",
   "execution_count": 19,
   "metadata": {},
   "outputs": [],
   "source": [
    "def is_within_aoi(linestring, florida):\n",
    "    return linestring.intersects(florida)"
   ]
  },
  {
   "cell_type": "code",
   "execution_count": 20,
   "metadata": {},
   "outputs": [],
   "source": [
    "path_segments['within_aoi'] = path_segments['linestring'].apply(lambda x: is_within_aoi(x, florida))\n",
    "path_segments_clipped = path_segments[path_segments['within_aoi']].drop(columns='within_aoi')\n",
    "\n",
    "path_segments_clipped['length'] = path_segments_clipped['linestring'].apply(lambda x: x.length)\n",
    "\n",
    "# This is a way to drop segments that are not proper representations of paths, such as errors caused by traversing the International Date Line, or jumps between calculated points when a satellite enters and exits a nighttime area.\n",
    "path_segments_clipped = path_segments_clipped[path_segments_clipped[\"length\"] <= 75].drop(columns='length')"
   ]
  },
  {
   "cell_type": "markdown",
   "metadata": {},
   "source": [
    "As with the single satellite, we can create a color scale that shows the time of the satellite's pass for each line segment. In this example, white is closer to `now` and orange is closer to +48h."
   ]
  },
  {
   "cell_type": "code",
   "execution_count": 21,
   "metadata": {},
   "outputs": [],
   "source": [
    "# This creates a range from 0-1 to define our colormap.\n",
    "time_norm_planet_swarm = (path_segments_clipped.timestamp - t1) / (t2 - t1)\n",
    "\n",
    "colors_planet_swarm = apply_continuous_cmap(time_norm_planet_swarm, Oranges_9, alpha=.5)"
   ]
  },
  {
   "cell_type": "markdown",
   "metadata": {},
   "source": [
    "We can roughly estimate the width of the ground coverage of a Planet satellite to be 6km (i.e., the width of an image is 6km). To visualize this, we can set `get_width` to be 6km."
   ]
  },
  {
   "cell_type": "code",
   "execution_count": 22,
   "metadata": {},
   "outputs": [
    {
     "name": "stderr",
     "output_type": "stream",
     "text": [
      "/opt/homebrew/lib/python3.10/site-packages/lonboard/_geoarrow/ops/reproject.py:23: UserWarning: No CRS exists on data. If no data is shown on the map, double check that your CRS is WGS84.\n",
      "  warn(\n"
     ]
    }
   ],
   "source": [
    "layer2 = PathLayer.from_geopandas(\n",
    "    path_segments_clipped,\n",
    "    get_color = colors_planet_swarm,\n",
    "    get_width=6000,\n",
    "    opacity=1,\n",
    "    auto_highlight=True\n",
    ")"
   ]
  },
  {
   "cell_type": "code",
   "execution_count": 23,
   "metadata": {},
   "outputs": [
    {
     "data": {
      "application/vnd.jupyter.widget-view+json": {
       "model_id": "f16d79fb8e844662b632a14144916ca3",
       "version_major": 2,
       "version_minor": 1
      },
      "text/plain": [
       "Map(basemap_style=<CartoBasemap.DarkMatter: 'https://basemaps.cartocdn.com/gl/dark-matter-gl-style/style.json'…"
      ]
     },
     "execution_count": 23,
     "metadata": {},
     "output_type": "execute_result"
    }
   ],
   "source": [
    "m2 = Map(\n",
    "    [layer2],\n",
    "    basemap_style = basemap.CartoBasemap.DarkMatter,\n",
    "    )\n",
    "m2"
   ]
  },
  {
   "cell_type": "markdown",
   "metadata": {},
   "source": [
    "As expected, there are many more passes than by a single satellite. Due to small area of interests for many events, cloud cover, and other variables, a larger constellation lets practitioners then narrow down their search.\n",
    "\n",
    "The visualization of these paths give practitioners a good sense of the time an image of an area of interest will be captured. For example, a practitioner would be interested in an AOI of this size, but might be particularly interested in images of Miami. They could zoom in to Miami and see if a path covers or comes close to Miami. If so, and if there isn't excessive cloud cover, an image could be made available or tasked. If multiple paths cover Miami, that indicates a better chance of capturing a valuable image.\n",
    "\n",
    "Once a satellite is calculated to have passed over an AOI, the next step could be to analyze the imagery, ideally using the other STAC and COG focused notebooks in this repository. Combining a positioning calculation with automated image loading and processing could be the foundations for a powerful EO-based monitoring and alerting system."
   ]
  }
 ],
 "metadata": {
  "kernelspec": {
   "display_name": "Python 3",
   "language": "python",
   "name": "python3"
  },
  "language_info": {
   "codemirror_mode": {
    "name": "ipython",
    "version": 3
   },
   "file_extension": ".py",
   "mimetype": "text/x-python",
   "name": "python",
   "nbconvert_exporter": "python",
   "pygments_lexer": "ipython3",
   "version": "3.10.13"
  }
 },
 "nbformat": 4,
 "nbformat_minor": 2
}
