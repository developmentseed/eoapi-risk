{
 "cells": [
  {
   "cell_type": "markdown",
   "metadata": {},
   "source": [
    "# Satellite Location Demo"
   ]
  },
  {
   "cell_type": "markdown",
   "metadata": {},
   "source": [
    "Timeliness is an important aspect for countless uses of Earth Observation (EO) data. Humanitarians, for example, benefit from imagery immediately before or after an emergency.\n",
    "\n",
    "Knowing when an image was captured of an area of interested, or when it will be captured next, can help humanitarians better understand where aid is most needed.\n",
    "\n",
    "This notebook demonstrates how the location of EO satellites can be computed, both in the past and in the future, in an area of interest. This can be used as a proxy of where images were and will be captured. \n",
    "\n",
    "These techniques could be combined with those in other notebooks in this repository, such as loading STAC items and calculating how a disaster impacts people, to create automated analysis for past and future disasters."
   ]
  },
  {
   "cell_type": "markdown",
   "metadata": {},
   "source": [
    "## Load Libraries and Data"
   ]
  },
  {
   "cell_type": "markdown",
   "metadata": {},
   "source": [
    "We'll use the [sgp4](https://pypi.org/project/sgp4/) and [skyfield](https://rhodesmill.org/skyfield/) libraries, which help us calculate the position of satellites using complex orbital physics."
   ]
  },
  {
   "cell_type": "code",
   "execution_count": 49,
   "metadata": {},
   "outputs": [],
   "source": [
    "from skyfield.api import load, wgs84, Timescale\n",
    "\n",
    "from datetime import datetime, timedelta, timezone\n",
    "\n",
    "from lonboard import viz, Map, ScatterplotLayer, basemap, PathLayer\n",
    "from lonboard.colormap import apply_continuous_cmap\n",
    "from palettable.colorbrewer.sequential import Purples_9\n",
    "from palettable.colorbrewer.diverging import BrBG_9\n",
    "\n",
    "import geopandas as gpd\n",
    "import pandas as pd\n",
    "from shapely import Point, LineString"
   ]
  },
  {
   "cell_type": "markdown",
   "metadata": {},
   "source": [
    "We'll load information about specific satellites from [Celestrak](https://celestrak.org). Due to the complexities of orbital physics, data about satellites needs to be updated frequently is only accurate for about 1 week before and after \"epoch\".\n",
    "\n",
    "For this example, we'll calculate the position of Sentinel 2b."
   ]
  },
  {
   "cell_type": "code",
   "execution_count": 2,
   "metadata": {},
   "outputs": [
    {
     "name": "stderr",
     "output_type": "stream",
     "text": [
      "[#################################] 100% sentinel_2b\n"
     ]
    }
   ],
   "source": [
    "sentinel_2b_url = \"https://celestrak.org/NORAD/elements/gp.php?CATNR=42063\"\n",
    "\n",
    "sentinel_2b = load.tle_file(sentinel_2b_url, reload=True, filename=\"sentinel_2b\")"
   ]
  },
  {
   "cell_type": "code",
   "execution_count": 3,
   "metadata": {},
   "outputs": [
    {
     "data": {
      "text/plain": [
       "<EarthSatellite SENTINEL-2B catalog #42063 epoch 2024-07-04 04:48:48 UTC>"
      ]
     },
     "execution_count": 3,
     "metadata": {},
     "output_type": "execute_result"
    }
   ],
   "source": [
    "satellite = sentinel_2b[0]\n",
    "satellite"
   ]
  },
  {
   "cell_type": "markdown",
   "metadata": {},
   "source": [
    "---"
   ]
  },
  {
   "cell_type": "markdown",
   "metadata": {},
   "source": [
    "## Calculating the position of a satellite"
   ]
  },
  {
   "cell_type": "markdown",
   "metadata": {},
   "source": [
    "For sudden-onset emergencies, the time immediately before an after an event are the most critical. We can set a time range of +- 1 day from a certain point in time. For the purposes of this notebook, we'll use `now` (the time when the cell is run)."
   ]
  },
  {
   "cell_type": "code",
   "execution_count": 4,
   "metadata": {},
   "outputs": [],
   "source": [
    "# Calculate the current UTC time (without microseconds), then creating a time range +/- 24h\n",
    "\n",
    "# load timescale\n",
    "ts = load.timescale()\n",
    "\n",
    "# load \"ephemeris\" (https://rhodesmill.org/skyfield/api.html#planetary-ephemerides)\n",
    "eph = load('de421.bsp')\n",
    "\n",
    "now = datetime.now(timezone.utc).replace(microsecond=0)\n",
    "t1 = now\n",
    "t2 = now + timedelta(days=2)"
   ]
  },
  {
   "cell_type": "markdown",
   "metadata": {},
   "source": [
    "To calculate the position of the satellite throughout the time range, we can initiate a timer and then calculate the position at each time step (defined below)."
   ]
  },
  {
   "cell_type": "code",
   "execution_count": 5,
   "metadata": {},
   "outputs": [],
   "source": [
    "# initiate\n",
    "\n",
    "timer = t1\n",
    "\n",
    "df = pd.DataFrame(columns=['satellite', 'timestamp', 'coordinates', 'lng', 'lat', 'daytime'])\n",
    "\n",
    "rows = []"
   ]
  },
  {
   "cell_type": "markdown",
   "metadata": {},
   "source": [
    "The `location_iteration` function lodes the geocentric location, calculates the latitude and longitude, converts them to decimal degrees, and saves them as a point coordinate. It also checks if the satellite is sunlit at the time of calculation, which can be used as an approximation of if it is daytime below."
   ]
  },
  {
   "cell_type": "code",
   "execution_count": 6,
   "metadata": {},
   "outputs": [],
   "source": [
    "def location_iteration(timer, sat):\n",
    "    geocentric = sat.at(Timescale.from_datetime(ts, timer))\n",
    "    lat, lon = wgs84.latlon_of(geocentric)\n",
    "    longitude = lon.degrees\n",
    "    latitude = lat.degrees\n",
    "    daytime = geocentric.is_sunlit(eph)\n",
    "    coords = Point(longitude, latitude)\n",
    "\n",
    "    return timer, longitude, latitude, coords, daytime"
   ]
  },
  {
   "cell_type": "markdown",
   "metadata": {},
   "source": [
    "Then, we can iterate over the time frame. The more frequent the measurements, the slower the calculation takes."
   ]
  },
  {
   "cell_type": "code",
   "execution_count": 7,
   "metadata": {},
   "outputs": [],
   "source": [
    "while timer <= t2:\n",
    "    timer, longitude, latitude, coords, daytime = location_iteration(timer, sentinel_2b[0])\n",
    "\n",
    "    row = pd.DataFrame({'satellite': satellite.name, 'timestamp': timer, 'coordinates': [coords], 'lng': longitude, 'lat': latitude, 'daytime': daytime}, index=[0])\n",
    "    rows.append(row)    \n",
    "\n",
    "    timer += timedelta(seconds=15) # ~13 seconds\n",
    "\n",
    "df = pd.concat(rows, ignore_index=True)\n",
    "df[\"time_string\"] = df[\"timestamp\"].dt.strftime('%Y-%m-%d %X')"
   ]
  },
  {
   "cell_type": "markdown",
   "metadata": {},
   "source": [
    "We can then save this as a geodataframe."
   ]
  },
  {
   "cell_type": "code",
   "execution_count": 8,
   "metadata": {},
   "outputs": [
    {
     "data": {
      "text/html": [
       "<div>\n",
       "<style scoped>\n",
       "    .dataframe tbody tr th:only-of-type {\n",
       "        vertical-align: middle;\n",
       "    }\n",
       "\n",
       "    .dataframe tbody tr th {\n",
       "        vertical-align: top;\n",
       "    }\n",
       "\n",
       "    .dataframe thead th {\n",
       "        text-align: right;\n",
       "    }\n",
       "</style>\n",
       "<table border=\"1\" class=\"dataframe\">\n",
       "  <thead>\n",
       "    <tr style=\"text-align: right;\">\n",
       "      <th></th>\n",
       "      <th>satellite</th>\n",
       "      <th>timestamp</th>\n",
       "      <th>coordinates</th>\n",
       "      <th>lng</th>\n",
       "      <th>lat</th>\n",
       "      <th>daytime</th>\n",
       "      <th>time_string</th>\n",
       "    </tr>\n",
       "  </thead>\n",
       "  <tbody>\n",
       "    <tr>\n",
       "      <th>0</th>\n",
       "      <td>SENTINEL-2B</td>\n",
       "      <td>2024-07-04 14:47:19+00:00</td>\n",
       "      <td>POINT (118.85968 -20.19238)</td>\n",
       "      <td>118.859682</td>\n",
       "      <td>-20.192376</td>\n",
       "      <td>False</td>\n",
       "      <td>2024-07-04 14:47:19</td>\n",
       "    </tr>\n",
       "    <tr>\n",
       "      <th>1</th>\n",
       "      <td>SENTINEL-2B</td>\n",
       "      <td>2024-07-04 14:47:34+00:00</td>\n",
       "      <td>POINT (118.64705 -19.30638)</td>\n",
       "      <td>118.647049</td>\n",
       "      <td>-19.306379</td>\n",
       "      <td>False</td>\n",
       "      <td>2024-07-04 14:47:34</td>\n",
       "    </tr>\n",
       "    <tr>\n",
       "      <th>2</th>\n",
       "      <td>SENTINEL-2B</td>\n",
       "      <td>2024-07-04 14:47:49+00:00</td>\n",
       "      <td>POINT (118.43601 -18.42013)</td>\n",
       "      <td>118.436012</td>\n",
       "      <td>-18.420125</td>\n",
       "      <td>False</td>\n",
       "      <td>2024-07-04 14:47:49</td>\n",
       "    </tr>\n",
       "    <tr>\n",
       "      <th>3</th>\n",
       "      <td>SENTINEL-2B</td>\n",
       "      <td>2024-07-04 14:48:04+00:00</td>\n",
       "      <td>POINT (118.22648 -17.53363)</td>\n",
       "      <td>118.226476</td>\n",
       "      <td>-17.533625</td>\n",
       "      <td>False</td>\n",
       "      <td>2024-07-04 14:48:04</td>\n",
       "    </tr>\n",
       "    <tr>\n",
       "      <th>4</th>\n",
       "      <td>SENTINEL-2B</td>\n",
       "      <td>2024-07-04 14:48:19+00:00</td>\n",
       "      <td>POINT (118.01835 -16.64689)</td>\n",
       "      <td>118.018350</td>\n",
       "      <td>-16.646890</td>\n",
       "      <td>False</td>\n",
       "      <td>2024-07-04 14:48:19</td>\n",
       "    </tr>\n",
       "    <tr>\n",
       "      <th>...</th>\n",
       "      <td>...</td>\n",
       "      <td>...</td>\n",
       "      <td>...</td>\n",
       "      <td>...</td>\n",
       "      <td>...</td>\n",
       "      <td>...</td>\n",
       "      <td>...</td>\n",
       "    </tr>\n",
       "    <tr>\n",
       "      <th>11516</th>\n",
       "      <td>SENTINEL-2B</td>\n",
       "      <td>2024-07-06 14:46:19+00:00</td>\n",
       "      <td>POINT (-65.92535 -12.31391)</td>\n",
       "      <td>-65.925352</td>\n",
       "      <td>-12.313913</td>\n",
       "      <td>True</td>\n",
       "      <td>2024-07-06 14:46:19</td>\n",
       "    </tr>\n",
       "    <tr>\n",
       "      <th>11517</th>\n",
       "      <td>SENTINEL-2B</td>\n",
       "      <td>2024-07-06 14:46:34+00:00</td>\n",
       "      <td>POINT (-66.12781 -13.20165)</td>\n",
       "      <td>-66.127811</td>\n",
       "      <td>-13.201648</td>\n",
       "      <td>True</td>\n",
       "      <td>2024-07-06 14:46:34</td>\n",
       "    </tr>\n",
       "    <tr>\n",
       "      <th>11518</th>\n",
       "      <td>SENTINEL-2B</td>\n",
       "      <td>2024-07-06 14:46:49+00:00</td>\n",
       "      <td>POINT (-66.33127 -14.08920)</td>\n",
       "      <td>-66.331275</td>\n",
       "      <td>-14.089199</td>\n",
       "      <td>True</td>\n",
       "      <td>2024-07-06 14:46:49</td>\n",
       "    </tr>\n",
       "    <tr>\n",
       "      <th>11519</th>\n",
       "      <td>SENTINEL-2B</td>\n",
       "      <td>2024-07-06 14:47:04+00:00</td>\n",
       "      <td>POINT (-66.53582 -14.97656)</td>\n",
       "      <td>-66.535820</td>\n",
       "      <td>-14.976557</td>\n",
       "      <td>True</td>\n",
       "      <td>2024-07-06 14:47:04</td>\n",
       "    </tr>\n",
       "    <tr>\n",
       "      <th>11520</th>\n",
       "      <td>SENTINEL-2B</td>\n",
       "      <td>2024-07-06 14:47:19+00:00</td>\n",
       "      <td>POINT (-66.74153 -15.86371)</td>\n",
       "      <td>-66.741529</td>\n",
       "      <td>-15.863710</td>\n",
       "      <td>True</td>\n",
       "      <td>2024-07-06 14:47:19</td>\n",
       "    </tr>\n",
       "  </tbody>\n",
       "</table>\n",
       "<p>11521 rows × 7 columns</p>\n",
       "</div>"
      ],
      "text/plain": [
       "         satellite                 timestamp                  coordinates  \\\n",
       "0      SENTINEL-2B 2024-07-04 14:47:19+00:00  POINT (118.85968 -20.19238)   \n",
       "1      SENTINEL-2B 2024-07-04 14:47:34+00:00  POINT (118.64705 -19.30638)   \n",
       "2      SENTINEL-2B 2024-07-04 14:47:49+00:00  POINT (118.43601 -18.42013)   \n",
       "3      SENTINEL-2B 2024-07-04 14:48:04+00:00  POINT (118.22648 -17.53363)   \n",
       "4      SENTINEL-2B 2024-07-04 14:48:19+00:00  POINT (118.01835 -16.64689)   \n",
       "...            ...                       ...                          ...   \n",
       "11516  SENTINEL-2B 2024-07-06 14:46:19+00:00  POINT (-65.92535 -12.31391)   \n",
       "11517  SENTINEL-2B 2024-07-06 14:46:34+00:00  POINT (-66.12781 -13.20165)   \n",
       "11518  SENTINEL-2B 2024-07-06 14:46:49+00:00  POINT (-66.33127 -14.08920)   \n",
       "11519  SENTINEL-2B 2024-07-06 14:47:04+00:00  POINT (-66.53582 -14.97656)   \n",
       "11520  SENTINEL-2B 2024-07-06 14:47:19+00:00  POINT (-66.74153 -15.86371)   \n",
       "\n",
       "              lng        lat  daytime          time_string  \n",
       "0      118.859682 -20.192376    False  2024-07-04 14:47:19  \n",
       "1      118.647049 -19.306379    False  2024-07-04 14:47:34  \n",
       "2      118.436012 -18.420125    False  2024-07-04 14:47:49  \n",
       "3      118.226476 -17.533625    False  2024-07-04 14:48:04  \n",
       "4      118.018350 -16.646890    False  2024-07-04 14:48:19  \n",
       "...           ...        ...      ...                  ...  \n",
       "11516  -65.925352 -12.313913     True  2024-07-06 14:46:19  \n",
       "11517  -66.127811 -13.201648     True  2024-07-06 14:46:34  \n",
       "11518  -66.331275 -14.089199     True  2024-07-06 14:46:49  \n",
       "11519  -66.535820 -14.976557     True  2024-07-06 14:47:04  \n",
       "11520  -66.741529 -15.863710     True  2024-07-06 14:47:19  \n",
       "\n",
       "[11521 rows x 7 columns]"
      ]
     },
     "execution_count": 8,
     "metadata": {},
     "output_type": "execute_result"
    }
   ],
   "source": [
    "sentinel_2b_gdf = gpd.GeoDataFrame(df, geometry=\"coordinates\")\n",
    "sentinel_2b_gdf"
   ]
  },
  {
   "cell_type": "markdown",
   "metadata": {},
   "source": [
    "Let's refine our area of interest to see when/where satellites pass overhead. We can use a large bounding box of South Asia for demonstration purposes."
   ]
  },
  {
   "cell_type": "code",
   "execution_count": 9,
   "metadata": {},
   "outputs": [
    {
     "data": {
      "text/plain": [
       "[-89, -74, 22, 32]"
      ]
     },
     "execution_count": 9,
     "metadata": {},
     "output_type": "execute_result"
    }
   ],
   "source": [
    "# Florida\n",
    "\n",
    "min_lon = -89\n",
    "max_lon = -74\n",
    "min_lat = 22\n",
    "max_lat = 32\n",
    "\n",
    "bbox=[min_lon, max_lon, min_lat, max_lat]\n",
    "bbox"
   ]
  },
  {
   "cell_type": "code",
   "execution_count": 10,
   "metadata": {},
   "outputs": [
    {
     "data": {
      "text/html": [
       "<div>\n",
       "<style scoped>\n",
       "    .dataframe tbody tr th:only-of-type {\n",
       "        vertical-align: middle;\n",
       "    }\n",
       "\n",
       "    .dataframe tbody tr th {\n",
       "        vertical-align: top;\n",
       "    }\n",
       "\n",
       "    .dataframe thead th {\n",
       "        text-align: right;\n",
       "    }\n",
       "</style>\n",
       "<table border=\"1\" class=\"dataframe\">\n",
       "  <thead>\n",
       "    <tr style=\"text-align: right;\">\n",
       "      <th></th>\n",
       "      <th>satellite</th>\n",
       "      <th>timestamp</th>\n",
       "      <th>coordinates</th>\n",
       "      <th>lng</th>\n",
       "      <th>lat</th>\n",
       "      <th>daytime</th>\n",
       "      <th>time_string</th>\n",
       "    </tr>\n",
       "  </thead>\n",
       "  <tbody>\n",
       "    <tr>\n",
       "      <th>6230</th>\n",
       "      <td>SENTINEL-2B</td>\n",
       "      <td>2024-07-05 16:44:49+00:00</td>\n",
       "      <td>POINT (-88.35006 31.76702)</td>\n",
       "      <td>-88.350062</td>\n",
       "      <td>31.767024</td>\n",
       "      <td>True</td>\n",
       "      <td>2024-07-05 16:44:49</td>\n",
       "    </tr>\n",
       "    <tr>\n",
       "      <th>6231</th>\n",
       "      <td>SENTINEL-2B</td>\n",
       "      <td>2024-07-05 16:45:04+00:00</td>\n",
       "      <td>POINT (-88.59483 30.88337)</td>\n",
       "      <td>-88.594829</td>\n",
       "      <td>30.883369</td>\n",
       "      <td>True</td>\n",
       "      <td>2024-07-05 16:45:04</td>\n",
       "    </tr>\n",
       "    <tr>\n",
       "      <th>6232</th>\n",
       "      <td>SENTINEL-2B</td>\n",
       "      <td>2024-07-05 16:45:19+00:00</td>\n",
       "      <td>POINT (-88.83629 29.99934)</td>\n",
       "      <td>-88.836289</td>\n",
       "      <td>29.999342</td>\n",
       "      <td>True</td>\n",
       "      <td>2024-07-05 16:45:19</td>\n",
       "    </tr>\n",
       "    <tr>\n",
       "      <th>8910</th>\n",
       "      <td>SENTINEL-2B</td>\n",
       "      <td>2024-07-06 03:54:49+00:00</td>\n",
       "      <td>POINT (-84.79976 22.86861)</td>\n",
       "      <td>-84.799764</td>\n",
       "      <td>22.868613</td>\n",
       "      <td>False</td>\n",
       "      <td>2024-07-06 03:54:49</td>\n",
       "    </tr>\n",
       "    <tr>\n",
       "      <th>8911</th>\n",
       "      <td>SENTINEL-2B</td>\n",
       "      <td>2024-07-06 03:55:04+00:00</td>\n",
       "      <td>POINT (-85.02014 23.75511)</td>\n",
       "      <td>-85.020137</td>\n",
       "      <td>23.755105</td>\n",
       "      <td>False</td>\n",
       "      <td>2024-07-06 03:55:04</td>\n",
       "    </tr>\n",
       "    <tr>\n",
       "      <th>8912</th>\n",
       "      <td>SENTINEL-2B</td>\n",
       "      <td>2024-07-06 03:55:19+00:00</td>\n",
       "      <td>POINT (-85.24266 24.64134)</td>\n",
       "      <td>-85.242658</td>\n",
       "      <td>24.641340</td>\n",
       "      <td>False</td>\n",
       "      <td>2024-07-06 03:55:19</td>\n",
       "    </tr>\n",
       "    <tr>\n",
       "      <th>8913</th>\n",
       "      <td>SENTINEL-2B</td>\n",
       "      <td>2024-07-06 03:55:34+00:00</td>\n",
       "      <td>POINT (-85.46745 25.52730)</td>\n",
       "      <td>-85.467448</td>\n",
       "      <td>25.527303</td>\n",
       "      <td>False</td>\n",
       "      <td>2024-07-06 03:55:34</td>\n",
       "    </tr>\n",
       "    <tr>\n",
       "      <th>8914</th>\n",
       "      <td>SENTINEL-2B</td>\n",
       "      <td>2024-07-06 03:55:49+00:00</td>\n",
       "      <td>POINT (-85.69463 26.41298)</td>\n",
       "      <td>-85.694633</td>\n",
       "      <td>26.412981</td>\n",
       "      <td>False</td>\n",
       "      <td>2024-07-06 03:55:49</td>\n",
       "    </tr>\n",
       "    <tr>\n",
       "      <th>8915</th>\n",
       "      <td>SENTINEL-2B</td>\n",
       "      <td>2024-07-06 03:56:04+00:00</td>\n",
       "      <td>POINT (-85.92435 27.29836)</td>\n",
       "      <td>-85.924346</td>\n",
       "      <td>27.298362</td>\n",
       "      <td>False</td>\n",
       "      <td>2024-07-06 03:56:04</td>\n",
       "    </tr>\n",
       "    <tr>\n",
       "      <th>8916</th>\n",
       "      <td>SENTINEL-2B</td>\n",
       "      <td>2024-07-06 03:56:19+00:00</td>\n",
       "      <td>POINT (-86.15673 28.18343)</td>\n",
       "      <td>-86.156726</td>\n",
       "      <td>28.183432</td>\n",
       "      <td>False</td>\n",
       "      <td>2024-07-06 03:56:19</td>\n",
       "    </tr>\n",
       "    <tr>\n",
       "      <th>8917</th>\n",
       "      <td>SENTINEL-2B</td>\n",
       "      <td>2024-07-06 03:56:34+00:00</td>\n",
       "      <td>POINT (-86.39192 29.06818)</td>\n",
       "      <td>-86.391920</td>\n",
       "      <td>29.068176</td>\n",
       "      <td>False</td>\n",
       "      <td>2024-07-06 03:56:34</td>\n",
       "    </tr>\n",
       "    <tr>\n",
       "      <th>8918</th>\n",
       "      <td>SENTINEL-2B</td>\n",
       "      <td>2024-07-06 03:56:49+00:00</td>\n",
       "      <td>POINT (-86.63008 29.95258)</td>\n",
       "      <td>-86.630081</td>\n",
       "      <td>29.952579</td>\n",
       "      <td>False</td>\n",
       "      <td>2024-07-06 03:56:49</td>\n",
       "    </tr>\n",
       "    <tr>\n",
       "      <th>8919</th>\n",
       "      <td>SENTINEL-2B</td>\n",
       "      <td>2024-07-06 03:57:04+00:00</td>\n",
       "      <td>POINT (-86.87137 30.83663)</td>\n",
       "      <td>-86.871371</td>\n",
       "      <td>30.836627</td>\n",
       "      <td>False</td>\n",
       "      <td>2024-07-06 03:57:04</td>\n",
       "    </tr>\n",
       "    <tr>\n",
       "      <th>8920</th>\n",
       "      <td>SENTINEL-2B</td>\n",
       "      <td>2024-07-06 03:57:19+00:00</td>\n",
       "      <td>POINT (-87.11596 31.72030)</td>\n",
       "      <td>-87.115960</td>\n",
       "      <td>31.720304</td>\n",
       "      <td>False</td>\n",
       "      <td>2024-07-06 03:57:19</td>\n",
       "    </tr>\n",
       "  </tbody>\n",
       "</table>\n",
       "</div>"
      ],
      "text/plain": [
       "        satellite                 timestamp                 coordinates  \\\n",
       "6230  SENTINEL-2B 2024-07-05 16:44:49+00:00  POINT (-88.35006 31.76702)   \n",
       "6231  SENTINEL-2B 2024-07-05 16:45:04+00:00  POINT (-88.59483 30.88337)   \n",
       "6232  SENTINEL-2B 2024-07-05 16:45:19+00:00  POINT (-88.83629 29.99934)   \n",
       "8910  SENTINEL-2B 2024-07-06 03:54:49+00:00  POINT (-84.79976 22.86861)   \n",
       "8911  SENTINEL-2B 2024-07-06 03:55:04+00:00  POINT (-85.02014 23.75511)   \n",
       "8912  SENTINEL-2B 2024-07-06 03:55:19+00:00  POINT (-85.24266 24.64134)   \n",
       "8913  SENTINEL-2B 2024-07-06 03:55:34+00:00  POINT (-85.46745 25.52730)   \n",
       "8914  SENTINEL-2B 2024-07-06 03:55:49+00:00  POINT (-85.69463 26.41298)   \n",
       "8915  SENTINEL-2B 2024-07-06 03:56:04+00:00  POINT (-85.92435 27.29836)   \n",
       "8916  SENTINEL-2B 2024-07-06 03:56:19+00:00  POINT (-86.15673 28.18343)   \n",
       "8917  SENTINEL-2B 2024-07-06 03:56:34+00:00  POINT (-86.39192 29.06818)   \n",
       "8918  SENTINEL-2B 2024-07-06 03:56:49+00:00  POINT (-86.63008 29.95258)   \n",
       "8919  SENTINEL-2B 2024-07-06 03:57:04+00:00  POINT (-86.87137 30.83663)   \n",
       "8920  SENTINEL-2B 2024-07-06 03:57:19+00:00  POINT (-87.11596 31.72030)   \n",
       "\n",
       "            lng        lat daytime          time_string  \n",
       "6230 -88.350062  31.767024    True  2024-07-05 16:44:49  \n",
       "6231 -88.594829  30.883369    True  2024-07-05 16:45:04  \n",
       "6232 -88.836289  29.999342    True  2024-07-05 16:45:19  \n",
       "8910 -84.799764  22.868613   False  2024-07-06 03:54:49  \n",
       "8911 -85.020137  23.755105   False  2024-07-06 03:55:04  \n",
       "8912 -85.242658  24.641340   False  2024-07-06 03:55:19  \n",
       "8913 -85.467448  25.527303   False  2024-07-06 03:55:34  \n",
       "8914 -85.694633  26.412981   False  2024-07-06 03:55:49  \n",
       "8915 -85.924346  27.298362   False  2024-07-06 03:56:04  \n",
       "8916 -86.156726  28.183432   False  2024-07-06 03:56:19  \n",
       "8917 -86.391920  29.068176   False  2024-07-06 03:56:34  \n",
       "8918 -86.630081  29.952579   False  2024-07-06 03:56:49  \n",
       "8919 -86.871371  30.836627   False  2024-07-06 03:57:04  \n",
       "8920 -87.115960  31.720304   False  2024-07-06 03:57:19  "
      ]
     },
     "execution_count": 10,
     "metadata": {},
     "output_type": "execute_result"
    }
   ],
   "source": [
    "mask_lon = (sentinel_2b_gdf.lng >= min_lon) & (sentinel_2b_gdf.lng <= max_lon)\n",
    "mask_lat = (sentinel_2b_gdf.lat >= min_lat) & (sentinel_2b_gdf.lat <= max_lat)\n",
    "\n",
    "aoi = sentinel_2b_gdf.where(mask_lon & mask_lat).dropna()\n",
    "aoi"
   ]
  },
  {
   "cell_type": "markdown",
   "metadata": {},
   "source": [
    "Next, we can visualize these points on a map. They are color coded using a continuous color scale, with white being `now` and darker purple being further after `now`."
   ]
  },
  {
   "cell_type": "code",
   "execution_count": 34,
   "metadata": {},
   "outputs": [],
   "source": [
    "# This creates a range from 0-1 to define our colormap.\n",
    "time_norm = (aoi.timestamp - t1) / (t2 - t1)\n",
    "\n",
    "colors = apply_continuous_cmap(time_norm, Purples_9)"
   ]
  },
  {
   "cell_type": "code",
   "execution_count": 35,
   "metadata": {},
   "outputs": [
    {
     "name": "stderr",
     "output_type": "stream",
     "text": [
      "/opt/homebrew/lib/python3.10/site-packages/lonboard/_geoarrow/ops/reproject.py:23: UserWarning: No CRS exists on data. If no data is shown on the map, double check that your CRS is WGS84.\n",
      "  warn(\n"
     ]
    },
    {
     "data": {
      "application/vnd.jupyter.widget-view+json": {
       "model_id": "e996296fe8dc46dfa942b388becb16ae",
       "version_major": 2,
       "version_minor": 1
      },
      "text/plain": [
       "Map(basemap_style=<CartoBasemap.DarkMatter: 'https://basemaps.cartocdn.com/gl/dark-matter-gl-style/style.json'…"
      ]
     },
     "execution_count": 35,
     "metadata": {},
     "output_type": "execute_result"
    }
   ],
   "source": [
    "layer = ScatterplotLayer.from_geopandas(\n",
    "    aoi,\n",
    "    # extensions=[filter_extension],\n",
    "    get_fill_color=colors,\n",
    "    radius_min_pixels = 3\n",
    "    # get_filter_value=filter_values,\n",
    "    # filter_range=initial_filter_range,\n",
    ")\n",
    "\n",
    "m = Map(\n",
    "    layer,\n",
    "    basemap_style = basemap.CartoBasemap.DarkMatter,\n",
    "    )\n",
    "m"
   ]
  },
  {
   "cell_type": "markdown",
   "metadata": {},
   "source": [
    "We can clearly see the passes that Sentinel 2b takes in our area of interest and during our time frame."
   ]
  },
  {
   "cell_type": "markdown",
   "metadata": {},
   "source": [
    "---"
   ]
  },
  {
   "cell_type": "markdown",
   "metadata": {},
   "source": [
    "## Calculating the position of a satellite constellation"
   ]
  },
  {
   "cell_type": "markdown",
   "metadata": {},
   "source": [
    "Usually, humanitarians aren't concerned about which satellite captures an image, as long as they have a timely image with the appropriate resolution, (lack of) cloud cover, bands, etc.\n",
    "\n",
    "The following example calculates the position of Planet satellites. With their portfolio's high spatial and temporal resolution, they are able to capture high-resolution images immediately before or after an event."
   ]
  },
  {
   "cell_type": "code",
   "execution_count": 13,
   "metadata": {},
   "outputs": [
    {
     "name": "stderr",
     "output_type": "stream",
     "text": [
      "[#################################] 100% planet_swarm\n"
     ]
    },
    {
     "data": {
      "text/plain": [
       "<EarthSatellite SKYSAT-A catalog #39418 epoch 2024-07-04 02:34:25 UTC>"
      ]
     },
     "execution_count": 13,
     "metadata": {},
     "output_type": "execute_result"
    }
   ],
   "source": [
    "planet_url = \"https://celestrak.org/NORAD/elements/gp.php?GROUP=planet&FORMAT=tle\"\n",
    "\n",
    "planet_swarm = load.tle_file(planet_url, reload=True, filename=\"planet_swarm\")\n",
    "planet_swarm[0]"
   ]
  },
  {
   "cell_type": "markdown",
   "metadata": {},
   "source": [
    "We then calculate the locations for all Planet satellites during our time frame in set increments."
   ]
  },
  {
   "cell_type": "code",
   "execution_count": 14,
   "metadata": {},
   "outputs": [],
   "source": [
    "timer = t1\n",
    "\n",
    "rows = []\n",
    "\n",
    "while timer <= t2:\n",
    "    for sat in planet_swarm:\n",
    "        timer, longitude, latitude, coords, daytime = location_iteration(timer, sat)\n",
    "\n",
    "        row = pd.DataFrame({'satellite': sat.name, 'timestamp': timer, 'coordinates': [coords], 'lng': longitude, 'lat': latitude, 'daytime': daytime}, index=[0])\n",
    "        rows.append(row)    \n",
    "\n",
    "    timer += timedelta(seconds=60) # ~ 10 min\n",
    "\n",
    "planet_swarm_df = pd.concat(rows, ignore_index=True)\n",
    "planet_swarm_df[\"time_string\"] = planet_swarm_df[\"timestamp\"].dt.strftime('%Y-%m-%d %X')\n"
   ]
  },
  {
   "cell_type": "code",
   "execution_count": 15,
   "metadata": {},
   "outputs": [],
   "source": [
    "planet_swarm_gdf = gpd.GeoDataFrame(planet_swarm_df, geometry=\"coordinates\")"
   ]
  },
  {
   "cell_type": "markdown",
   "metadata": {},
   "source": [
    "Again, we want to look at the satellites in our AOI. Because Planet satellites capture optical images, the following shows the next passes that occur when the satellite is lit (as a proxy of when the ground below is lit)."
   ]
  },
  {
   "cell_type": "code",
   "execution_count": 16,
   "metadata": {},
   "outputs": [
    {
     "data": {
      "text/html": [
       "<div>\n",
       "<style scoped>\n",
       "    .dataframe tbody tr th:only-of-type {\n",
       "        vertical-align: middle;\n",
       "    }\n",
       "\n",
       "    .dataframe tbody tr th {\n",
       "        vertical-align: top;\n",
       "    }\n",
       "\n",
       "    .dataframe thead th {\n",
       "        text-align: right;\n",
       "    }\n",
       "</style>\n",
       "<table border=\"1\" class=\"dataframe\">\n",
       "  <thead>\n",
       "    <tr style=\"text-align: right;\">\n",
       "      <th></th>\n",
       "      <th>satellite</th>\n",
       "      <th>timestamp</th>\n",
       "      <th>coordinates</th>\n",
       "      <th>lng</th>\n",
       "      <th>lat</th>\n",
       "      <th>daytime</th>\n",
       "      <th>time_string</th>\n",
       "    </tr>\n",
       "  </thead>\n",
       "  <tbody>\n",
       "    <tr>\n",
       "      <th>1012</th>\n",
       "      <td>FLOCK 4Y-13</td>\n",
       "      <td>2024-07-04 14:53:19+00:00</td>\n",
       "      <td>POINT (-74.57982 23.13074)</td>\n",
       "      <td>-74.579817</td>\n",
       "      <td>23.130736</td>\n",
       "      <td>True</td>\n",
       "      <td>2024-07-04 14:53:19</td>\n",
       "    </tr>\n",
       "    <tr>\n",
       "      <th>1749</th>\n",
       "      <td>FLOCK 4Y-4</td>\n",
       "      <td>2024-07-04 14:58:19+00:00</td>\n",
       "      <td>POINT (-74.81098 29.05651)</td>\n",
       "      <td>-74.810978</td>\n",
       "      <td>29.056513</td>\n",
       "      <td>True</td>\n",
       "      <td>2024-07-04 14:58:19</td>\n",
       "    </tr>\n",
       "    <tr>\n",
       "      <th>1752</th>\n",
       "      <td>FLOCK 4Y-12</td>\n",
       "      <td>2024-07-04 14:58:19+00:00</td>\n",
       "      <td>POINT (-74.87942 28.02737)</td>\n",
       "      <td>-74.879416</td>\n",
       "      <td>28.027366</td>\n",
       "      <td>True</td>\n",
       "      <td>2024-07-04 14:58:19</td>\n",
       "    </tr>\n",
       "    <tr>\n",
       "      <th>1899</th>\n",
       "      <td>FLOCK 4Y-4</td>\n",
       "      <td>2024-07-04 14:59:19+00:00</td>\n",
       "      <td>POINT (-75.68584 25.25064)</td>\n",
       "      <td>-75.685845</td>\n",
       "      <td>25.250639</td>\n",
       "      <td>True</td>\n",
       "      <td>2024-07-04 14:59:19</td>\n",
       "    </tr>\n",
       "    <tr>\n",
       "      <th>1902</th>\n",
       "      <td>FLOCK 4Y-12</td>\n",
       "      <td>2024-07-04 14:59:19+00:00</td>\n",
       "      <td>POINT (-75.74340 24.22027)</td>\n",
       "      <td>-75.743399</td>\n",
       "      <td>24.220275</td>\n",
       "      <td>True</td>\n",
       "      <td>2024-07-04 14:59:19</td>\n",
       "    </tr>\n",
       "    <tr>\n",
       "      <th>...</th>\n",
       "      <td>...</td>\n",
       "      <td>...</td>\n",
       "      <td>...</td>\n",
       "      <td>...</td>\n",
       "      <td>...</td>\n",
       "      <td>...</td>\n",
       "      <td>...</td>\n",
       "    </tr>\n",
       "    <tr>\n",
       "      <th>430064</th>\n",
       "      <td>SKYSAT-C13</td>\n",
       "      <td>2024-07-06 14:34:19+00:00</td>\n",
       "      <td>POINT (-78.12154 25.91856)</td>\n",
       "      <td>-78.121541</td>\n",
       "      <td>25.918560</td>\n",
       "      <td>True</td>\n",
       "      <td>2024-07-06 14:34:19</td>\n",
       "    </tr>\n",
       "    <tr>\n",
       "      <th>430074</th>\n",
       "      <td>FLOCK 4S-11</td>\n",
       "      <td>2024-07-06 14:34:19+00:00</td>\n",
       "      <td>POINT (-79.60027 23.79144)</td>\n",
       "      <td>-79.600273</td>\n",
       "      <td>23.791435</td>\n",
       "      <td>True</td>\n",
       "      <td>2024-07-06 14:34:19</td>\n",
       "    </tr>\n",
       "    <tr>\n",
       "      <th>430214</th>\n",
       "      <td>SKYSAT-C13</td>\n",
       "      <td>2024-07-06 14:35:19+00:00</td>\n",
       "      <td>POINT (-78.93753 22.08231)</td>\n",
       "      <td>-78.937529</td>\n",
       "      <td>22.082311</td>\n",
       "      <td>True</td>\n",
       "      <td>2024-07-06 14:35:19</td>\n",
       "    </tr>\n",
       "    <tr>\n",
       "      <th>430655</th>\n",
       "      <td>SKYSAT-C2</td>\n",
       "      <td>2024-07-06 14:38:19+00:00</td>\n",
       "      <td>POINT (-86.97005 28.67295)</td>\n",
       "      <td>-86.970051</td>\n",
       "      <td>28.672950</td>\n",
       "      <td>True</td>\n",
       "      <td>2024-07-06 14:38:19</td>\n",
       "    </tr>\n",
       "    <tr>\n",
       "      <th>430805</th>\n",
       "      <td>SKYSAT-C2</td>\n",
       "      <td>2024-07-06 14:39:19+00:00</td>\n",
       "      <td>POINT (-87.80560 24.86657)</td>\n",
       "      <td>-87.805597</td>\n",
       "      <td>24.866573</td>\n",
       "      <td>True</td>\n",
       "      <td>2024-07-06 14:39:19</td>\n",
       "    </tr>\n",
       "  </tbody>\n",
       "</table>\n",
       "<p>492 rows × 7 columns</p>\n",
       "</div>"
      ],
      "text/plain": [
       "          satellite                 timestamp                 coordinates  \\\n",
       "1012    FLOCK 4Y-13 2024-07-04 14:53:19+00:00  POINT (-74.57982 23.13074)   \n",
       "1749     FLOCK 4Y-4 2024-07-04 14:58:19+00:00  POINT (-74.81098 29.05651)   \n",
       "1752    FLOCK 4Y-12 2024-07-04 14:58:19+00:00  POINT (-74.87942 28.02737)   \n",
       "1899     FLOCK 4Y-4 2024-07-04 14:59:19+00:00  POINT (-75.68584 25.25064)   \n",
       "1902    FLOCK 4Y-12 2024-07-04 14:59:19+00:00  POINT (-75.74340 24.22027)   \n",
       "...             ...                       ...                         ...   \n",
       "430064   SKYSAT-C13 2024-07-06 14:34:19+00:00  POINT (-78.12154 25.91856)   \n",
       "430074  FLOCK 4S-11 2024-07-06 14:34:19+00:00  POINT (-79.60027 23.79144)   \n",
       "430214   SKYSAT-C13 2024-07-06 14:35:19+00:00  POINT (-78.93753 22.08231)   \n",
       "430655    SKYSAT-C2 2024-07-06 14:38:19+00:00  POINT (-86.97005 28.67295)   \n",
       "430805    SKYSAT-C2 2024-07-06 14:39:19+00:00  POINT (-87.80560 24.86657)   \n",
       "\n",
       "              lng        lat daytime          time_string  \n",
       "1012   -74.579817  23.130736    True  2024-07-04 14:53:19  \n",
       "1749   -74.810978  29.056513    True  2024-07-04 14:58:19  \n",
       "1752   -74.879416  28.027366    True  2024-07-04 14:58:19  \n",
       "1899   -75.685845  25.250639    True  2024-07-04 14:59:19  \n",
       "1902   -75.743399  24.220275    True  2024-07-04 14:59:19  \n",
       "...           ...        ...     ...                  ...  \n",
       "430064 -78.121541  25.918560    True  2024-07-06 14:34:19  \n",
       "430074 -79.600273  23.791435    True  2024-07-06 14:34:19  \n",
       "430214 -78.937529  22.082311    True  2024-07-06 14:35:19  \n",
       "430655 -86.970051  28.672950    True  2024-07-06 14:38:19  \n",
       "430805 -87.805597  24.866573    True  2024-07-06 14:39:19  \n",
       "\n",
       "[492 rows x 7 columns]"
      ]
     },
     "execution_count": 16,
     "metadata": {},
     "output_type": "execute_result"
    }
   ],
   "source": [
    "mask_lon = (planet_swarm_gdf.lng >= min_lon) & (planet_swarm_gdf.lng <= max_lon)\n",
    "mask_lat = (planet_swarm_gdf.lat >= min_lat) & (planet_swarm_gdf.lat <= max_lat)\n",
    "\n",
    "aoi_planet = planet_swarm_gdf.where(mask_lon & mask_lat).dropna()\n",
    "aoi_planet_day = aoi_planet[aoi_planet.daytime == True]\n",
    "aoi_planet_day[aoi_planet_day[\"timestamp\"] > now]"
   ]
  },
  {
   "cell_type": "code",
   "execution_count": 36,
   "metadata": {},
   "outputs": [],
   "source": [
    "# This creates a range from 0-1 to define our colormap.\n",
    "time_norm_planet = (aoi_planet_day.timestamp - t1) / (t2 - t1)\n",
    "\n",
    "colors_planet = apply_continuous_cmap(time_norm_planet, Purples_9)"
   ]
  },
  {
   "cell_type": "markdown",
   "metadata": {},
   "source": [
    "Let's visualize this with the same color scheme we used before."
   ]
  },
  {
   "cell_type": "code",
   "execution_count": 79,
   "metadata": {},
   "outputs": [
    {
     "name": "stderr",
     "output_type": "stream",
     "text": [
      "/opt/homebrew/lib/python3.10/site-packages/lonboard/_geoarrow/ops/reproject.py:23: UserWarning: No CRS exists on data. If no data is shown on the map, double check that your CRS is WGS84.\n",
      "  warn(\n"
     ]
    },
    {
     "data": {
      "application/vnd.jupyter.widget-view+json": {
       "model_id": "ec37ee022ccb440a9e785e5875c0e619",
       "version_major": 2,
       "version_minor": 1
      },
      "text/plain": [
       "Map(basemap_style=<CartoBasemap.DarkMatter: 'https://basemaps.cartocdn.com/gl/dark-matter-gl-style/style.json'…"
      ]
     },
     "execution_count": 79,
     "metadata": {},
     "output_type": "execute_result"
    }
   ],
   "source": [
    "layer2 = ScatterplotLayer.from_geopandas(\n",
    "    aoi_planet_day,\n",
    "    # extensions=[filter_extension],\n",
    "    get_fill_color=colors_planet,\n",
    "    radius_min_pixels = 3\n",
    "    # get_filter_value=filter_values,\n",
    "    # filter_range=initial_filter_range,\n",
    ")\n",
    "\n",
    "m2 = Map(\n",
    "    layer2,\n",
    "    basemap_style = basemap.CartoBasemap.DarkMatter,\n",
    "    )\n",
    "m2"
   ]
  },
  {
   "cell_type": "markdown",
   "metadata": {},
   "source": [
    "As expected, there are many more passes than by a single satellite. Due to small area of interests for many events, cloud cover, and other variables, a larger constellation lets practitioners then narrow down their search.\n",
    "\n",
    "In reality, satellites are taking more images than the amount of time steps that we arbitrarily set. A line would better represent the path these satellites take. The area of capture of satellites also varies, which a point doesn't represent.\n",
    "\n",
    "Once a satellite is calculated to have passed over an AOI, the next step could be to analyze the imagery, ideally using the other STAC and COG focused notebooks in this repository. Combining a positioning calculation with automated image loading and processing could be the foundations for a powerful EO-based monitoring and alerting system."
   ]
  },
  {
   "cell_type": "markdown",
   "metadata": {},
   "source": [
    "---"
   ]
  },
  {
   "cell_type": "code",
   "execution_count": 45,
   "metadata": {},
   "outputs": [],
   "source": [
    "paths = planet_swarm_gdf.groupby('satellite')['coordinates'].apply(lambda x: LineString(x.tolist()))\n",
    "paths = gpd.GeoDataFrame(paths, geometry='coordinates')\n",
    "paths = paths.reset_index()"
   ]
  },
  {
   "cell_type": "code",
   "execution_count": 48,
   "metadata": {},
   "outputs": [
    {
     "name": "stderr",
     "output_type": "stream",
     "text": [
      "/opt/homebrew/lib/python3.10/site-packages/lonboard/_geoarrow/ops/reproject.py:23: UserWarning: No CRS exists on data. If no data is shown on the map, double check that your CRS is WGS84.\n",
      "  warn(\n",
      "/opt/homebrew/lib/python3.10/site-packages/lonboard/_geoarrow/ops/reproject.py:23: UserWarning: No CRS exists on data. If no data is shown on the map, double check that your CRS is WGS84.\n",
      "  warn(\n"
     ]
    },
    {
     "data": {
      "application/vnd.jupyter.widget-view+json": {
       "model_id": "46febb8e1e6f4f9896235bc46c75e64d",
       "version_major": 2,
       "version_minor": 1
      },
      "text/plain": [
       "Map(basemap_style=<CartoBasemap.DarkMatter: 'https://basemaps.cartocdn.com/gl/dark-matter-gl-style/style.json'…"
      ]
     },
     "execution_count": 48,
     "metadata": {},
     "output_type": "execute_result"
    }
   ],
   "source": [
    "viz([paths, aoi_planet_day])"
   ]
  },
  {
   "cell_type": "code",
   "execution_count": 77,
   "metadata": {},
   "outputs": [
    {
     "name": "stderr",
     "output_type": "stream",
     "text": [
      "/opt/homebrew/lib/python3.10/site-packages/lonboard/_geoarrow/ops/reproject.py:23: UserWarning: No CRS exists on data. If no data is shown on the map, double check that your CRS is WGS84.\n",
      "  warn(\n"
     ]
    }
   ],
   "source": [
    "layer3 = PathLayer.from_geopandas(\n",
    "    paths,\n",
    "    get_color=[255, 255, 255],\n",
    "    width_scale=100,\n",
    "    opacity=.5\n",
    ")"
   ]
  },
  {
   "cell_type": "code",
   "execution_count": 80,
   "metadata": {},
   "outputs": [
    {
     "data": {
      "application/vnd.jupyter.widget-view+json": {
       "model_id": "0fb27ad8c0c644159bec8a01bdecc680",
       "version_major": 2,
       "version_minor": 1
      },
      "text/plain": [
       "Map(basemap_style=<CartoBasemap.DarkMatter: 'https://basemaps.cartocdn.com/gl/dark-matter-gl-style/style.json'…"
      ]
     },
     "execution_count": 80,
     "metadata": {},
     "output_type": "execute_result"
    }
   ],
   "source": [
    "m3 = Map(\n",
    "    [layer3, layer2],\n",
    "    basemap_style = basemap.CartoBasemap.DarkMatter,\n",
    "    )\n",
    "m3"
   ]
  },
  {
   "cell_type": "code",
   "execution_count": null,
   "metadata": {},
   "outputs": [],
   "source": []
  }
 ],
 "metadata": {
  "kernelspec": {
   "display_name": "Python 3",
   "language": "python",
   "name": "python3"
  },
  "language_info": {
   "codemirror_mode": {
    "name": "ipython",
    "version": 3
   },
   "file_extension": ".py",
   "mimetype": "text/x-python",
   "name": "python",
   "nbconvert_exporter": "python",
   "pygments_lexer": "ipython3",
   "version": "3.10.13"
  }
 },
 "nbformat": 4,
 "nbformat_minor": 2
}
