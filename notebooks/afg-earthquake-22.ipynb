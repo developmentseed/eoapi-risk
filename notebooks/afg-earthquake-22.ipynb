{
 "cells": [
  {
   "attachments": {},
   "cell_type": "markdown",
   "metadata": {},
   "source": [
    "## eoAPI in Action - Afghanistan Earthquakes 2022\n",
    "\n",
    "The Jupyter Notebook is dedicated to analyzing the aftermath of the Afghanistan earthquakes in 2022.  The notebook should serve as an example for diving deeper into the available imagery pre and post event and assessing what it could be used for. \n",
    "\n",
    "Firstly, we'll delve into querying MAXAR's catalog of images of the event, and pinpointing those relevant to the regions affected by the earthquakes. \n",
    "\n",
    "If possible based on the images obtained, we'll shift our focus to finding signs of impact, employing sophisticated image analysis techniques to identify and interpret the changes in the landscape. Then we will try to determine the population affected by these seismic events, integrating demographic data with our impact analysis to estimate the extent of the humanitarian challenge. "
   ]
  },
  {
   "attachments": {},
   "cell_type": "markdown",
   "metadata": {},
   "source": [
    "## Setup\n",
    "\n",
    "Before we dive into the analysis, let's set up our environment by importing the necessary libraries. This step is crucial for ensuring that we have all the tools required for our data processing, analysis, and visualization tasks. "
   ]
  },
  {
   "cell_type": "code",
   "execution_count": 41,
   "metadata": {},
   "outputs": [],
   "source": [
    "import IPython\n",
    "!python -m pip install httpx ipyleaflet matplotlib\n",
    "IPython.display.clear_output(wait=False)\n"
   ]
  },
  {
   "cell_type": "code",
   "execution_count": 42,
   "metadata": {},
   "outputs": [],
   "source": [
    "import json\n",
    "from datetime import datetime\n",
    "from dateutil.parser import parse\n",
    "\n",
    "import httpx\n",
    "import ipyleaflet\n",
    "import matplotlib.pyplot as plt\n",
    "import matplotlib.dates as mdates"
   ]
  },
  {
   "attachments": {},
   "cell_type": "markdown",
   "metadata": {},
   "source": [
    "Defining some key environment variables upfront is essential to interact with the eoAPI and streamline our analysis effectively. These variables will be the foundational parameters for our API queries and data handling. The crucial variables we'll set include:\n",
    "\n",
    "- stac_endpoint: This is the URL of the STAC (SpatioTemporal Asset Catalog) endpoint of eoAPI. It serves as the entry point for querying and retrieving metadata about the satellite imagery available in our catalog.\n",
    "\n",
    "- collection_id: Each collection of images in the eoAPI is identified by a unique ID. By specifying our collection_id, we can access the specific dataset relevant to the Afghanistan earthquake regions.\n",
    "\n",
    "- raster_endpoint: This variable defines the endpoint for accessing raster data within the eoAPI. It allows us to retrieve and manipulate satellite imagery, which is crucial for our impact analysis and visualization tasks."
   ]
  },
  {
   "cell_type": "code",
   "execution_count": 43,
   "metadata": {},
   "outputs": [],
   "source": [
    "stac_endpoint = \"https://eoapi.ifrc-risk.k8s.labs.ds.io/stac\"\n",
    "collection_id = \"MAXAR_afghanistan_earthquake22\"\n",
    "raster_endpoint = \"https://eoapi.ifrc-risk.k8s.labs.ds.io/raster\"\n",
    "event_date_str =  \"Wednesday, June 22, 2022\"\n",
    "event_datetime = datetime.strptime(event_date_str, \"%A, %B %d, %Y\")"
   ]
  },
  {
   "attachments": {},
   "cell_type": "markdown",
   "metadata": {},
   "source": [
    "## Querying eoAPI to Find Images\n",
    "\n",
    "In this section, we will take the first critical step of our analysis, which is querying our image catalog using the eoAPI. This process involves accessing the vast repository of satellite data specific to the regions affected by the Afghanistan earthquakes. Our goal is to use the stac_endpoint and collection_id to filter and retrieve the images that are most relevant to our study. We want to streamline the querying process to efficiently select images that provide valuable insights into the seismic impacts. This step is not just about fetching data; it's about strategically selecting the right datasets to form the foundation of our subsequent analyses."
   ]
  },
  {
   "cell_type": "code",
   "execution_count": 44,
   "metadata": {},
   "outputs": [
    {
     "name": "stdout",
     "output_type": "stream",
     "text": [
      "Afghanistan Earthquake: Maxar OpenData | On Wednesday, June 22, 2022, a 5.9 magnitude earthquake struck eastern Afghanistan. It has been estimated that more than 1,000 have been killed and many more wounded. Houses have been reduced to rubble and an unknown number of people remain stuck under debris. In outlaying areas rescue operations were complicated by difficult conditions including heavy rain, landslides and villages being located in inaccessible hillsides areas. Wednesday's earthquake was the deadliest in Afghanistan since 2022. It struck about 27 miles (44 km) from the southeastern city of Khost, near the border with Pakistan.\n"
     ]
    }
   ],
   "source": [
    "\n",
    "collection_info = httpx.get(f\"{stac_endpoint}/collections/{collection_id}\").json()\n",
    "print(f\"{collection_info['title'] if 'title' in collection_info else 'NA'}: {collection_info['description']}\")"
   ]
  },
  {
   "cell_type": "code",
   "execution_count": 45,
   "metadata": {},
   "outputs": [
    {
     "data": {
      "application/vnd.jupyter.widget-view+json": {
       "model_id": "6a13a7b2d774481793642e3ebeec58a0",
       "version_major": 2,
       "version_minor": 0
      },
      "text/plain": [
       "Map(center=[29.60082468671302, 79.33739695318904], controls=(ZoomControl(options=['position', 'zoom_in_text', …"
      ]
     },
     "execution_count": 45,
     "metadata": {},
     "output_type": "execute_result"
    }
   ],
   "source": [
    "geojson = {\n",
    "    \"type\": \"FeatureCollection\",\n",
    "    \"features\": [\n",
    "        {\n",
    "            'type': 'Feature',\n",
    "            'geometry': {\n",
    "                'type': 'Polygon',\n",
    "                'coordinates': [[\n",
    "                    [bbox[0], bbox[1]],\n",
    "                    [bbox[2], bbox[1]],\n",
    "                    [bbox[2], bbox[3]],\n",
    "                    [bbox[0], bbox[3]],\n",
    "                    [bbox[0], bbox[1]],\n",
    "                ]]\n",
    "            },\n",
    "            'properties': {}\n",
    "        }\n",
    "        for bbox in collection_info[\"extent\"][\"spatial\"][\"bbox\"] if \"extent\" in collection_info\n",
    "    ]\n",
    "}\n",
    "\n",
    "mainbbox = collection_info[\"extent\"][\"spatial\"][\"bbox\"][0]\n",
    "\n",
    "m = ipyleaflet.leaflet.Map(\n",
    "    center=((mainbbox[1] + mainbbox[3]) / 2,(mainbbox[0] + mainbbox[2]) / 2),\n",
    "    zoom=5\n",
    ")\n",
    "\n",
    "geo_json = ipyleaflet.leaflet.GeoJSON(data=geojson)\n",
    "m.add_layer(geo_json)\n",
    "m"
   ]
  },
  {
   "cell_type": "code",
   "execution_count": 46,
   "metadata": {},
   "outputs": [
    {
     "data": {
      "text/plain": [
       "0"
      ]
     },
     "execution_count": 46,
     "metadata": {},
     "output_type": "execute_result"
    }
   ],
   "source": [
    "# checking that the temporal extents are actually all the same!\n",
    "temporal_extents = collection_info[\"extent\"][\"temporal\"][\"interval\"]\n",
    "temporal_extent = temporal_extents[0]\n",
    "score = 0\n",
    "for ext in temporal_extents:\n",
    "    if ext != temporal_extent:\n",
    "        print(ext)\n",
    "        score += 1\n",
    "score"
   ]
  },
  {
   "cell_type": "code",
   "execution_count": 47,
   "metadata": {},
   "outputs": [
    {
     "data": {
      "text/plain": [
       "4"
      ]
     },
     "execution_count": 47,
     "metadata": {},
     "output_type": "execute_result"
    }
   ],
   "source": [
    "items_url = f\"{stac_endpoint}/collections/{collection_id}/items\"\n",
    "items = httpx.get(items_url).json() \n",
    "len(items)"
   ]
  },
  {
   "cell_type": "code",
   "execution_count": 48,
   "metadata": {},
   "outputs": [
    {
     "name": "stdout",
     "output_type": "stream",
     "text": [
      "Actual Number of Items: 395\n"
     ]
    }
   ],
   "source": [
    "afg_items = []\n",
    "\n",
    "url = items_url\n",
    "while True:\n",
    "    items = httpx.get(url, params={\"limit\": 200}).json()\n",
    "    \n",
    "    afg_items.extend(items[\"features\"])\n",
    "    next_link = list(filter(lambda link: link[\"rel\"] == \"next\", items[\"links\"]))\n",
    "    if next_link:\n",
    "        url = next_link[0][\"href\"]\n",
    "    else:\n",
    "        break\n",
    "\n",
    "print(f\"Actual Number of Items: {len(afg_items)}\")"
   ]
  },
  {
   "cell_type": "code",
   "execution_count": 49,
   "metadata": {},
   "outputs": [
    {
     "name": "stdout",
     "output_type": "stream",
     "text": [
      "Number of items before event: 223\n",
      "Number of items after event: 172\n"
     ]
    }
   ],
   "source": [
    "afg_items_pre = []\n",
    "afg_items_post = []\n",
    "\n",
    "for item in afg_items:\n",
    "    item_datetime = datetime.strptime(item['properties']['datetime'].replace('Z', ''), \"%Y-%m-%dT%H:%M:%S\") \n",
    "    if item_datetime < event_datetime:\n",
    "        afg_items_pre.append(item_datetime)\n",
    "    else:\n",
    "        afg_items_post.append(item_datetime)\n",
    "\n",
    "print(f\"Number of items before event: {len(afg_items_pre)}\")\n",
    "print(f\"Number of items after event: {len(afg_items_post)}\")"
   ]
  },
  {
   "attachments": {},
   "cell_type": "markdown",
   "metadata": {},
   "source": [
    "Upon closer examination of our dataset, we have encountered several significant issues that must be addressed. Firstly, the temporal extents of the data we've queried are not well-formatted, which poses a challenge in accurately assessing the satellite capture timeline. This formatting issue could lead to difficulties in understanding the precise timeframes of the images, particularly in relation to the earthquake events. "
   ]
  },
  {
   "attachments": {},
   "cell_type": "markdown",
   "metadata": {},
   "source": [
    "### Mosaicing the images\n",
    "\n",
    "Even without specific post-event images, we will create a mosaic to simultaneously visualize all the pre-events. The mosaic could be overlaid with any custom data available from other sources."
   ]
  },
  {
   "cell_type": "code",
   "execution_count": 50,
   "metadata": {},
   "outputs": [
    {
     "data": {
      "text/plain": [
       "{'tilejson': '2.2.0',\n",
       " 'version': '1.0.0',\n",
       " 'scheme': 'xyz',\n",
       " 'tiles': ['http://eoapi.ifrc-risk.k8s.labs.ds.io/raster/collections/MAXAR_afghanistan_earthquake22/items/42_120200200330_10300100C084CC00/tiles/WebMercatorQuad/{z}/{x}/{y}@1x?assets=visual'],\n",
       " 'minzoom': 12,\n",
       " 'maxzoom': 19,\n",
       " 'bounds': [69.31926076847,\n",
       "  32.941313704603466,\n",
       "  69.37629464192838,\n",
       "  32.98939210855889],\n",
       " 'center': [69.34777770519919, 32.965352906581174, 12]}"
      ]
     },
     "execution_count": 50,
     "metadata": {},
     "output_type": "execute_result"
    }
   ],
   "source": [
    "item = items[\"features\"][0]\n",
    "tilejson = httpx.get(\n",
    "    f\"{raster_endpoint}/collections/{collection_id}/items/{item['id']}/tilejson.json\",\n",
    "    params = (\n",
    "        (\"assets\", \"visual\"),  # THIS PARAMETER IS MANDATORY\n",
    "        (\"minzoom\", 12),  # By default the tiler will use 0\n",
    "        (\"maxzoom\", 19), # By default the tiler will use 24\n",
    "    )\n",
    ").json()\n",
    "tilejson"
   ]
  },
  {
   "cell_type": "code",
   "execution_count": 51,
   "metadata": {},
   "outputs": [
    {
     "data": {
      "application/vnd.jupyter.widget-view+json": {
       "model_id": "aa85e673fd94402a90b8ddee6fbb91ce",
       "version_major": 2,
       "version_minor": 0
      },
      "text/plain": [
       "Map(center=[32.965352906581174, 69.34777770519919], controls=(ZoomControl(options=['position', 'zoom_in_text',…"
      ]
     },
     "execution_count": 51,
     "metadata": {},
     "output_type": "execute_result"
    }
   ],
   "source": [
    "bounds = tilejson[\"bounds\"]\n",
    "m = ipyleaflet.leaflet.Map(\n",
    "    center=((bounds[1] + bounds[3]) / 2,(bounds[0] + bounds[2]) / 2),\n",
    "    zoom=12\n",
    ")\n",
    "\n",
    "geo_json = ipyleaflet.leaflet.GeoJSON(\n",
    "    data=item,\n",
    "    style={\n",
    "        'opacity': 1, 'dashArray': '9', 'fillOpacity': 0., 'weight': 4\n",
    "    }\n",
    ")\n",
    "m.add_layer(geo_json)\n",
    "\n",
    "tiles = ipyleaflet.leaflet.TileLayer(\n",
    "    url=tilejson[\"tiles\"][0],\n",
    "    min_zoom=tilejson[\"minzoom\"],\n",
    "    max_zoom=tilejson[\"maxzoom\"],\n",
    "    bounds=[\n",
    "        [bounds[1], bounds[0]],\n",
    "        [bounds[3], bounds[2]],\n",
    "\n",
    "    ],\n",
    ")\n",
    "\n",
    "m.add_layer(tiles)\n",
    "\n",
    "m"
   ]
  },
  {
   "cell_type": "code",
   "execution_count": 52,
   "metadata": {},
   "outputs": [
    {
     "data": {
      "text/plain": [
       "{'id': '42_120200201121_10300100D4928800',\n",
       " 'bbox': [69.69514012966512,\n",
       "  33.12480123241977,\n",
       "  69.74715134156378,\n",
       "  33.16826382393089],\n",
       " 'type': 'Feature',\n",
       " 'links': [{'rel': 'collection',\n",
       "   'type': 'application/json',\n",
       "   'href': 'https://eoapi.ifrc-risk.k8s.labs.ds.io/stac/collections/MAXAR_afghanistan_earthquake22'},\n",
       "  {'rel': 'parent',\n",
       "   'type': 'application/json',\n",
       "   'href': 'https://eoapi.ifrc-risk.k8s.labs.ds.io/stac/collections/MAXAR_afghanistan_earthquake22'},\n",
       "  {'rel': 'root',\n",
       "   'type': 'application/json',\n",
       "   'href': 'https://eoapi.ifrc-risk.k8s.labs.ds.io/stac/'},\n",
       "  {'rel': 'self',\n",
       "   'type': 'application/geo+json',\n",
       "   'href': 'https://eoapi.ifrc-risk.k8s.labs.ds.io/stac/collections/MAXAR_afghanistan_earthquake22/items/42_120200201121_10300100D4928800'}],\n",
       " 'assets': {'visual': {'href': 's3://maxar-opendata/events/afghanistan-earthquake22/ard/42/120200201121/2022-06-27/10300100D4928800-visual.tif',\n",
       "   'type': 'image/tiff; application=geotiff; profile=cloud-optimized',\n",
       "   'roles': ['visual'],\n",
       "   'title': 'Visual Image',\n",
       "   'eo:bands': [{'name': 'BAND_R', 'common_name': 'red', 'description': 'Red'},\n",
       "    {'name': 'BAND_G', 'common_name': 'green', 'description': 'Green'},\n",
       "    {'name': 'BAND_B', 'common_name': 'blue', 'description': 'Blue'}],\n",
       "   'alternate': {'public': {'href': 'https://maxar-opendata.s3.amazonaws.com/events/afghanistan-earthquake22/ard/42/120200201121/2022-06-27/10300100D4928800-visual.tif',\n",
       "     'title': 'Public Access'}},\n",
       "   'proj:bbox': [564843.75, 3664843.75, 570156.25, 3670156.25],\n",
       "   'proj:shape': [17408, 17408],\n",
       "   'proj:transform': [0.30517578125,\n",
       "    0.0,\n",
       "    564843.75,\n",
       "    0.0,\n",
       "    -0.30517578125,\n",
       "    3670156.25,\n",
       "    0.0,\n",
       "    0.0,\n",
       "    1.0]},\n",
       "  'data-mask': {'href': 's3://maxar-opendata/events/afghanistan-earthquake22/ard/42/120200201121/2022-06-27/10300100D4928800-data-mask.gpkg',\n",
       "   'type': 'application/geopackage+sqlite3',\n",
       "   'roles': ['data-mask'],\n",
       "   'title': 'Data Mask',\n",
       "   'alternate': {'public': {'href': 'https://maxar-opendata.s3.amazonaws.com/events/afghanistan-earthquake22/ard/42/120200201121/2022-06-27/10300100D4928800-data-mask.gpkg',\n",
       "     'title': 'Public Access'}}},\n",
       "  'ms_analytic': {'href': 's3://maxar-opendata/events/afghanistan-earthquake22/ard/42/120200201121/2022-06-27/10300100D4928800-ms.tif',\n",
       "   'type': 'image/tiff; application=geotiff; profile=cloud-optimized',\n",
       "   'roles': ['data'],\n",
       "   'title': 'Multispectral Image',\n",
       "   'eo:bands': [{'name': 'BAND_C',\n",
       "     'common_name': 'coastal',\n",
       "     'description': 'Coastal Blue'},\n",
       "    {'name': 'BAND_B', 'common_name': 'blue', 'description': 'Blue'},\n",
       "    {'name': 'BAND_G', 'common_name': 'green', 'description': 'Green'},\n",
       "    {'name': 'BAND_Y', 'common_name': 'yellow', 'description': 'Yellow'},\n",
       "    {'name': 'BAND_R', 'common_name': 'red', 'description': 'Red'},\n",
       "    {'name': 'BAND_RE', 'common_name': 'rededge', 'description': 'Red Edge 1'},\n",
       "    {'name': 'BAND_N',\n",
       "     'common_name': 'nir08',\n",
       "     'description': 'Near Infrared 1'},\n",
       "    {'name': 'BAND_N2',\n",
       "     'common_name': 'nir09',\n",
       "     'description': 'Near Infrared 2'}],\n",
       "   'alternate': {'public': {'href': 'https://maxar-opendata.s3.amazonaws.com/events/afghanistan-earthquake22/ard/42/120200201121/2022-06-27/10300100D4928800-ms.tif',\n",
       "     'title': 'Public Access'}},\n",
       "   'proj:bbox': [564843.75, 3664843.75, 570156.25, 3670156.25],\n",
       "   'proj:shape': [2662, 2662],\n",
       "   'proj:transform': [1.995679939894816,\n",
       "    0.0,\n",
       "    564843.75,\n",
       "    0.0,\n",
       "    -1.995679939894816,\n",
       "    3670156.25,\n",
       "    0.0,\n",
       "    0.0,\n",
       "    1.0]},\n",
       "  'pan_analytic': {'href': 's3://maxar-opendata/events/afghanistan-earthquake22/ard/42/120200201121/2022-06-27/10300100D4928800-pan.tif',\n",
       "   'type': 'image/tiff; application=geotiff; profile=cloud-optimized',\n",
       "   'roles': ['data'],\n",
       "   'title': 'Panchromatic Image',\n",
       "   'eo:bands': [{'name': 'BAND_P', 'description': 'Pan'}],\n",
       "   'alternate': {'public': {'href': 'https://maxar-opendata.s3.amazonaws.com/events/afghanistan-earthquake22/ard/42/120200201121/2022-06-27/10300100D4928800-pan.tif',\n",
       "     'title': 'Public Access'}},\n",
       "   'proj:bbox': [564843.75, 3664843.75, 570156.25, 3670156.25],\n",
       "   'proj:shape': [10648, 10648],\n",
       "   'proj:transform': [0.498919984973704,\n",
       "    0.0,\n",
       "    564843.75,\n",
       "    0.0,\n",
       "    -0.498919984973704,\n",
       "    3670156.25,\n",
       "    0.0,\n",
       "    0.0,\n",
       "    1.0]}},\n",
       " 'geometry': {'type': 'Polygon',\n",
       "  'coordinates': [[[69.69545708111364, 33.16826382393089],\n",
       "    [69.69514012966512, 33.12808511242884],\n",
       "    [69.70188515029726, 33.128396885326644],\n",
       "    [69.71434379745317, 33.12647353845373],\n",
       "    [69.71738563260556, 33.126401008440965],\n",
       "    [69.72160856102178, 33.126742725814275],\n",
       "    [69.72410918988932, 33.12649699491927],\n",
       "    [69.72691784126206, 33.12671186330839],\n",
       "    [69.73079580072938, 33.126080841414236],\n",
       "    [69.73321121547274, 33.12621529413504],\n",
       "    [69.7362715969151, 33.12562469523932],\n",
       "    [69.73897063391583, 33.12564174861351],\n",
       "    [69.74113809072942, 33.12546646833871],\n",
       "    [69.74513991137259, 33.12480123241977],\n",
       "    [69.74705469842306, 33.12492464652635],\n",
       "    [69.74715134156378, 33.13633379410334],\n",
       "    [69.74654045958928, 33.14455960446377],\n",
       "    [69.74597624579602, 33.16797141325847],\n",
       "    [69.69545708111364, 33.16826382393089]]]},\n",
       " 'collection': 'MAXAR_afghanistan_earthquake22',\n",
       " 'properties': {'gsd': 0.51,\n",
       "  'quadkey': '120200201121',\n",
       "  'datetime': '2022-06-27T06:09:09Z',\n",
       "  'platform': 'WV02',\n",
       "  'utm_zone': 42,\n",
       "  'grid:code': 'MXRA-Z42-120200201121',\n",
       "  'proj:bbox': [564843.75, 3665369.5678710938, 569689.0258789062, 3670156.25],\n",
       "  'proj:epsg': 32642,\n",
       "  'catalog_id': '10300100D4928800',\n",
       "  'view:azimuth': 157.9,\n",
       "  'proj:geometry': {'type': 'Polygon',\n",
       "   'coordinates': [[[564843.75, 3670156.25],\n",
       "     [564843.75, 3665701.5991210938],\n",
       "     [565472.7172851562, 3665740.3564453125],\n",
       "     [566636.3525390625, 3665534.9731445312],\n",
       "     [566920.166015625, 3665528.8696289062],\n",
       "     [567313.8427734375, 3665569.4580078125],\n",
       "     [567547.3022460938, 3665543.8232421875],\n",
       "     [567809.1430664062, 3665569.4580078125],\n",
       "     [568171.38671875, 3665502.0141601562],\n",
       "     [568396.6064453125, 3665518.4936523438],\n",
       "     [568682.5561523438, 3665455.0170898438],\n",
       "     [568934.326171875, 3665458.6791992188],\n",
       "     [569136.6577148438, 3665440.673828125],\n",
       "     [569510.498046875, 3665369.5678710938],\n",
       "     [569689.0258789062, 3665384.521484375],\n",
       "     [569689.0258789062, 3666649.4750976562],\n",
       "     [569625.5493164062, 3667561.03515625],\n",
       "     [569554.443359375, 3670156.25],\n",
       "     [564843.75, 3670156.25]]]},\n",
       "  'tile:data_area': 21.9,\n",
       "  'view:off_nadir': 18.7,\n",
       "  'tile:clouds_area': 0.0,\n",
       "  'view:sun_azimuth': 115.5,\n",
       "  'view:sun_elevation': 70.8,\n",
       "  'tile:clouds_percent': 0,\n",
       "  'ard_metadata_version': '0.0.1',\n",
       "  'view:incidence_angle': 68.9},\n",
       " 'stac_version': '1.0.0',\n",
       " 'stac_extensions': ['https://stac-extensions.github.io/view/v1.0.0/schema.json',\n",
       "  'https://stac-extensions.github.io/projection/v1.1.0/schema.json',\n",
       "  'https://stac-extensions.github.io/eo/v1.1.0/schema.json',\n",
       "  'https://stac-extensions.github.io/raster/v1.1.0/schema.json',\n",
       "  'https://stac-extensions.github.io/grid/v1.1.0/schema.json',\n",
       "  'https://stac-extensions.github.io/alternate-assets/v1.1.0/schema.json']}"
      ]
     },
     "execution_count": 52,
     "metadata": {},
     "output_type": "execute_result"
    }
   ],
   "source": [
    "afg_items[0]"
   ]
  },
  {
   "cell_type": "code",
   "execution_count": 55,
   "metadata": {},
   "outputs": [
    {
     "data": {
      "text/plain": [
       "{'id': '34b016b66d4d5d0c1951d57bc85f7be3',\n",
       " 'links': [{'rel': 'metadata',\n",
       "   'title': 'Mosaic metadata',\n",
       "   'type': 'application/json',\n",
       "   'href': 'http://eoapi.ifrc-risk.k8s.labs.ds.io/raster/searches/34b016b66d4d5d0c1951d57bc85f7be3/info'},\n",
       "  {'rel': 'tilejson',\n",
       "   'title': 'Link for TileJSON',\n",
       "   'type': 'application/json',\n",
       "   'href': 'http://eoapi.ifrc-risk.k8s.labs.ds.io/raster/searches/34b016b66d4d5d0c1951d57bc85f7be3/tilejson.json'},\n",
       "  {'rel': 'map',\n",
       "   'title': 'Link for Map viewer',\n",
       "   'type': 'application/json',\n",
       "   'href': 'http://eoapi.ifrc-risk.k8s.labs.ds.io/raster/searches/34b016b66d4d5d0c1951d57bc85f7be3/map'},\n",
       "  {'rel': 'wmts',\n",
       "   'title': 'Link for WMTS',\n",
       "   'type': 'application/json',\n",
       "   'href': 'http://eoapi.ifrc-risk.k8s.labs.ds.io/raster/searches/34b016b66d4d5d0c1951d57bc85f7be3/WMTSCapabilities.xml'}]}"
      ]
     },
     "execution_count": 55,
     "metadata": {},
     "output_type": "execute_result"
    }
   ],
   "source": [
    "event_date = \"2023-02-06T00:00:00Z\"\n",
    "\n",
    "# Let's focus on Kahramanmaraş city \n",
    "bounds = [69.31926076847,\n",
    "  32.941313704603466,\n",
    "  69.37629464192838,\n",
    "  32.98939210855889]\n",
    "\n",
    "pre_mosaic = httpx.post(\n",
    "    f\"{raster_endpoint}/searches/register\",\n",
    "    data=json.dumps(\n",
    "        {\n",
    "            \"filter-lang\": 'cql2-json',\n",
    "            \"filter\": {\n",
    "                \"op\": 'and', \n",
    "                \"args\": [\n",
    "                    {\n",
    "                        \"op\": \"in\", \n",
    "                        \"args\": [{\"property\": \"collection\"}, [collection_id]]\n",
    "                    },\n",
    "                    {\n",
    "                        \"op\": \"lt\", \n",
    "                        \"args\": [\n",
    "                            {\"property\": \"datetime\"}, event_date\n",
    "                        ]\n",
    "                    }\n",
    "                ],\n",
    "            },\n",
    "            \"sortby\": [\n",
    "                {\n",
    "                    \"field\": \"tile:clouds_percent\",\n",
    "                    \"direction\": \"asc\"\n",
    "                },\n",
    "            ],\n",
    "            \"metadata\":{\n",
    "                \"name\": \"Maxar Kahramanmaras - Pre event\",\n",
    "                \"bounds\": bounds,\n",
    "            }\n",
    "            \n",
    "        }\n",
    "    )\n",
    ").json()\n",
    "pre_mosaic"
   ]
  },
  {
   "cell_type": "code",
   "execution_count": 56,
   "metadata": {},
   "outputs": [
    {
     "data": {
      "application/vnd.jupyter.widget-view+json": {
       "model_id": "610d5c83bfe2451c99b5ae7161b83275",
       "version_major": 2,
       "version_minor": 0
      },
      "text/plain": [
       "Map(center=[32.965352906581174, 69.34777770519919], controls=(ZoomControl(options=['position', 'zoom_in_text',…"
      ]
     },
     "execution_count": 56,
     "metadata": {},
     "output_type": "execute_result"
    }
   ],
   "source": [
    "mosaic_id = pre_mosaic[\"id\"]\n",
    "\n",
    "tilejson_pre = httpx.get(\n",
    "    f\"{raster_endpoint}/searches/{mosaic_id}/tilejson.json\",\n",
    "    params = (\n",
    "        (\"assets\", \"visual\"),  # required parameter\n",
    "        (\"minzoom\", 12),\n",
    "        (\"maxzoom\", 19), \n",
    "    )\n",
    ").json()\n",
    "\n",
    "bounds = tilejson_pre[\"bounds\"]\n",
    "m = ipyleaflet.leaflet.Map(\n",
    "    center=((bounds[1] + bounds[3]) / 2,(bounds[0] + bounds[2]) / 2),\n",
    "    zoom=12\n",
    ")\n",
    "\n",
    "geo_json = ipyleaflet.leaflet.GeoJSON(\n",
    "    data={\"type\": \"FeatureCollection\", \"features\": pre_items}, \n",
    "    style={\n",
    "        \"fillOpacity\": 0,\n",
    "        \"weight\": 1,\n",
    "    },\n",
    ")\n",
    "m.add_layer(geo_json)\n",
    "\n",
    "tiles = ipyleaflet.leaflet.TileLayer(\n",
    "    url=tilejson_pre[\"tiles\"][0],\n",
    "    min_zoom=tilejson_pre[\"minzoom\"],\n",
    "    max_zoom=tilejson_pre[\"maxzoom\"],\n",
    "    bounds=[\n",
    "        [bounds[1], bounds[0]],\n",
    "        [bounds[3], bounds[2]],\n",
    "\n",
    "    ],\n",
    ")\n",
    "\n",
    "m.add_layer(tiles)\n",
    "m"
   ]
  },
  {
   "cell_type": "code",
   "execution_count": 57,
   "metadata": {},
   "outputs": [
    {
     "data": {
      "application/vnd.jupyter.widget-view+json": {
       "model_id": "610d5c83bfe2451c99b5ae7161b83275",
       "version_major": 2,
       "version_minor": 0
      },
      "text/plain": [
       "Map(bottom=53011.0, center=[33.22949814144951, 69.41436767578126], controls=(ZoomControl(options=['position', …"
      ]
     },
     "execution_count": 57,
     "metadata": {},
     "output_type": "execute_result"
    }
   ],
   "source": [
    "event_date = datetime(2022, 6, 22, hour=0, minute=0).isoformat()\n",
    "\n",
    "post_mosaic = httpx.post(\n",
    "    f\"{raster_endpoint}/searches/register\",\n",
    "    data=json.dumps(\n",
    "        {\n",
    "            \"filter-lang\": 'cql2-json',\n",
    "            \"filter\": {\n",
    "                \"op\": 'and', \n",
    "                \"args\": [\n",
    "                    {\n",
    "                        \"op\": \"in\", \n",
    "                        \"args\": [{\"property\": \"collection\"}, [collection_id]]\n",
    "                    },\n",
    "                    {\n",
    "                        \"op\": \"ge\", \n",
    "                        \"args\": [\n",
    "                            {\"property\": \"datetime\"}, event_date\n",
    "                        ]\n",
    "                    }\n",
    "                ],\n",
    "            },\n",
    "            \"sortby\": [\n",
    "                {\n",
    "                    \"field\": \"tile:clouds_percent\",\n",
    "                    \"direction\": \"asc\"\n",
    "                },\n",
    "            ],\n",
    "            \"metadata\":{\n",
    "                \"name\": \"Maxar Afg - Post event\",\n",
    "                \"bounds\": bounds,\n",
    "            }\n",
    "            \n",
    "        }\n",
    "    )\n",
    ").json()\n",
    "\n",
    "mosaic_id = post_mosaic[\"id\"]\n",
    "\n",
    "tilejson_post = httpx.get(\n",
    "    f\"{raster_endpoint}/searches/{mosaic_id}/tilejson.json\",\n",
    "    params = (\n",
    "        (\"assets\", \"visual\"),  # THIS IS MANDATORY\n",
    "        (\"minzoom\", 0),\n",
    "        (\"maxzoom\", 30), \n",
    "    )\n",
    ").json()\n",
    "\n",
    "bounds = tilejson_pre[\"bounds\"]\n",
    "before_layer = ipyleaflet.leaflet.TileLayer(\n",
    "    url=tilejson_pre[\"tiles\"][0],\n",
    "    min_zoom=tilejson_pre[\"minzoom\"],\n",
    "    max_zoom=tilejson_pre[\"maxzoom\"],\n",
    "    bounds=[\n",
    "        [bounds[1], bounds[0]],\n",
    "        [bounds[3], bounds[2]],\n",
    "    ],\n",
    ")\n",
    "\n",
    "bounds = tilejson_post[\"bounds\"]\n",
    "after_layer = ipyleaflet.leaflet.TileLayer(\n",
    "    url=tilejson_post[\"tiles\"][0],\n",
    "    min_zoom=tilejson_post[\"minzoom\"],\n",
    "    max_zoom=tilejson_post[\"maxzoom\"],\n",
    "    bounds=[\n",
    "        [bounds[1], bounds[0]],\n",
    "        [bounds[3], bounds[2]],\n",
    "    ],\n",
    ")\n",
    "\n",
    "control = ipyleaflet.leaflet.SplitMapControl(left_layer=before_layer, right_layer=after_layer)\n",
    "m.add_control(control)\n",
    "\n",
    "m"
   ]
  }
 ],
 "metadata": {
  "kernelspec": {
   "display_name": "Python 3 (ipykernel)",
   "language": "python",
   "name": "python3"
  },
  "language_info": {
   "codemirror_mode": {
    "name": "ipython",
    "version": 3
   },
   "file_extension": ".py",
   "mimetype": "text/x-python",
   "name": "python",
   "nbconvert_exporter": "python",
   "pygments_lexer": "ipython3",
   "version": "3.10.5"
  }
 },
 "nbformat": 4,
 "nbformat_minor": 4
}
