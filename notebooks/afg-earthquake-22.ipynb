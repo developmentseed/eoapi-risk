{
 "cells": [
  {
   "attachments": {},
   "cell_type": "markdown",
   "metadata": {},
   "source": [
    "## eoAPI in Action - Afghanistan Earthquakes WIP"
   ]
  },
  {
   "cell_type": "code",
   "execution_count": 36,
   "metadata": {},
   "outputs": [],
   "source": [
    "import IPython\n",
    "!python -m pip install httpx ipyleaflet\n",
    "IPython.display.clear_output(wait=False)\n"
   ]
  },
  {
   "cell_type": "code",
   "execution_count": 37,
   "metadata": {},
   "outputs": [],
   "source": [
    "from datetime import datetime\n",
    "import json\n",
    "\n",
    "import httpx\n",
    "import ipyleaflet"
   ]
  },
  {
   "cell_type": "code",
   "execution_count": 38,
   "metadata": {},
   "outputs": [],
   "source": [
    "stac_endpoint = \"https://eoapi.ifrc-risk.k8s.labs.ds.io/stac\""
   ]
  },
  {
   "attachments": {},
   "cell_type": "markdown",
   "metadata": {},
   "source": [
    "## Finding Signs of Impact"
   ]
  },
  {
   "cell_type": "code",
   "execution_count": 58,
   "metadata": {},
   "outputs": [
    {
     "name": "stdout",
     "output_type": "stream",
     "text": [
      "Number of spatial extents: 16\n",
      "First spatial extent bounding box: \n",
      " [69.183655, 25.87190729678215, 89.49113890637808, 33.32974207664388]\n"
     ]
    }
   ],
   "source": [
    "collection_id = \"MAXAR_afghanistan_earthquake22\"\n",
    "\n",
    "collection_info = httpx.get(f\"{stac_endpoint}/collections/{collection_id}\").json()\n",
    "bboxes = collection_info[\"extent\"][\"spatial\"][\"bbox\"]\n",
    "print(f\"Number of spatial extents: {len(bboxes)}\")\n",
    "print(f\"First spatial extent bounding box: \\n {bboxes[0]}\")"
   ]
  },
  {
   "cell_type": "code",
   "execution_count": 59,
   "metadata": {},
   "outputs": [
    {
     "data": {
      "application/vnd.jupyter.widget-view+json": {
       "model_id": "c76f0cb4f99a4a1390035dc954f3cf2a",
       "version_major": 2,
       "version_minor": 0
      },
      "text/plain": [
       "Map(center=[29.60082468671302, 79.33739695318904], controls=(ZoomControl(options=['position', 'zoom_in_text', …"
      ]
     },
     "execution_count": 59,
     "metadata": {},
     "output_type": "execute_result"
    }
   ],
   "source": [
    "geojson = {\n",
    "    \"type\": \"FeatureCollection\",\n",
    "    \"features\": [\n",
    "        {\n",
    "            'type': 'Feature',\n",
    "            'geometry': {\n",
    "                'type': 'Polygon',\n",
    "                'coordinates': [[\n",
    "                    [bbox[0], bbox[1]],\n",
    "                    [bbox[2], bbox[1]],\n",
    "                    [bbox[2], bbox[3]],\n",
    "                    [bbox[0], bbox[3]],\n",
    "                    [bbox[0], bbox[1]],\n",
    "                ]]\n",
    "            },\n",
    "            'properties': {}\n",
    "        }\n",
    "        for bbox in bboxes\n",
    "    ]\n",
    "}\n",
    "\n",
    "mainbbox = collection_info[\"extent\"][\"spatial\"][\"bbox\"][0]\n",
    "\n",
    "m = ipyleaflet.leaflet.Map(\n",
    "    center=((mainbbox[1] + mainbbox[3]) / 2,(mainbbox[0] + mainbbox[2]) / 2),\n",
    "    zoom=5\n",
    ")\n",
    "\n",
    "geo_json = ipyleaflet.leaflet.GeoJSON(data=geojson)\n",
    "m.add_layer(geo_json)\n",
    "m"
   ]
  },
  {
   "cell_type": "code",
   "execution_count": 60,
   "metadata": {},
   "outputs": [
    {
     "name": "stdout",
     "output_type": "stream",
     "text": [
      "Number of temporal extents: 1\n",
      "Temporal extent: \n",
      " ['2021-06-09T06:13:36Z', '2022-06-27T06:09:09Z']\n"
     ]
    }
   ],
   "source": [
    "temporal_extents = collection_info[\"extent\"][\"temporal\"]['interval']\n",
    "print(f\"Number of temporal extents: {len(temporal_extents)}\")\n",
    "print(f\"Temporal extent: \\n {temporal_extents[0]}\")"
   ]
  },
  {
   "cell_type": "code",
   "execution_count": 100,
   "metadata": {},
   "outputs": [
    {
     "data": {
      "text/plain": [
       "0"
      ]
     },
     "execution_count": 100,
     "metadata": {},
     "output_type": "execute_result"
    }
   ],
   "source": [
    "# checking that the temporal extents are actually all the same!\n",
    "temporal_extent = temporal_extents[0]\n",
    "score = 0\n",
    "for ext in temporal_extents:\n",
    "    if ext != temporal_extent:\n",
    "        print(ext)\n",
    "        score += 1\n",
    "score"
   ]
  },
  {
   "cell_type": "code",
   "execution_count": 62,
   "metadata": {},
   "outputs": [
    {
     "name": "stdout",
     "output_type": "stream",
     "text": [
      "Collecting matplotlib\n",
      "  Downloading matplotlib-3.8.2-cp310-cp310-macosx_11_0_arm64.whl (7.5 MB)\n",
      "\u001b[2K     \u001b[90m━━━━━━━━━━━━━━━━━━━━━━━━━━━━━━━━━━━━━━━━\u001b[0m \u001b[32m7.5/7.5 MB\u001b[0m \u001b[31m6.7 MB/s\u001b[0m eta \u001b[36m0:00:00\u001b[0m00:01\u001b[0m00:01\u001b[0m\n",
      "\u001b[?25hCollecting contourpy>=1.0.1 (from matplotlib)\n",
      "  Downloading contourpy-1.2.0-cp310-cp310-macosx_11_0_arm64.whl (242 kB)\n",
      "\u001b[2K     \u001b[90m━━━━━━━━━━━━━━━━━━━━━━━━━━━━━━━━━━━━━━━\u001b[0m \u001b[32m242.2/242.2 kB\u001b[0m \u001b[31m7.0 MB/s\u001b[0m eta \u001b[36m0:00:00\u001b[0m\n",
      "\u001b[?25hCollecting cycler>=0.10 (from matplotlib)\n",
      "  Downloading cycler-0.12.1-py3-none-any.whl (8.3 kB)\n",
      "Collecting fonttools>=4.22.0 (from matplotlib)\n",
      "  Downloading fonttools-4.47.2-cp310-cp310-macosx_10_9_universal2.whl (2.8 MB)\n",
      "\u001b[2K     \u001b[90m━━━━━━━━━━━━━━━━━━━━━━━━━━━━━━━━━━━━━━━━\u001b[0m \u001b[32m2.8/2.8 MB\u001b[0m \u001b[31m8.4 MB/s\u001b[0m eta \u001b[36m0:00:00\u001b[0ma \u001b[36m0:00:01\u001b[0mm\n",
      "\u001b[?25hCollecting kiwisolver>=1.3.1 (from matplotlib)\n",
      "  Downloading kiwisolver-1.4.5-cp310-cp310-macosx_11_0_arm64.whl (66 kB)\n",
      "\u001b[2K     \u001b[90m━━━━━━━━━━━━━━━━━━━━━━━━━━━━━━━━━━━━━━━━\u001b[0m \u001b[32m66.2/66.2 kB\u001b[0m \u001b[31m13.9 MB/s\u001b[0m eta \u001b[36m0:00:00\u001b[0m\n",
      "\u001b[?25hRequirement already satisfied: numpy<2,>=1.21 in /Users/zacdez/.pyenv/versions/3.10.5/lib/python3.10/site-packages (from matplotlib) (1.24.3)\n",
      "Requirement already satisfied: packaging>=20.0 in /Users/zacdez/.pyenv/versions/3.10.5/lib/python3.10/site-packages (from matplotlib) (23.1)\n",
      "Collecting pillow>=8 (from matplotlib)\n",
      "  Downloading pillow-10.2.0-cp310-cp310-macosx_11_0_arm64.whl (3.3 MB)\n",
      "\u001b[2K     \u001b[90m━━━━━━━━━━━━━━━━━━━━━━━━━━━━━━━━━━━━━━━━\u001b[0m \u001b[32m3.3/3.3 MB\u001b[0m \u001b[31m8.7 MB/s\u001b[0m eta \u001b[36m0:00:00\u001b[0ma \u001b[36m0:00:01\u001b[0mm\n",
      "\u001b[?25hCollecting pyparsing>=2.3.1 (from matplotlib)\n",
      "  Downloading pyparsing-3.1.1-py3-none-any.whl (103 kB)\n",
      "\u001b[2K     \u001b[90m━━━━━━━━━━━━━━━━━━━━━━━━━━━━━━━━━━━━━━━\u001b[0m \u001b[32m103.1/103.1 kB\u001b[0m \u001b[31m5.3 MB/s\u001b[0m eta \u001b[36m0:00:00\u001b[0m\n",
      "\u001b[?25hRequirement already satisfied: python-dateutil>=2.7 in /Users/zacdez/.pyenv/versions/3.10.5/lib/python3.10/site-packages (from matplotlib) (2.8.2)\n",
      "Requirement already satisfied: six>=1.5 in /Users/zacdez/.pyenv/versions/3.10.5/lib/python3.10/site-packages (from python-dateutil>=2.7->matplotlib) (1.16.0)\n",
      "Installing collected packages: pyparsing, pillow, kiwisolver, fonttools, cycler, contourpy, matplotlib\n",
      "Successfully installed contourpy-1.2.0 cycler-0.12.1 fonttools-4.47.2 kiwisolver-1.4.5 matplotlib-3.8.2 pillow-10.2.0 pyparsing-3.1.1\n",
      "\n",
      "\u001b[1m[\u001b[0m\u001b[34;49mnotice\u001b[0m\u001b[1;39;49m]\u001b[0m\u001b[39;49m A new release of pip is available: \u001b[0m\u001b[31;49m23.1.2\u001b[0m\u001b[39;49m -> \u001b[0m\u001b[32;49m23.3.2\u001b[0m\n",
      "\u001b[1m[\u001b[0m\u001b[34;49mnotice\u001b[0m\u001b[1;39;49m]\u001b[0m\u001b[39;49m To update, run: \u001b[0m\u001b[32;49mpip install --upgrade pip\u001b[0m\n"
     ]
    }
   ],
   "source": [
    "! pip install matplotlib"
   ]
  },
  {
   "cell_type": "code",
   "execution_count": 65,
   "metadata": {},
   "outputs": [
    {
     "data": {
      "image/png": "[encoded data removed]",
      "text/plain": [
       "<Figure size 640x480 with 1 Axes>"
      ]
     },
     "metadata": {},
     "output_type": "display_data"
    }
   ],
   "source": [
    "import matplotlib.pyplot as plt\n",
    "import matplotlib.dates as mdates\n",
    "from dateutil.parser import parse\n",
    "\n",
    "# Assuming temporal_extents is a list of intervals, like [[start1, end1], [start2, end2], ...]\n",
    "temporal_extents = collection_info[\"extent\"][\"temporal\"]['interval']  \n",
    "\n",
    "# Convert date strings to datetime objects\n",
    "dates = []\n",
    "for interval in temporal_extents:\n",
    "    start, end = interval\n",
    "    start_date = parse(start)\n",
    "    end_date = parse(end)\n",
    "    dates.append([start_date, end_date])\n",
    "\n",
    "# Plotting\n",
    "fig, ax = plt.subplots()\n",
    "\n",
    "# Create a line for each temporal extent\n",
    "for i, (start, end) in enumerate(dates):\n",
    "    plt.plot([start, end], [i, i], marker='o')  # Adjust marker style as needed\n",
    "\n",
    "# Improve formatting\n",
    "plt.yticks(range(len(dates)), [\"Interval \" + str(i+1) for i in range(len(dates))])\n",
    "ax.xaxis.set_major_locator(mdates.MonthLocator())\n",
    "ax.xaxis.set_major_formatter(mdates.DateFormatter('%Y-%m'))\n",
    "\n",
    "# Adding labels and title\n",
    "plt.xlabel('Date')\n",
    "plt.ylabel('Temporal Intervals')\n",
    "plt.title('Temporal Extents of STAC Items')\n",
    "plt.grid(True)\n",
    "\n",
    "# Show the plot\n",
    "plt.show()\n"
   ]
  },
  {
   "attachments": {},
   "cell_type": "markdown",
   "metadata": {},
   "source": [
    "#### How to Query STAC Items\n",
    "\n",
    "Querying items in STAC (SpatioTemporal Asset Catalog) involves accessing individual datasets within a collection. Each item in a STAC collection represents a distinct spatiotemporal asset, such as a satellite image or geographical survey data. These items are the fundamental units of STAC, containing metadata and links to the actual data.\n",
    "\n",
    "To begin querying items, we must use the `id` of the collection under which the items are defined. To query the Kahramanmaras collection's items, we will use the following URL:"
   ]
  },
  {
   "cell_type": "code",
   "execution_count": 68,
   "metadata": {},
   "outputs": [],
   "source": [
    "collection_id = \"MAXAR_afghanistan_earthquake22\"\n",
    "items_url = f\"{stac_endpoint}/collections/{collection_id}/items\""
   ]
  },
  {
   "cell_type": "code",
   "execution_count": 69,
   "metadata": {},
   "outputs": [
    {
     "name": "stdout",
     "output_type": "stream",
     "text": [
      "{\n",
      "    \"id\": \"42_120200023233_10300100C04CC000\",\n",
      "    \"bbox\": [\n",
      "        69.59817747885819,\n",
      "        33.25591082321473,\n",
      "        69.64618038085693,\n",
      "        33.30406643126264\n",
      "    ],\n",
      "    \"type\": \"Feature\",\n",
      "    \"links\": [\n",
      "        {\n",
      "            \"rel\": \"collection\",\n",
      "            \"type\": \"application/json\",\n",
      "            \"href\": \"https://eoapi.ifrc-risk.k8s.labs.ds.io/stac/collections/MAXAR_afghanistan_earthquake22\"\n",
      "        },\n",
      "        {\n",
      "            \"rel\": \"parent\",\n",
      "            \"type\": \"application/json\",\n",
      "            \"href\": \"https://eoapi.ifrc-risk.k8s.labs.ds.io/stac/collections/MAXAR_afghanistan_earthquake22\"\n",
      "        },\n",
      "        {\n",
      "            \"rel\": \"root\",\n",
      "            \"type\": \"application/json\",\n",
      "            \"href\": \"https://eoapi.ifrc-risk.k8s.labs.ds.io/stac/\"\n",
      "        },\n",
      "        {\n",
      "            \"rel\": \"self\",\n",
      "            \"type\": \"application/geo+json\",\n",
      "            \"href\": \"https://eoapi.ifrc-risk.k8s.labs.ds.io/stac/collections/MAXAR_afghanistan_earthquake22/items/42_120200023233_10300100C04CC000\"\n",
      "        }\n",
      "    ],\n",
      "    \"assets\": {\n",
      "        \"visual\": {\n",
      "            \"href\": \"https://maxar-opendata.s3.amazonaws.com/events/afghanistan-earthquake22/ard/42/120200023233/2021-06-09/10300100C04CC000-visual.tif\",\n",
      "            \"type\": \"image/tiff; application=geotiff; profile=cloud-optimized\",\n",
      "            \"roles\": [\n",
      "                \"visual\"\n",
      "            ],\n",
      "            \"title\": \"Visual Image\",\n",
      "            \"eo:bands\": [\n",
      "                {\n",
      "                    \"name\": \"BAND_R\",\n",
      "                    \"common_name\": \"red\",\n",
      "                    \"description\": \"Red\"\n",
      "                },\n",
      "                {\n",
      "                    \"name\": \"BAND_G\",\n",
      "                    \"common_name\": \"green\",\n",
      "                    \"description\": \"Green\"\n",
      "                },\n",
      "                {\n",
      "                    \"name\": \"BAND_B\",\n",
      "                    \"common_name\": \"blue\",\n",
      "                    \"description\": \"Blue\"\n",
      "                }\n",
      "            ],\n",
      "            \"proj:bbox\": [\n",
      "                554843.75,\n",
      "                3679843.75,\n",
      "                560156.25,\n",
      "                3685156.25\n",
      "            ],\n",
      "            \"proj:shape\": [\n",
      "                17408,\n",
      "                17408\n",
      "            ],\n",
      "            \"proj:transform\": [\n",
      "                0.30517578125,\n",
      "                0.0,\n",
      "                554843.75,\n",
      "                0.0,\n",
      "                -0.30517578125,\n",
      "                3685156.25,\n",
      "                0.0,\n",
      "                0.0,\n",
      "                1.0\n",
      "            ]\n",
      "        },\n",
      "        \"data-mask\": {\n",
      "            \"href\": \"https://maxar-opendata.s3.amazonaws.com/events/afghanistan-earthquake22/ard/42/120200023233/2021-06-09/10300100C04CC000-data-mask.gpkg\",\n",
      "            \"type\": \"application/geopackage+sqlite3\",\n",
      "            \"roles\": [\n",
      "                \"data-mask\"\n",
      "            ],\n",
      "            \"title\": \"Data Mask\"\n",
      "        },\n",
      "        \"ms_analytic\": {\n",
      "            \"href\": \"https://maxar-opendata.s3.amazonaws.com/events/afghanistan-earthquake22/ard/42/120200023233/2021-06-09/10300100C04CC000-ms.tif\",\n",
      "            \"type\": \"image/tiff; application=geotiff; profile=cloud-optimized\",\n",
      "            \"roles\": [\n",
      "                \"data\"\n",
      "            ],\n",
      "            \"title\": \"Multispectral Image\",\n",
      "            \"eo:bands\": [\n",
      "                {\n",
      "                    \"name\": \"BAND_C\",\n",
      "                    \"common_name\": \"coastal\",\n",
      "                    \"description\": \"Coastal Blue\"\n",
      "                },\n",
      "                {\n",
      "                    \"name\": \"BAND_B\",\n",
      "                    \"common_name\": \"blue\",\n",
      "                    \"description\": \"Blue\"\n",
      "                },\n",
      "                {\n",
      "                    \"name\": \"BAND_G\",\n",
      "                    \"common_name\": \"green\",\n",
      "                    \"description\": \"Green\"\n",
      "                },\n",
      "                {\n",
      "                    \"name\": \"BAND_Y\",\n",
      "                    \"common_name\": \"yellow\",\n",
      "                    \"description\": \"Yellow\"\n",
      "                },\n",
      "                {\n",
      "                    \"name\": \"BAND_R\",\n",
      "                    \"common_name\": \"red\",\n",
      "                    \"description\": \"Red\"\n",
      "                },\n",
      "                {\n",
      "                    \"name\": \"BAND_RE\",\n",
      "                    \"common_name\": \"rededge\",\n",
      "                    \"description\": \"Red Edge 1\"\n",
      "                },\n",
      "                {\n",
      "                    \"name\": \"BAND_N\",\n",
      "                    \"common_name\": \"nir08\",\n",
      "                    \"description\": \"Near Infrared 1\"\n",
      "                },\n",
      "                {\n",
      "                    \"name\": \"BAND_N2\",\n",
      "                    \"common_name\": \"nir09\",\n",
      "                    \"description\": \"Near Infrared 2\"\n",
      "                }\n",
      "            ],\n",
      "            \"proj:bbox\": [\n",
      "                554843.75,\n",
      "                3679843.75,\n",
      "                560156.25,\n",
      "                3685156.25\n",
      "            ],\n",
      "            \"proj:shape\": [\n",
      "                2464,\n",
      "                2464\n",
      "            ],\n",
      "            \"proj:transform\": [\n",
      "                2.1560470779220777,\n",
      "                0.0,\n",
      "                554843.75,\n",
      "                0.0,\n",
      "                -2.1560470779220777,\n",
      "                3685156.25,\n",
      "                0.0,\n",
      "                0.0,\n",
      "                1.0\n",
      "            ]\n",
      "        },\n",
      "        \"pan_analytic\": {\n",
      "            \"href\": \"https://maxar-opendata.s3.amazonaws.com/events/afghanistan-earthquake22/ard/42/120200023233/2021-06-09/10300100C04CC000-pan.tif\",\n",
      "            \"type\": \"image/tiff; application=geotiff; profile=cloud-optimized\",\n",
      "            \"roles\": [\n",
      "                \"data\"\n",
      "            ],\n",
      "            \"title\": \"Panchromatic Image\",\n",
      "            \"eo:bands\": [\n",
      "                {\n",
      "                    \"name\": \"BAND_P\",\n",
      "                    \"description\": \"Pan\"\n",
      "                }\n",
      "            ],\n",
      "            \"proj:bbox\": [\n",
      "                554843.75,\n",
      "                3679843.75,\n",
      "                560156.25,\n",
      "                3685156.25\n",
      "            ],\n",
      "            \"proj:shape\": [\n",
      "                9856,\n",
      "                9856\n",
      "            ],\n",
      "            \"proj:transform\": [\n",
      "                0.5390117694805194,\n",
      "                0.0,\n",
      "                554843.75,\n",
      "                0.0,\n",
      "                -0.5390117694805194,\n",
      "                3685156.25,\n",
      "                0.0,\n",
      "                0.0,\n",
      "                1.0\n",
      "            ]\n",
      "        }\n",
      "    },\n",
      "    \"geometry\": {\n",
      "        \"type\": \"Polygon\",\n",
      "        \"coordinates\": [\n",
      "            [\n",
      "                [\n",
      "                    69.59823715758249,\n",
      "                    33.30406643126264\n",
      "                ],\n",
      "                [\n",
      "                    69.64618038085693,\n",
      "                    33.30382637106789\n",
      "                ],\n",
      "                [\n",
      "                    69.64582742663593,\n",
      "                    33.25591082321473\n",
      "                ],\n",
      "                [\n",
      "                    69.59834284170877,\n",
      "                    33.25614836857301\n",
      "                ],\n",
      "                [\n",
      "                    69.59817747885819,\n",
      "                    33.26024782495559\n",
      "                ],\n",
      "                [\n",
      "                    69.59830455806265,\n",
      "                    33.263509073995145\n",
      "                ],\n",
      "                [\n",
      "                    69.59859435966861,\n",
      "                    33.26612542410959\n",
      "                ],\n",
      "                [\n",
      "                    69.59858771135646,\n",
      "                    33.274275967286194\n",
      "                ],\n",
      "                [\n",
      "                    69.59875380947994,\n",
      "                    33.279406047721956\n",
      "                ],\n",
      "                [\n",
      "                    69.59823715758249,\n",
      "                    33.30406643126264\n",
      "                ]\n",
      "            ]\n",
      "        ]\n",
      "    },\n",
      "    \"collection\": \"MAXAR_afghanistan_earthquake22\",\n",
      "    \"properties\": {\n",
      "        \"gsd\": 0.57,\n",
      "        \"quadkey\": \"120200023233\",\n",
      "        \"datetime\": \"2021-06-09T06:15:19Z\",\n",
      "        \"platform\": \"WV02\",\n",
      "        \"utm_zone\": 42,\n",
      "        \"grid:code\": \"MXRA-Z42-120200023233\",\n",
      "        \"proj:bbox\": [\n",
      "            555692.7490234375,\n",
      "            3679843.75,\n",
      "            560156.25,\n",
      "            3685156.25\n",
      "        ],\n",
      "        \"proj:epsg\": 32642,\n",
      "        \"catalog_id\": \"10300100C04CC000\",\n",
      "        \"view:azimuth\": 201.2,\n",
      "        \"proj:geometry\": {\n",
      "            \"type\": \"Polygon\",\n",
      "            \"coordinates\": [\n",
      "                [\n",
      "                    [\n",
      "                        555692.7490234375,\n",
      "                        3685156.25\n",
      "                    ],\n",
      "                    [\n",
      "                        560156.25,\n",
      "                        3685156.25\n",
      "                    ],\n",
      "                    [\n",
      "                        560156.25,\n",
      "                        3679843.75\n",
      "                    ],\n",
      "                    [\n",
      "                        555733.0322265625,\n",
      "                        3679843.75\n",
      "                    ],\n",
      "                    [\n",
      "                        555715.0268554688,\n",
      "                        3680298.1567382812\n",
      "                    ],\n",
      "                    [\n",
      "                        555750.1220703125,\n",
      "                        3680950.0122070312\n",
      "                    ],\n",
      "                    [\n",
      "                        555756.5307617188,\n",
      "                        3682422.4853515625\n",
      "                    ],\n",
      "                    [\n",
      "                        555692.7490234375,\n",
      "                        3685156.25\n",
      "                    ]\n",
      "                ]\n",
      "            ]\n",
      "        },\n",
      "        \"tile:data_area\": 23.4,\n",
      "        \"view:off_nadir\": 26.2,\n",
      "        \"tile:clouds_area\": 0.0,\n",
      "        \"view:sun_azimuth\": 121.1,\n",
      "        \"view:sun_elevation\": 72.5,\n",
      "        \"tile:clouds_percent\": 0,\n",
      "        \"ard_metadata_version\": \"0.0.1\",\n",
      "        \"view:incidence_angle\": 60.3\n",
      "    },\n",
      "    \"stac_version\": \"1.0.0\",\n",
      "    \"stac_extensions\": [\n",
      "        \"https://stac-extensions.github.io/view/v1.0.0/schema.json\",\n",
      "        \"https://stac-extensions.github.io/projection/v1.0.0/schema.json\",\n",
      "        \"https://stac-extensions.github.io/eo/v1.0.0/schema.json\",\n",
      "        \"https://stac-extensions.github.io/raster/v1.1.0/schema.json\",\n",
      "        \"https://stac-extensions.github.io/grid/v1.0.0/schema.json\"\n",
      "    ]\n",
      "}\n"
     ]
    }
   ],
   "source": [
    "items = httpx.get(items_url).json() \n",
    "print(json.dumps(items['features'][0], indent=4))"
   ]
  },
  {
   "cell_type": "code",
   "execution_count": 71,
   "metadata": {},
   "outputs": [
    {
     "name": "stdout",
     "output_type": "stream",
     "text": [
      "Actual Number of Items: 92\n"
     ]
    }
   ],
   "source": [
    "afg_items = []\n",
    "\n",
    "url = items_url\n",
    "while True:\n",
    "    items = httpx.get(url, params={\"limit\": 200}).json()\n",
    "    \n",
    "    afg_items.extend(items[\"features\"])\n",
    "    next_link = list(filter(lambda link: link[\"rel\"] == \"next\", items[\"links\"]))\n",
    "    if next_link:\n",
    "        url = next_link[0][\"href\"]\n",
    "    else:\n",
    "        break\n",
    "\n",
    "print(f\"Actual Number of Items: {len(afg_items)}\")\n"
   ]
  },
  {
   "attachments": {},
   "cell_type": "markdown",
   "metadata": {},
   "source": [
    "With all the items, we can start visualizing some important details that will help with our pre and post event analysis. The code block below generates a heatmap of the STAC items where we fill the color of pre-event Items with Blue and post-event Items with Red. "
   ]
  },
  {
   "cell_type": "code",
   "execution_count": 73,
   "metadata": {},
   "outputs": [
    {
     "data": {
      "application/vnd.jupyter.widget-view+json": {
       "model_id": "9c5f6d823dfb43ecaea85759825432f3",
       "version_major": 2,
       "version_minor": 0
      },
      "text/plain": [
       "Map(center=[29.60082468671302, 79.33739695318904], controls=(ZoomControl(options=['position', 'zoom_in_text', …"
      ]
     },
     "execution_count": 73,
     "metadata": {},
     "output_type": "execute_result"
    }
   ],
   "source": [
    "m = ipyleaflet.leaflet.Map(\n",
    "    center=((mainbbox[1] + mainbbox[3]) / 2,(mainbbox[0] + mainbbox[2]) / 2),\n",
    "    zoom=7\n",
    ")\n",
    "\n",
    "geojson = ipyleaflet.leaflet.GeoJSON(data={\"type\": \"FeatureCollection\", \"features\": afg_items}, style_callback=style_function)\n",
    "m.add_layer(geojson)\n",
    "m"
   ]
  },
  {
   "cell_type": "code",
   "execution_count": 49,
   "metadata": {},
   "outputs": [],
   "source": [
    "raster_endpoint = \"https://eoapi.ifrc-risk.k8s.labs.ds.io/raster\""
   ]
  },
  {
   "cell_type": "code",
   "execution_count": 74,
   "metadata": {},
   "outputs": [
    {
     "name": "stdout",
     "output_type": "stream",
     "text": [
      "['visual', 'data-mask', 'ms_analytic', 'pan_analytic']\n",
      "{\n",
      "    \"href\": \"https://maxar-opendata.s3.amazonaws.com/events/afghanistan-earthquake22/ard/42/120200023233/2021-06-09/10300100C04CC000-visual.tif\",\n",
      "    \"type\": \"image/tiff; application=geotiff; profile=cloud-optimized\",\n",
      "    \"roles\": [\n",
      "        \"visual\"\n",
      "    ],\n",
      "    \"title\": \"Visual Image\",\n",
      "    \"eo:bands\": [\n",
      "        {\n",
      "            \"name\": \"BAND_R\",\n",
      "            \"common_name\": \"red\",\n",
      "            \"description\": \"Red\"\n",
      "        },\n",
      "        {\n",
      "            \"name\": \"BAND_G\",\n",
      "            \"common_name\": \"green\",\n",
      "            \"description\": \"Green\"\n",
      "        },\n",
      "        {\n",
      "            \"name\": \"BAND_B\",\n",
      "            \"common_name\": \"blue\",\n",
      "            \"description\": \"Blue\"\n",
      "        }\n",
      "    ],\n",
      "    \"proj:bbox\": [\n",
      "        554843.75,\n",
      "        3679843.75,\n",
      "        560156.25,\n",
      "        3685156.25\n",
      "    ],\n",
      "    \"proj:shape\": [\n",
      "        17408,\n",
      "        17408\n",
      "    ],\n",
      "    \"proj:transform\": [\n",
      "        0.30517578125,\n",
      "        0.0,\n",
      "        554843.75,\n",
      "        0.0,\n",
      "        -0.30517578125,\n",
      "        3685156.25,\n",
      "        0.0,\n",
      "        0.0,\n",
      "        1.0\n",
      "    ]\n",
      "}\n",
      "visual :  image/tiff; application=geotiff; profile=cloud-optimized\n",
      "data-mask :  application/geopackage+sqlite3\n",
      "ms_analytic :  image/tiff; application=geotiff; profile=cloud-optimized\n",
      "pan_analytic :  image/tiff; application=geotiff; profile=cloud-optimized\n"
     ]
    }
   ],
   "source": [
    "item = items[\"features\"][0]\n",
    "\n",
    "print(list(item[\"assets\"].keys()))\n",
    "print(json.dumps(item[\"assets\"][\"visual\"], indent=4))\n",
    "\n",
    "for name, asset in item[\"assets\"].items():\n",
    "    print(name, \": \", asset[\"type\"])"
   ]
  },
  {
   "attachments": {},
   "cell_type": "markdown",
   "metadata": {},
   "source": [
    "Each Item of Maxar's collection has four assets, and three are cloud-optimized! Here's how we can use the raster API to visualize them.\n",
    "\n",
    "First, we must retrieve the Raster metadata for each Raster asset. The raster API will default filter non-raster datasets using the asset's `type` metadata. In the example below, we are fetching the metadata for the `visual`, `ms_analytic`, and `pan_analytic` because these assets have a cloud-optimized type:"
   ]
  },
  {
   "cell_type": "code",
   "execution_count": 75,
   "metadata": {},
   "outputs": [
    {
     "name": "stdout",
     "output_type": "stream",
     "text": [
      "{\n",
      "    \"bounds\": [\n",
      "        69.58879606109966,\n",
      "        33.25591082321473,\n",
      "        69.64618038085693,\n",
      "        33.30410999935452\n",
      "    ],\n",
      "    \"minzoom\": 12,\n",
      "    \"maxzoom\": 19,\n",
      "    \"band_metadata\": [\n",
      "        [\n",
      "            \"b1\",\n",
      "            {}\n",
      "        ],\n",
      "        [\n",
      "            \"b2\",\n",
      "            {}\n",
      "        ],\n",
      "        [\n",
      "            \"b3\",\n",
      "            {}\n",
      "        ]\n",
      "    ],\n",
      "    \"band_descriptions\": [\n",
      "        [\n",
      "            \"b1\",\n",
      "            \"\"\n",
      "        ],\n",
      "        [\n",
      "            \"b2\",\n",
      "            \"\"\n",
      "        ],\n",
      "        [\n",
      "            \"b3\",\n",
      "            \"\"\n",
      "        ]\n",
      "    ],\n",
      "    \"dtype\": \"uint8\",\n",
      "    \"nodata_type\": \"Mask\",\n",
      "    \"colorinterp\": [\n",
      "        \"red\",\n",
      "        \"green\",\n",
      "        \"blue\"\n",
      "    ],\n",
      "    \"driver\": \"GTiff\",\n",
      "    \"count\": 3,\n",
      "    \"width\": 17408,\n",
      "    \"height\": 17408,\n",
      "    \"overviews\": [\n",
      "        2,\n",
      "        4,\n",
      "        8,\n",
      "        16,\n",
      "        32,\n",
      "        64\n",
      "    ]\n",
      "}\n",
      "visual 12 19\n",
      "ms_analytic 12 16\n",
      "pan_analytic 12 18\n"
     ]
    }
   ],
   "source": [
    "item_id = item[\"id\"]\n",
    "\n",
    "info = httpx.get(f\"{raster_endpoint}/collections/{collection_id}/items/{item_id}/info\").json()\n",
    "\n",
    "print(json.dumps(info[\"visual\"], indent=4))\n",
    "\n",
    "for name, asset in info.items():\n",
    "    print(name, asset[\"minzoom\"], asset[\"maxzoom\"])"
   ]
  },
  {
   "cell_type": "code",
   "execution_count": 76,
   "metadata": {},
   "outputs": [
    {
     "data": {
      "text/plain": [
       "{'tilejson': '2.2.0',\n",
       " 'version': '1.0.0',\n",
       " 'scheme': 'xyz',\n",
       " 'tiles': ['http://eoapi.ifrc-risk.k8s.labs.ds.io/raster/collections/MAXAR_afghanistan_earthquake22/items/42_120200023233_10300100C04CC000/tiles/WebMercatorQuad/{z}/{x}/{y}@1x?assets=visual'],\n",
       " 'minzoom': 12,\n",
       " 'maxzoom': 19,\n",
       " 'bounds': [69.59817747885819,\n",
       "  33.25591082321473,\n",
       "  69.64618038085693,\n",
       "  33.30406643126264],\n",
       " 'center': [69.62217892985757, 33.27998862723868, 12]}"
      ]
     },
     "execution_count": 76,
     "metadata": {},
     "output_type": "execute_result"
    }
   ],
   "source": [
    "tilejson = httpx.get(\n",
    "    f\"{raster_endpoint}/collections/{collection_id}/items/{item_id}/tilejson.json\",\n",
    "    params = (\n",
    "        (\"assets\", \"visual\"),  # THIS PARAMETER IS MANDATORY\n",
    "        (\"minzoom\", 12),  # By default the tiler will use 0\n",
    "        (\"maxzoom\", 19), # By default the tiler will use 24\n",
    "    )\n",
    ").json()\n",
    "tilejson"
   ]
  },
  {
   "cell_type": "code",
   "execution_count": 77,
   "metadata": {},
   "outputs": [
    {
     "data": {
      "application/vnd.jupyter.widget-view+json": {
       "model_id": "57ab9143ddd8434b85c35f7be5d7be22",
       "version_major": 2,
       "version_minor": 0
      },
      "text/plain": [
       "Map(center=[33.27998862723868, 69.62217892985757], controls=(ZoomControl(options=['position', 'zoom_in_text', …"
      ]
     },
     "execution_count": 77,
     "metadata": {},
     "output_type": "execute_result"
    }
   ],
   "source": [
    "bounds = tilejson[\"bounds\"]\n",
    "m = ipyleaflet.leaflet.Map(\n",
    "    center=((bounds[1] + bounds[3]) / 2,(bounds[0] + bounds[2]) / 2),\n",
    "    zoom=12\n",
    ")\n",
    "\n",
    "geo_json = ipyleaflet.leaflet.GeoJSON(\n",
    "    data=item,\n",
    "    style={\n",
    "        'opacity': 1, 'dashArray': '9', 'fillOpacity': 0., 'weight': 4\n",
    "    }\n",
    ")\n",
    "m.add_layer(geo_json)\n",
    "\n",
    "tiles = ipyleaflet.leaflet.TileLayer(\n",
    "    url=tilejson[\"tiles\"][0],\n",
    "    min_zoom=tilejson[\"minzoom\"],\n",
    "    max_zoom=tilejson[\"maxzoom\"],\n",
    "    bounds=[\n",
    "        [bounds[1], bounds[0]],\n",
    "        [bounds[3], bounds[2]],\n",
    "\n",
    "    ],\n",
    ")\n",
    "\n",
    "m.add_layer(tiles)\n",
    "\n",
    "m"
   ]
  },
  {
   "cell_type": "code",
   "execution_count": 98,
   "metadata": {},
   "outputs": [
    {
     "data": {
      "text/plain": [
       "'https://eoapi.ifrc-risk.k8s.labs.ds.io/raster/mosaic/register'"
      ]
     },
     "execution_count": 98,
     "metadata": {},
     "output_type": "execute_result"
    }
   ],
   "source": [
    "event_date = \"2023-02-06T00:00:00Z\"\n",
    "f\"{raster_endpoint}/mosaic/register\"\n",
    "# mosaic = httpx.post(\n",
    "#     f\"{raster_endpoint}/mosaic/register\",\n",
    "#     data=json.dumps(\n",
    "#         {\n",
    "#             \"filter-lang\": 'cql2-json',\n",
    "#             \"filter\": {\n",
    "#                 \"op\": 'and', \n",
    "#                 \"args\": [\n",
    "#                     {\n",
    "#                         \"op\": \"in\", \n",
    "#                         \"args\": [{\"property\": \"collection\"}, [collection_id]]\n",
    "#                     },\n",
    "#                 ],\n",
    "#             },\n",
    "#             \"metadata\":{\n",
    "#                 \"name\": \"Afg mosaic\",\n",
    "#             }\n",
    "            \n",
    "#         }\n",
    "#     )\n",
    "# ).json()\n",
    "# mosaic"
   ]
  },
  {
   "cell_type": "code",
   "execution_count": null,
   "metadata": {},
   "outputs": [],
   "source": []
  }
 ],
 "metadata": {
  "kernelspec": {
   "display_name": "Python 3",
   "language": "python",
   "name": "python3"
  },
  "language_info": {
   "codemirror_mode": {
    "name": "ipython",
    "version": 3
   },
   "file_extension": ".py",
   "mimetype": "text/x-python",
   "name": "python",
   "nbconvert_exporter": "python",
   "pygments_lexer": "ipython3",
   "version": "3.10.5"
  },
  "orig_nbformat": 4
 },
 "nbformat": 4,
 "nbformat_minor": 2
}
