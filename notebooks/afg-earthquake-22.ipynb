{
 "cells": [
  {
   "attachments": {},
   "cell_type": "markdown",
   "metadata": {},
   "source": [
    "## eoAPI in Action - Afghanistan Earthquakes 2022\n",
    "\n",
    "The Jupyter Notebook is dedicated to analyzing the aftermath of the Afghanistan earthquakes in 2022.  The notebook should serve as an example for diving deeper into the available imagery pre and post event and assessing what it could be used for. \n",
    "\n",
    "Firstly, we'll delve into querying MAXAR's catalog of images of the event, and pinpointing those relevant to the regions affected by the earthquakes. \n",
    "\n",
    "If possible based on the images obtained, we'll shift our focus to finding signs of impact, employing sophisticated image analysis techniques to identify and interpret the changes in the landscape. Then we will try to determine the population affected by these seismic events, integrating demographic data with our impact analysis to estimate the extent of the humanitarian challenge. "
   ]
  },
  {
   "attachments": {},
   "cell_type": "markdown",
   "metadata": {},
   "source": [
    "## Setup\n",
    "\n",
    "Before we dive into the analysis, let's set up our environment by importing the necessary libraries. This step is crucial for ensuring that we have all the tools required for our data processing, analysis, and visualization tasks. "
   ]
  },
  {
   "cell_type": "code",
   "execution_count": 70,
   "metadata": {},
   "outputs": [],
   "source": [
    "import IPython\n",
    "!python -m pip install httpx ipyleaflet matplotlib\n",
    "IPython.display.clear_output(wait=False)\n"
   ]
  },
  {
   "cell_type": "code",
   "execution_count": 71,
   "metadata": {},
   "outputs": [],
   "source": [
    "import json\n",
    "from datetime import datetime\n",
    "from dateutil.parser import parse\n",
    "\n",
    "import httpx\n",
    "import ipyleaflet\n",
    "import matplotlib.pyplot as plt\n",
    "import matplotlib.dates as mdates"
   ]
  },
  {
   "attachments": {},
   "cell_type": "markdown",
   "metadata": {},
   "source": [
    "Defining some key environment variables upfront is essential to interact with the eoAPI and streamline our analysis effectively. These variables will be the foundational parameters for our API queries and data handling. The crucial variables we'll set include:\n",
    "\n",
    "- stac_endpoint: This is the URL of the STAC (SpatioTemporal Asset Catalog) endpoint of eoAPI. It serves as the entry point for querying and retrieving metadata about the satellite imagery available in our catalog.\n",
    "\n",
    "- collection_id: Each collection of images in the eoAPI is identified by a unique ID. By specifying our collection_id, we can access the specific dataset relevant to the Afghanistan earthquake regions.\n",
    "\n",
    "- raster_endpoint: This variable defines the endpoint for accessing raster data within the eoAPI. It allows us to retrieve and manipulate satellite imagery, which is crucial for our impact analysis and visualization tasks."
   ]
  },
  {
   "cell_type": "code",
   "execution_count": 72,
   "metadata": {},
   "outputs": [],
   "source": [
    "stac_endpoint = \"https://eoapi.ifrc-risk.k8s.labs.ds.io/stac\"\n",
    "collection_id = \"MAXAR_afghanistan_earthquake22\"\n",
    "raster_endpoint = \"https://eoapi.ifrc-risk.k8s.labs.ds.io/raster\"\n",
    "event_date_str =  \"Wednesday, June 22, 2022\"\n",
    "event_datetime = datetime.strptime(event_date_str, \"%A, %B %d, %Y\")"
   ]
  },
  {
   "attachments": {},
   "cell_type": "markdown",
   "metadata": {},
   "source": [
    "## Querying eoAPI to Find Images\n",
    "\n",
    "In this section, we will take the first critical step of our analysis, which is querying our image catalog using the eoAPI. This process involves accessing the vast repository of satellite data specific to the regions affected by the Afghanistan earthquakes. Our goal is to use the stac_endpoint and collection_id to filter and retrieve the images that are most relevant to our study. We want to streamline the querying process to efficiently select images that provide valuable insights into the seismic impacts. This step is not just about fetching data; it's about strategically selecting the right datasets to form the foundation of our subsequent analyses."
   ]
  },
  {
   "cell_type": "code",
   "execution_count": 73,
   "metadata": {},
   "outputs": [
    {
     "name": "stdout",
     "output_type": "stream",
     "text": [
      "Afghanistan Earthquake: Maxar OpenData | On Wednesday, June 22, 2022, a 5.9 magnitude earthquake struck eastern Afghanistan. It has been estimated that more than 1,000 have been killed and many more wounded. Houses have been reduced to rubble and an unknown number of people remain stuck under debris. In outlaying areas rescue operations were complicated by difficult conditions including heavy rain, landslides and villages being located in inaccessible hillsides areas. Wednesday's earthquake was the deadliest in Afghanistan since 2022. It struck about 27 miles (44 km) from the southeastern city of Khost, near the border with Pakistan.\n"
     ]
    }
   ],
   "source": [
    "\n",
    "collection_info = httpx.get(f\"{stac_endpoint}/collections/{collection_id}\").json()\n",
    "print(f\"{collection_info['title']}: {collection_info['description']}\")"
   ]
  },
  {
   "cell_type": "code",
   "execution_count": 74,
   "metadata": {},
   "outputs": [
    {
     "data": {
      "application/vnd.jupyter.widget-view+json": {
       "model_id": "4682d1deb20649b285e079b53b808a7e",
       "version_major": 2,
       "version_minor": 0
      },
      "text/plain": [
       "Map(center=[29.60082468671302, 79.33739695318904], controls=(ZoomControl(options=['position', 'zoom_in_text', …"
      ]
     },
     "execution_count": 74,
     "metadata": {},
     "output_type": "execute_result"
    }
   ],
   "source": [
    "geojson = {\n",
    "    \"type\": \"FeatureCollection\",\n",
    "    \"features\": [\n",
    "        {\n",
    "            'type': 'Feature',\n",
    "            'geometry': {\n",
    "                'type': 'Polygon',\n",
    "                'coordinates': [[\n",
    "                    [bbox[0], bbox[1]],\n",
    "                    [bbox[2], bbox[1]],\n",
    "                    [bbox[2], bbox[3]],\n",
    "                    [bbox[0], bbox[3]],\n",
    "                    [bbox[0], bbox[1]],\n",
    "                ]]\n",
    "            },\n",
    "            'properties': {}\n",
    "        }\n",
    "        for bbox in collection_info[\"extent\"][\"spatial\"][\"bbox\"]\n",
    "    ]\n",
    "}\n",
    "\n",
    "mainbbox = collection_info[\"extent\"][\"spatial\"][\"bbox\"][0]\n",
    "\n",
    "m = ipyleaflet.leaflet.Map(\n",
    "    center=((mainbbox[1] + mainbbox[3]) / 2,(mainbbox[0] + mainbbox[2]) / 2),\n",
    "    zoom=5\n",
    ")\n",
    "\n",
    "geo_json = ipyleaflet.leaflet.GeoJSON(data=geojson)\n",
    "m.add_layer(geo_json)\n",
    "m"
   ]
  },
  {
   "cell_type": "code",
   "execution_count": 75,
   "metadata": {},
   "outputs": [
    {
     "data": {
      "text/plain": [
       "0"
      ]
     },
     "execution_count": 75,
     "metadata": {},
     "output_type": "execute_result"
    }
   ],
   "source": [
    "# checking that the temporal extents are actually all the same!\n",
    "temporal_extents = collection_info[\"extent\"][\"temporal\"][\"interval\"]\n",
    "temporal_extent = temporal_extents[0]\n",
    "score = 0\n",
    "for ext in temporal_extents:\n",
    "    if ext != temporal_extent:\n",
    "        print(ext)\n",
    "        score += 1\n",
    "score"
   ]
  },
  {
   "cell_type": "code",
   "execution_count": 76,
   "metadata": {},
   "outputs": [
    {
     "data": {
      "text/plain": [
       "4"
      ]
     },
     "execution_count": 76,
     "metadata": {},
     "output_type": "execute_result"
    }
   ],
   "source": [
    "items_url = f\"{stac_endpoint}/collections/{collection_id}/items\"\n",
    "items = httpx.get(items_url).json() \n",
    "len(items)"
   ]
  },
  {
   "cell_type": "code",
   "execution_count": 77,
   "metadata": {},
   "outputs": [
    {
     "name": "stdout",
     "output_type": "stream",
     "text": [
      "Actual Number of Items: 92\n"
     ]
    }
   ],
   "source": [
    "afg_items = []\n",
    "\n",
    "url = items_url\n",
    "while True:\n",
    "    items = httpx.get(url, params={\"limit\": 200}).json()\n",
    "    \n",
    "    afg_items.extend(items[\"features\"])\n",
    "    next_link = list(filter(lambda link: link[\"rel\"] == \"next\", items[\"links\"]))\n",
    "    if next_link:\n",
    "        url = next_link[0][\"href\"]\n",
    "    else:\n",
    "        break\n",
    "\n",
    "print(f\"Actual Number of Items: {len(afg_items)}\")"
   ]
  },
  {
   "cell_type": "code",
   "execution_count": 78,
   "metadata": {},
   "outputs": [
    {
     "name": "stdout",
     "output_type": "stream",
     "text": [
      "Number of items before event: 92\n",
      "Number of items after event: 0\n"
     ]
    }
   ],
   "source": [
    "afg_items_pre = []\n",
    "afg_items_post = []\n",
    "\n",
    "for item in afg_items:\n",
    "    item_datetime = datetime.strptime(item['properties']['datetime'].replace('Z', ''), \"%Y-%m-%dT%H:%M:%S\") \n",
    "    if item_datetime < event_datetime:\n",
    "        afg_items_pre.append(item_datetime)\n",
    "    else:\n",
    "        afg_items_post.append(item_datetime)\n",
    "\n",
    "print(f\"Number of items before event: {len(afg_items_pre)}\")\n",
    "print(f\"Number of items after event: {len(afg_items_post)}\")"
   ]
  },
  {
   "attachments": {},
   "cell_type": "markdown",
   "metadata": {},
   "source": [
    "Upon closer examination of our dataset, we have encountered several significant issues that must be addressed. Firstly, the temporal extents of the data we've queried are not well-formatted, which poses a challenge in accurately assessing the satellite capture timeline. This formatting issue could lead to difficulties in understanding the precise timeframes of the images, particularly in relation to the earthquake events. \n",
    "\n",
    "Secondly, perhaps more critically, we have discovered that all the items within our selected collection are dated before the event. This revelation is crucial to our analysis, indicating that our current dataset does not include post-event imagery. This lack of post-event data limits our ability to analyze the immediate aftermath and impact of the earthquakes, which is essential for a comprehensive understanding of the situation. Therefore, it's imperative that we revisit our data querying process to ensure that we obtain the necessary post-event images for a complete and accurate analysis."
   ]
  },
  {
   "attachments": {},
   "cell_type": "markdown",
   "metadata": {},
   "source": [
    "### Mosaicing the images\n",
    "\n",
    "Even without specific post-event images, we will create a mosaic to simultaneously visualize all the pre-events. The mosaic could be overlaid with any custom data available from other sources."
   ]
  },
  {
   "cell_type": "code",
   "execution_count": 79,
   "metadata": {},
   "outputs": [
    {
     "data": {
      "text/plain": [
       "{'tilejson': '2.2.0',\n",
       " 'version': '1.0.0',\n",
       " 'scheme': 'xyz',\n",
       " 'tiles': ['http://eoapi.ifrc-risk.k8s.labs.ds.io/raster/collections/MAXAR_afghanistan_earthquake22/items/42_120200023233_10300100C04CC000/tiles/WebMercatorQuad/{z}/{x}/{y}@1x?assets=visual'],\n",
       " 'minzoom': 12,\n",
       " 'maxzoom': 19,\n",
       " 'bounds': [69.59817747885819,\n",
       "  33.25591082321473,\n",
       "  69.64618038085693,\n",
       "  33.30406643126264],\n",
       " 'center': [69.62217892985757, 33.27998862723868, 12]}"
      ]
     },
     "execution_count": 79,
     "metadata": {},
     "output_type": "execute_result"
    }
   ],
   "source": [
    "item = items[\"features\"][0]\n",
    "tilejson = httpx.get(\n",
    "    f\"{raster_endpoint}/collections/{collection_id}/items/{item['id']}/tilejson.json\",\n",
    "    params = (\n",
    "        (\"assets\", \"visual\"),  # THIS PARAMETER IS MANDATORY\n",
    "        (\"minzoom\", 12),  # By default the tiler will use 0\n",
    "        (\"maxzoom\", 19), # By default the tiler will use 24\n",
    "    )\n",
    ").json()\n",
    "tilejson"
   ]
  },
  {
   "cell_type": "code",
   "execution_count": 80,
   "metadata": {},
   "outputs": [
    {
     "data": {
      "application/vnd.jupyter.widget-view+json": {
       "model_id": "14b6253c0f504a2b83c4baf335c08a23",
       "version_major": 2,
       "version_minor": 0
      },
      "text/plain": [
       "Map(center=[33.27998862723868, 69.62217892985757], controls=(ZoomControl(options=['position', 'zoom_in_text', …"
      ]
     },
     "execution_count": 80,
     "metadata": {},
     "output_type": "execute_result"
    }
   ],
   "source": [
    "bounds = tilejson[\"bounds\"]\n",
    "m = ipyleaflet.leaflet.Map(\n",
    "    center=((bounds[1] + bounds[3]) / 2,(bounds[0] + bounds[2]) / 2),\n",
    "    zoom=12\n",
    ")\n",
    "\n",
    "geo_json = ipyleaflet.leaflet.GeoJSON(\n",
    "    data=item,\n",
    "    style={\n",
    "        'opacity': 1, 'dashArray': '9', 'fillOpacity': 0., 'weight': 4\n",
    "    }\n",
    ")\n",
    "m.add_layer(geo_json)\n",
    "\n",
    "tiles = ipyleaflet.leaflet.TileLayer(\n",
    "    url=tilejson[\"tiles\"][0],\n",
    "    min_zoom=tilejson[\"minzoom\"],\n",
    "    max_zoom=tilejson[\"maxzoom\"],\n",
    "    bounds=[\n",
    "        [bounds[1], bounds[0]],\n",
    "        [bounds[3], bounds[2]],\n",
    "\n",
    "    ],\n",
    ")\n",
    "\n",
    "m.add_layer(tiles)\n",
    "\n",
    "m"
   ]
  },
  {
   "cell_type": "code",
   "execution_count": 81,
   "metadata": {},
   "outputs": [
    {
     "data": {
      "text/plain": [
       "{'id': '42_120200023233_10300100C04CC000',\n",
       " 'bbox': [69.59817747885819,\n",
       "  33.25591082321473,\n",
       "  69.64618038085693,\n",
       "  33.30406643126264],\n",
       " 'type': 'Feature',\n",
       " 'links': [{'rel': 'collection',\n",
       "   'type': 'application/json',\n",
       "   'href': 'https://eoapi.ifrc-risk.k8s.labs.ds.io/stac/collections/MAXAR_afghanistan_earthquake22'},\n",
       "  {'rel': 'parent',\n",
       "   'type': 'application/json',\n",
       "   'href': 'https://eoapi.ifrc-risk.k8s.labs.ds.io/stac/collections/MAXAR_afghanistan_earthquake22'},\n",
       "  {'rel': 'root',\n",
       "   'type': 'application/json',\n",
       "   'href': 'https://eoapi.ifrc-risk.k8s.labs.ds.io/stac/'},\n",
       "  {'rel': 'self',\n",
       "   'type': 'application/geo+json',\n",
       "   'href': 'https://eoapi.ifrc-risk.k8s.labs.ds.io/stac/collections/MAXAR_afghanistan_earthquake22/items/42_120200023233_10300100C04CC000'}],\n",
       " 'assets': {'visual': {'href': 'https://maxar-opendata.s3.amazonaws.com/events/afghanistan-earthquake22/ard/42/120200023233/2021-06-09/10300100C04CC000-visual.tif',\n",
       "   'type': 'image/tiff; application=geotiff; profile=cloud-optimized',\n",
       "   'roles': ['visual'],\n",
       "   'title': 'Visual Image',\n",
       "   'eo:bands': [{'name': 'BAND_R', 'common_name': 'red', 'description': 'Red'},\n",
       "    {'name': 'BAND_G', 'common_name': 'green', 'description': 'Green'},\n",
       "    {'name': 'BAND_B', 'common_name': 'blue', 'description': 'Blue'}],\n",
       "   'proj:bbox': [554843.75, 3679843.75, 560156.25, 3685156.25],\n",
       "   'proj:shape': [17408, 17408],\n",
       "   'proj:transform': [0.30517578125,\n",
       "    0.0,\n",
       "    554843.75,\n",
       "    0.0,\n",
       "    -0.30517578125,\n",
       "    3685156.25,\n",
       "    0.0,\n",
       "    0.0,\n",
       "    1.0]},\n",
       "  'data-mask': {'href': 'https://maxar-opendata.s3.amazonaws.com/events/afghanistan-earthquake22/ard/42/120200023233/2021-06-09/10300100C04CC000-data-mask.gpkg',\n",
       "   'type': 'application/geopackage+sqlite3',\n",
       "   'roles': ['data-mask'],\n",
       "   'title': 'Data Mask'},\n",
       "  'ms_analytic': {'href': 'https://maxar-opendata.s3.amazonaws.com/events/afghanistan-earthquake22/ard/42/120200023233/2021-06-09/10300100C04CC000-ms.tif',\n",
       "   'type': 'image/tiff; application=geotiff; profile=cloud-optimized',\n",
       "   'roles': ['data'],\n",
       "   'title': 'Multispectral Image',\n",
       "   'eo:bands': [{'name': 'BAND_C',\n",
       "     'common_name': 'coastal',\n",
       "     'description': 'Coastal Blue'},\n",
       "    {'name': 'BAND_B', 'common_name': 'blue', 'description': 'Blue'},\n",
       "    {'name': 'BAND_G', 'common_name': 'green', 'description': 'Green'},\n",
       "    {'name': 'BAND_Y', 'common_name': 'yellow', 'description': 'Yellow'},\n",
       "    {'name': 'BAND_R', 'common_name': 'red', 'description': 'Red'},\n",
       "    {'name': 'BAND_RE', 'common_name': 'rededge', 'description': 'Red Edge 1'},\n",
       "    {'name': 'BAND_N',\n",
       "     'common_name': 'nir08',\n",
       "     'description': 'Near Infrared 1'},\n",
       "    {'name': 'BAND_N2',\n",
       "     'common_name': 'nir09',\n",
       "     'description': 'Near Infrared 2'}],\n",
       "   'proj:bbox': [554843.75, 3679843.75, 560156.25, 3685156.25],\n",
       "   'proj:shape': [2464, 2464],\n",
       "   'proj:transform': [2.1560470779220777,\n",
       "    0.0,\n",
       "    554843.75,\n",
       "    0.0,\n",
       "    -2.1560470779220777,\n",
       "    3685156.25,\n",
       "    0.0,\n",
       "    0.0,\n",
       "    1.0]},\n",
       "  'pan_analytic': {'href': 'https://maxar-opendata.s3.amazonaws.com/events/afghanistan-earthquake22/ard/42/120200023233/2021-06-09/10300100C04CC000-pan.tif',\n",
       "   'type': 'image/tiff; application=geotiff; profile=cloud-optimized',\n",
       "   'roles': ['data'],\n",
       "   'title': 'Panchromatic Image',\n",
       "   'eo:bands': [{'name': 'BAND_P', 'description': 'Pan'}],\n",
       "   'proj:bbox': [554843.75, 3679843.75, 560156.25, 3685156.25],\n",
       "   'proj:shape': [9856, 9856],\n",
       "   'proj:transform': [0.5390117694805194,\n",
       "    0.0,\n",
       "    554843.75,\n",
       "    0.0,\n",
       "    -0.5390117694805194,\n",
       "    3685156.25,\n",
       "    0.0,\n",
       "    0.0,\n",
       "    1.0]}},\n",
       " 'geometry': {'type': 'Polygon',\n",
       "  'coordinates': [[[69.59823715758249, 33.30406643126264],\n",
       "    [69.64618038085693, 33.30382637106789],\n",
       "    [69.64582742663593, 33.25591082321473],\n",
       "    [69.59834284170877, 33.25614836857301],\n",
       "    [69.59817747885819, 33.26024782495559],\n",
       "    [69.59830455806265, 33.263509073995145],\n",
       "    [69.59859435966861, 33.26612542410959],\n",
       "    [69.59858771135646, 33.274275967286194],\n",
       "    [69.59875380947994, 33.279406047721956],\n",
       "    [69.59823715758249, 33.30406643126264]]]},\n",
       " 'collection': 'MAXAR_afghanistan_earthquake22',\n",
       " 'properties': {'gsd': 0.57,\n",
       "  'quadkey': '120200023233',\n",
       "  'datetime': '2021-06-09T06:15:19Z',\n",
       "  'platform': 'WV02',\n",
       "  'utm_zone': 42,\n",
       "  'grid:code': 'MXRA-Z42-120200023233',\n",
       "  'proj:bbox': [555692.7490234375, 3679843.75, 560156.25, 3685156.25],\n",
       "  'proj:epsg': 32642,\n",
       "  'catalog_id': '10300100C04CC000',\n",
       "  'view:azimuth': 201.2,\n",
       "  'proj:geometry': {'type': 'Polygon',\n",
       "   'coordinates': [[[555692.7490234375, 3685156.25],\n",
       "     [560156.25, 3685156.25],\n",
       "     [560156.25, 3679843.75],\n",
       "     [555733.0322265625, 3679843.75],\n",
       "     [555715.0268554688, 3680298.1567382812],\n",
       "     [555750.1220703125, 3680950.0122070312],\n",
       "     [555756.5307617188, 3682422.4853515625],\n",
       "     [555692.7490234375, 3685156.25]]]},\n",
       "  'tile:data_area': 23.4,\n",
       "  'view:off_nadir': 26.2,\n",
       "  'tile:clouds_area': 0.0,\n",
       "  'view:sun_azimuth': 121.1,\n",
       "  'view:sun_elevation': 72.5,\n",
       "  'tile:clouds_percent': 0,\n",
       "  'ard_metadata_version': '0.0.1',\n",
       "  'view:incidence_angle': 60.3},\n",
       " 'stac_version': '1.0.0',\n",
       " 'stac_extensions': ['https://stac-extensions.github.io/view/v1.0.0/schema.json',\n",
       "  'https://stac-extensions.github.io/projection/v1.0.0/schema.json',\n",
       "  'https://stac-extensions.github.io/eo/v1.0.0/schema.json',\n",
       "  'https://stac-extensions.github.io/raster/v1.1.0/schema.json',\n",
       "  'https://stac-extensions.github.io/grid/v1.0.0/schema.json']}"
      ]
     },
     "execution_count": 81,
     "metadata": {},
     "output_type": "execute_result"
    }
   ],
   "source": [
    "afg_items[0]"
   ]
  },
  {
   "cell_type": "code",
   "execution_count": 82,
   "metadata": {},
   "outputs": [
    {
     "data": {
      "text/plain": [
       "{'id': '6bd865ecf6ffa854b36cd014399c64bb',\n",
       " 'links': [{'rel': 'metadata',\n",
       "   'title': 'Mosaic metadata',\n",
       "   'type': 'application/json',\n",
       "   'href': 'http://eoapi.ifrc-risk.k8s.labs.ds.io/raster/searches/6bd865ecf6ffa854b36cd014399c64bb/info'},\n",
       "  {'rel': 'tilejson',\n",
       "   'title': 'Link for TileJSON',\n",
       "   'type': 'application/json',\n",
       "   'href': 'http://eoapi.ifrc-risk.k8s.labs.ds.io/raster/searches/6bd865ecf6ffa854b36cd014399c64bb/tilejson.json'},\n",
       "  {'rel': 'map',\n",
       "   'title': 'Link for Map viewer',\n",
       "   'type': 'application/json',\n",
       "   'href': 'http://eoapi.ifrc-risk.k8s.labs.ds.io/raster/searches/6bd865ecf6ffa854b36cd014399c64bb/map'},\n",
       "  {'rel': 'wmts',\n",
       "   'title': 'Link for WMTS',\n",
       "   'type': 'application/json',\n",
       "   'href': 'http://eoapi.ifrc-risk.k8s.labs.ds.io/raster/searches/6bd865ecf6ffa854b36cd014399c64bb/WMTSCapabilities.xml'}]}"
      ]
     },
     "execution_count": 82,
     "metadata": {},
     "output_type": "execute_result"
    }
   ],
   "source": [
    "event_date = \"2023-02-06T00:00:00Z\"\n",
    "\n",
    "bounds = [60.5, 29.4, 74.9, 38.5]\n",
    "\n",
    "mosaic = httpx.post(\n",
    "    f\"{raster_endpoint}/searches/register\",\n",
    "    data=json.dumps(\n",
    "        {\n",
    "            \"filter-lang\": 'cql2-json',\n",
    "            \"filter\": {},\n",
    "            \"sortby\": [\n",
    "                {\n",
    "                    \"field\": \"tile:clouds_percent\",\n",
    "                    \"direction\": \"asc\"\n",
    "                },\n",
    "            ],\n",
    "            \"metadata\":{\n",
    "                \"name\": \"AFG Mosaic\",\n",
    "                \"bounds\": bounds,\n",
    "            }\n",
    "            \n",
    "        }\n",
    "    )\n",
    ").json()\n",
    "mosaic"
   ]
  },
  {
   "cell_type": "code",
   "execution_count": 83,
   "metadata": {},
   "outputs": [
    {
     "data": {
      "application/vnd.jupyter.widget-view+json": {
       "model_id": "ad001a2a58744c2581ac64df8ae17e52",
       "version_major": 2,
       "version_minor": 0
      },
      "text/plain": [
       "Map(center=[33.95, 67.7], controls=(ZoomControl(options=['position', 'zoom_in_text', 'zoom_in_title', 'zoom_ou…"
      ]
     },
     "execution_count": 83,
     "metadata": {},
     "output_type": "execute_result"
    }
   ],
   "source": [
    "mosaic_id = mosaic[\"id\"]\n",
    "\n",
    "tilejson = httpx.get(\n",
    "    f\"{raster_endpoint}/searches/{mosaic_id}/tilejson.json\",\n",
    "    params = (\n",
    "        (\"assets\", \"visual\"),  # required parameter\n",
    "        (\"minzoom\", 12),\n",
    "        (\"maxzoom\", 19), \n",
    "    )\n",
    ").json()\n",
    "\n",
    "\n",
    "bounds = tilejson[\"bounds\"]\n",
    "m = ipyleaflet.leaflet.Map(\n",
    "    center=((bounds[1] + bounds[3]) / 2,(bounds[0] + bounds[2]) / 2),\n",
    "    zoom=7\n",
    ")\n",
    "\n",
    "geo_json = ipyleaflet.leaflet.GeoJSON(\n",
    "    data={\"type\": \"FeatureCollection\", \"features\": afg_items}, \n",
    "    style={\n",
    "        \"fillOpacity\": 0,\n",
    "        \"weight\": 1,\n",
    "    },\n",
    ")\n",
    "m.add_layer(geo_json)\n",
    "\n",
    "tiles = ipyleaflet.leaflet.TileLayer(\n",
    "    url=tilejson[\"tiles\"][0],\n",
    "    min_zoom=tilejson[\"minzoom\"],\n",
    "    max_zoom=tilejson[\"maxzoom\"],\n",
    "    bounds=[\n",
    "        [bounds[1], bounds[0]],\n",
    "        [bounds[3], bounds[2]],\n",
    "\n",
    "    ],\n",
    ")\n",
    "\n",
    "m.add_layer(tiles)\n",
    "m"
   ]
  }
 ],
 "metadata": {
  "kernelspec": {
   "display_name": "Python 3",
   "language": "python",
   "name": "python3"
  },
  "language_info": {
   "codemirror_mode": {
    "name": "ipython",
    "version": 3
   },
   "file_extension": ".py",
   "mimetype": "text/x-python",
   "name": "python",
   "nbconvert_exporter": "python",
   "pygments_lexer": "ipython3",
   "version": "3.10.5"
  },
  "orig_nbformat": 4
 },
 "nbformat": 4,
 "nbformat_minor": 2
}
