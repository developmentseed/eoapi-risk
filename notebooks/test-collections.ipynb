{
 "cells": [
  {
   "cell_type": "code",
   "execution_count": 1,
   "id": "3c13b2b1-0acb-4344-a422-9620d530ce34",
   "metadata": {},
   "outputs": [
    {
     "name": "stdout",
     "output_type": "stream",
     "text": [
      "Requirement already satisfied: pystac in /opt/homebrew/Caskroom/miniforge/base/lib/python3.9/site-packages (1.6.0)\n",
      "Requirement already satisfied: python-dateutil>=2.7.0 in /opt/homebrew/Caskroom/miniforge/base/lib/python3.9/site-packages (from pystac) (2.8.2)\n",
      "Requirement already satisfied: six>=1.5 in /opt/homebrew/Caskroom/miniforge/base/lib/python3.9/site-packages (from python-dateutil>=2.7.0->pystac) (1.16.0)\n"
     ]
    }
   ],
   "source": [
    "!pip install pystac"
   ]
  },
  {
   "cell_type": "code",
   "execution_count": 2,
   "id": "25ffd517-cc93-421b-9700-155d59fc574e",
   "metadata": {},
   "outputs": [
    {
     "name": "stdout",
     "output_type": "stream",
     "text": [
      "Collecting pystac-client\n",
      "  Downloading pystac_client-0.7.5-py3-none-any.whl (33 kB)\n",
      "Collecting pystac[validation]>=1.8.2\n",
      "  Downloading pystac-1.9.0-py3-none-any.whl (181 kB)\n",
      "\u001b[K     |████████████████████████████████| 181 kB 2.2 MB/s eta 0:00:01\n",
      "\u001b[?25hRequirement already satisfied: python-dateutil>=2.8.2 in /opt/homebrew/Caskroom/miniforge/base/lib/python3.9/site-packages (from pystac-client) (2.8.2)\n",
      "Requirement already satisfied: requests>=2.28.2 in /opt/homebrew/Caskroom/miniforge/base/lib/python3.9/site-packages (from pystac-client) (2.31.0)\n",
      "Requirement already satisfied: jsonschema~=4.18 in /opt/homebrew/Caskroom/miniforge/base/lib/python3.9/site-packages (from pystac[validation]>=1.8.2->pystac-client) (4.19.1)\n",
      "Requirement already satisfied: attrs>=22.2.0 in /opt/homebrew/Caskroom/miniforge/base/lib/python3.9/site-packages (from jsonschema~=4.18->pystac[validation]>=1.8.2->pystac-client) (23.1.0)\n",
      "Requirement already satisfied: referencing>=0.28.4 in /opt/homebrew/Caskroom/miniforge/base/lib/python3.9/site-packages (from jsonschema~=4.18->pystac[validation]>=1.8.2->pystac-client) (0.30.2)\n",
      "Requirement already satisfied: rpds-py>=0.7.1 in /opt/homebrew/Caskroom/miniforge/base/lib/python3.9/site-packages (from jsonschema~=4.18->pystac[validation]>=1.8.2->pystac-client) (0.10.6)\n",
      "Requirement already satisfied: jsonschema-specifications>=2023.03.6 in /opt/homebrew/Caskroom/miniforge/base/lib/python3.9/site-packages (from jsonschema~=4.18->pystac[validation]>=1.8.2->pystac-client) (2023.7.1)\n",
      "Requirement already satisfied: six>=1.5 in /opt/homebrew/Caskroom/miniforge/base/lib/python3.9/site-packages (from python-dateutil>=2.8.2->pystac-client) (1.16.0)\n",
      "Requirement already satisfied: certifi>=2017.4.17 in /opt/homebrew/Caskroom/miniforge/base/lib/python3.9/site-packages (from requests>=2.28.2->pystac-client) (2022.5.18.1)\n",
      "Requirement already satisfied: urllib3<3,>=1.21.1 in /opt/homebrew/Caskroom/miniforge/base/lib/python3.9/site-packages (from requests>=2.28.2->pystac-client) (1.26.9)\n",
      "Requirement already satisfied: idna<4,>=2.5 in /opt/homebrew/Caskroom/miniforge/base/lib/python3.9/site-packages (from requests>=2.28.2->pystac-client) (3.3)\n",
      "Requirement already satisfied: charset-normalizer<4,>=2 in /opt/homebrew/Caskroom/miniforge/base/lib/python3.9/site-packages (from requests>=2.28.2->pystac-client) (2.0.12)\n",
      "Installing collected packages: pystac, pystac-client\n",
      "  Attempting uninstall: pystac\n",
      "    Found existing installation: pystac 1.6.0\n",
      "    Uninstalling pystac-1.6.0:\n",
      "      Successfully uninstalled pystac-1.6.0\n",
      "Successfully installed pystac-1.9.0 pystac-client-0.7.5\n"
     ]
    }
   ],
   "source": [
    "!pip install pystac-client"
   ]
  },
  {
   "cell_type": "code",
   "execution_count": 3,
   "id": "a869801d-a718-41fa-b40d-a134db4fa5bf",
   "metadata": {},
   "outputs": [],
   "source": [
    "from pystac_client import Client\n"
   ]
  },
  {
   "cell_type": "code",
   "execution_count": 4,
   "id": "e312cc23-5567-401c-99e5-3801718fd701",
   "metadata": {},
   "outputs": [],
   "source": [
    "catalog = Client.open('https://eoapi.ifrc-risk.k8s.labs.ds.io/stac')"
   ]
  },
  {
   "cell_type": "code",
   "execution_count": 5,
   "id": "440f084f-5c1c-44e5-990f-aed4f3ecc83d",
   "metadata": {},
   "outputs": [
    {
     "data": {
      "text/plain": [
       "'stac-fastapi'"
      ]
     },
     "execution_count": 5,
     "metadata": {},
     "output_type": "execute_result"
    }
   ],
   "source": [
    "catalog.title\n"
   ]
  },
  {
   "cell_type": "code",
   "execution_count": 11,
   "id": "55b5a286-39b9-4382-b422-3b55dc5e0f60",
   "metadata": {},
   "outputs": [
    {
     "name": "stdout",
     "output_type": "stream",
     "text": [
      "MAXAR_Hurricane_Ian_9_26_2022\n",
      "MAXAR_Marshall_Fire_21_Update\n",
      "MAXAR_Emilia_Romagna_Italy_flooding_may23\n",
      "MAXAR_Gambia_flooding_8_11_2022\n",
      "MAXAR_Hurricane_Idalia_Florida_Aug23\n",
      "MAXAR_India_Floods_Oct_2023\n",
      "MAXAR_Indonesia_Earthquake22\n",
      "MAXAR_Kahramanmaras_turkey_earthquake_23\n",
      "MAXAR_Kalehe_DRC_Flooding_5_8_23\n",
      "MAXAR_Libya_Floods_Sept_2023\n",
      "MAXAR_pakistan_flooding22\n",
      "MAXAR_Maui_Hawaii_fires_Aug_23\n",
      "MAXAR_McDougallCreekWildfire_BC_Canada_Aug_23\n",
      "MAXAR_Morocco_Earthquake_Sept_2023\n",
      "MAXAR_NWT_Canada_Aug_23\n",
      "MAXAR_Nepal_Earthquake_Nov_2023\n",
      "MAXAR_New_Zealand_Flooding23\n",
      "MAXAR_Sudan_flooding_8_22_2022\n",
      "MAXAR_afghanistan_earthquake22\n",
      "MAXAR_cyclone_emnati22\n",
      "MAXAR_ghana_explosion22\n",
      "MAXAR_kentucky_flooding_7_29_2022\n",
      "MAXAR_shovi_georgia_landslide_8Aug23\n",
      "MAXAR_southafrica_flooding22\n",
      "MAXAR_tonga_volcano21\n",
      "MAXAR_volcano_indonesia21\n",
      "MAXAR_yellowstone_flooding22\n"
     ]
    },
    {
     "ename": "STACTypeError",
     "evalue": "JSON (id = noaa-emergency-response) does not represent a CollectionClient instance.",
     "output_type": "error",
     "traceback": [
      "\u001b[0;31m---------------------------------------------------------------------------\u001b[0m",
      "\u001b[0;31mSTACTypeError\u001b[0m                             Traceback (most recent call last)",
      "Input \u001b[0;32mIn [11]\u001b[0m, in \u001b[0;36m<cell line: 1>\u001b[0;34m()\u001b[0m\n\u001b[0;32m----> 1\u001b[0m \u001b[38;5;28;01mfor\u001b[39;00m c \u001b[38;5;129;01min\u001b[39;00m catalog\u001b[38;5;241m.\u001b[39mget_collections():\n\u001b[1;32m      2\u001b[0m     \u001b[38;5;28mprint\u001b[39m(c\u001b[38;5;241m.\u001b[39mid)\n",
      "File \u001b[0;32m/opt/homebrew/Caskroom/miniforge/base/lib/python3.9/site-packages/pystac_client/client.py:430\u001b[0m, in \u001b[0;36mClient.get_collections\u001b[0;34m(self)\u001b[0m\n\u001b[1;32m    428\u001b[0m     \u001b[38;5;28;01mraise\u001b[39;00m APIError(\u001b[38;5;124m\"\u001b[39m\u001b[38;5;124mInvalid response from /collections\u001b[39m\u001b[38;5;124m\"\u001b[39m)\n\u001b[1;32m    429\u001b[0m \u001b[38;5;28;01mfor\u001b[39;00m col \u001b[38;5;129;01min\u001b[39;00m page[\u001b[38;5;124m\"\u001b[39m\u001b[38;5;124mcollections\u001b[39m\u001b[38;5;124m\"\u001b[39m]:\n\u001b[0;32m--> 430\u001b[0m     collection \u001b[38;5;241m=\u001b[39m \u001b[43mCollectionClient\u001b[49m\u001b[38;5;241;43m.\u001b[39;49m\u001b[43mfrom_dict\u001b[49m\u001b[43m(\u001b[49m\n\u001b[1;32m    431\u001b[0m \u001b[43m        \u001b[49m\u001b[43mcol\u001b[49m\u001b[43m,\u001b[49m\u001b[43m \u001b[49m\u001b[43mroot\u001b[49m\u001b[38;5;241;43m=\u001b[39;49m\u001b[38;5;28;43mself\u001b[39;49m\u001b[43m,\u001b[49m\u001b[43m \u001b[49m\u001b[43mmodifier\u001b[49m\u001b[38;5;241;43m=\u001b[39;49m\u001b[38;5;28;43mself\u001b[39;49m\u001b[38;5;241;43m.\u001b[39;49m\u001b[43mmodifier\u001b[49m\n\u001b[1;32m    432\u001b[0m \u001b[43m    \u001b[49m\u001b[43m)\u001b[49m\n\u001b[1;32m    433\u001b[0m     call_modifier(\u001b[38;5;28mself\u001b[39m\u001b[38;5;241m.\u001b[39mmodifier, collection)\n\u001b[1;32m    434\u001b[0m     \u001b[38;5;28;01myield\u001b[39;00m collection\n",
      "File \u001b[0;32m/opt/homebrew/Caskroom/miniforge/base/lib/python3.9/site-packages/pystac_client/collection_client.py:84\u001b[0m, in \u001b[0;36mCollectionClient.from_dict\u001b[0;34m(cls, d, href, root, migrate, preserve_dict, modifier)\u001b[0m\n\u001b[1;32m     74\u001b[0m \u001b[38;5;129m@classmethod\u001b[39m\n\u001b[1;32m     75\u001b[0m \u001b[38;5;28;01mdef\u001b[39;00m \u001b[38;5;21mfrom_dict\u001b[39m(\n\u001b[1;32m     76\u001b[0m     \u001b[38;5;28mcls\u001b[39m,\n\u001b[0;32m   (...)\u001b[0m\n\u001b[1;32m     82\u001b[0m     modifier: Optional[Callable[[Modifiable], \u001b[38;5;28;01mNone\u001b[39;00m]] \u001b[38;5;241m=\u001b[39m \u001b[38;5;28;01mNone\u001b[39;00m,\n\u001b[1;32m     83\u001b[0m ) \u001b[38;5;241m-\u001b[39m\u001b[38;5;241m>\u001b[39m \u001b[38;5;124m\"\u001b[39m\u001b[38;5;124mCollectionClient\u001b[39m\u001b[38;5;124m\"\u001b[39m:\n\u001b[0;32m---> 84\u001b[0m     result \u001b[38;5;241m=\u001b[39m \u001b[38;5;28;43msuper\u001b[39;49m\u001b[43m(\u001b[49m\u001b[43m)\u001b[49m\u001b[38;5;241;43m.\u001b[39;49m\u001b[43mfrom_dict\u001b[49m\u001b[43m(\u001b[49m\u001b[43md\u001b[49m\u001b[43m,\u001b[49m\u001b[43m \u001b[49m\u001b[43mhref\u001b[49m\u001b[43m,\u001b[49m\u001b[43m \u001b[49m\u001b[43mroot\u001b[49m\u001b[43m,\u001b[49m\u001b[43m \u001b[49m\u001b[43mmigrate\u001b[49m\u001b[43m,\u001b[49m\u001b[43m \u001b[49m\u001b[43mpreserve_dict\u001b[49m\u001b[43m)\u001b[49m\n\u001b[1;32m     85\u001b[0m     \u001b[38;5;66;03m# error: Cannot assign to a method  [assignment]\u001b[39;00m\n\u001b[1;32m     86\u001b[0m     \u001b[38;5;66;03m# https://github.com/python/mypy/issues/2427\u001b[39;00m\n\u001b[1;32m     87\u001b[0m     \u001b[38;5;28msetattr\u001b[39m(result, \u001b[38;5;124m\"\u001b[39m\u001b[38;5;124mmodifier\u001b[39m\u001b[38;5;124m\"\u001b[39m, modifier)\n",
      "File \u001b[0;32m/opt/homebrew/Caskroom/miniforge/base/lib/python3.9/site-packages/pystac/collection.py:638\u001b[0m, in \u001b[0;36mCollection.from_dict\u001b[0;34m(cls, d, href, root, migrate, preserve_dict)\u001b[0m\n\u001b[1;32m    635\u001b[0m     d \u001b[38;5;241m=\u001b[39m migrate_to_latest(d, info)\n\u001b[1;32m    637\u001b[0m \u001b[38;5;28;01mif\u001b[39;00m \u001b[38;5;129;01mnot\u001b[39;00m \u001b[38;5;28mcls\u001b[39m\u001b[38;5;241m.\u001b[39mmatches_object_type(d):\n\u001b[0;32m--> 638\u001b[0m     \u001b[38;5;28;01mraise\u001b[39;00m STACTypeError(d, \u001b[38;5;28mcls\u001b[39m)\n\u001b[1;32m    640\u001b[0m catalog_type \u001b[38;5;241m=\u001b[39m CatalogType\u001b[38;5;241m.\u001b[39mdetermine_type(d)\n\u001b[1;32m    642\u001b[0m \u001b[38;5;28;01mif\u001b[39;00m preserve_dict:\n",
      "\u001b[0;31mSTACTypeError\u001b[0m: JSON (id = noaa-emergency-response) does not represent a CollectionClient instance."
     ]
    }
   ],
   "source": [
    "for c in catalog.get_collections():\n",
    "    print(c.id)"
   ]
  },
  {
   "cell_type": "code",
   "execution_count": 13,
   "id": "0ad46677-d052-45a9-90c3-3dfeebbfc14a",
   "metadata": {},
   "outputs": [
    {
     "ename": "ValueError",
     "evalue": "Inconsistent use of colon separator",
     "output_type": "error",
     "traceback": [
      "\u001b[0;31m---------------------------------------------------------------------------\u001b[0m",
      "\u001b[0;31mValueError\u001b[0m                                Traceback (most recent call last)",
      "Input \u001b[0;32mIn [13]\u001b[0m, in \u001b[0;36m<cell line: 1>\u001b[0;34m()\u001b[0m\n\u001b[0;32m----> 1\u001b[0m buildings \u001b[38;5;241m=\u001b[39m \u001b[43mcatalog\u001b[49m\u001b[38;5;241;43m.\u001b[39;49m\u001b[43mget_collection\u001b[49m\u001b[43m(\u001b[49m\u001b[38;5;124;43m'\u001b[39;49m\u001b[38;5;124;43mbuildings\u001b[39;49m\u001b[38;5;124;43m'\u001b[39;49m\u001b[43m)\u001b[49m\n",
      "File \u001b[0;32m/opt/homebrew/Caskroom/miniforge/base/lib/python3.9/site-packages/pystac_client/client.py:398\u001b[0m, in \u001b[0;36mClient.get_collection\u001b[0;34m(self, collection_id)\u001b[0m\n\u001b[1;32m    395\u001b[0m     \u001b[38;5;28;01massert\u001b[39;00m \u001b[38;5;28mself\u001b[39m\u001b[38;5;241m.\u001b[39m_stac_io \u001b[38;5;129;01mis\u001b[39;00m \u001b[38;5;129;01mnot\u001b[39;00m \u001b[38;5;28;01mNone\u001b[39;00m\n\u001b[1;32m    397\u001b[0m     url \u001b[38;5;241m=\u001b[39m \u001b[38;5;28mself\u001b[39m\u001b[38;5;241m.\u001b[39m_collections_href(collection_id)\n\u001b[0;32m--> 398\u001b[0m     collection \u001b[38;5;241m=\u001b[39m \u001b[43mCollectionClient\u001b[49m\u001b[38;5;241;43m.\u001b[39;49m\u001b[43mfrom_dict\u001b[49m\u001b[43m(\u001b[49m\n\u001b[1;32m    399\u001b[0m \u001b[43m        \u001b[49m\u001b[38;5;28;43mself\u001b[39;49m\u001b[38;5;241;43m.\u001b[39;49m\u001b[43m_stac_io\u001b[49m\u001b[38;5;241;43m.\u001b[39;49m\u001b[43mread_json\u001b[49m\u001b[43m(\u001b[49m\u001b[43murl\u001b[49m\u001b[43m)\u001b[49m\u001b[43m,\u001b[49m\n\u001b[1;32m    400\u001b[0m \u001b[43m        \u001b[49m\u001b[43mroot\u001b[49m\u001b[38;5;241;43m=\u001b[39;49m\u001b[38;5;28;43mself\u001b[39;49m\u001b[43m,\u001b[49m\n\u001b[1;32m    401\u001b[0m \u001b[43m        \u001b[49m\u001b[43mmodifier\u001b[49m\u001b[38;5;241;43m=\u001b[39;49m\u001b[38;5;28;43mself\u001b[39;49m\u001b[38;5;241;43m.\u001b[39;49m\u001b[43mmodifier\u001b[49m\u001b[43m,\u001b[49m\n\u001b[1;32m    402\u001b[0m \u001b[43m    \u001b[49m\u001b[43m)\u001b[49m\n\u001b[1;32m    403\u001b[0m     call_modifier(\u001b[38;5;28mself\u001b[39m\u001b[38;5;241m.\u001b[39mmodifier, collection)\n\u001b[1;32m    404\u001b[0m \u001b[38;5;28;01melse\u001b[39;00m:\n",
      "File \u001b[0;32m/opt/homebrew/Caskroom/miniforge/base/lib/python3.9/site-packages/pystac_client/collection_client.py:84\u001b[0m, in \u001b[0;36mCollectionClient.from_dict\u001b[0;34m(cls, d, href, root, migrate, preserve_dict, modifier)\u001b[0m\n\u001b[1;32m     74\u001b[0m \u001b[38;5;129m@classmethod\u001b[39m\n\u001b[1;32m     75\u001b[0m \u001b[38;5;28;01mdef\u001b[39;00m \u001b[38;5;21mfrom_dict\u001b[39m(\n\u001b[1;32m     76\u001b[0m     \u001b[38;5;28mcls\u001b[39m,\n\u001b[0;32m   (...)\u001b[0m\n\u001b[1;32m     82\u001b[0m     modifier: Optional[Callable[[Modifiable], \u001b[38;5;28;01mNone\u001b[39;00m]] \u001b[38;5;241m=\u001b[39m \u001b[38;5;28;01mNone\u001b[39;00m,\n\u001b[1;32m     83\u001b[0m ) \u001b[38;5;241m-\u001b[39m\u001b[38;5;241m>\u001b[39m \u001b[38;5;124m\"\u001b[39m\u001b[38;5;124mCollectionClient\u001b[39m\u001b[38;5;124m\"\u001b[39m:\n\u001b[0;32m---> 84\u001b[0m     result \u001b[38;5;241m=\u001b[39m \u001b[38;5;28;43msuper\u001b[39;49m\u001b[43m(\u001b[49m\u001b[43m)\u001b[49m\u001b[38;5;241;43m.\u001b[39;49m\u001b[43mfrom_dict\u001b[49m\u001b[43m(\u001b[49m\u001b[43md\u001b[49m\u001b[43m,\u001b[49m\u001b[43m \u001b[49m\u001b[43mhref\u001b[49m\u001b[43m,\u001b[49m\u001b[43m \u001b[49m\u001b[43mroot\u001b[49m\u001b[43m,\u001b[49m\u001b[43m \u001b[49m\u001b[43mmigrate\u001b[49m\u001b[43m,\u001b[49m\u001b[43m \u001b[49m\u001b[43mpreserve_dict\u001b[49m\u001b[43m)\u001b[49m\n\u001b[1;32m     85\u001b[0m     \u001b[38;5;66;03m# error: Cannot assign to a method  [assignment]\u001b[39;00m\n\u001b[1;32m     86\u001b[0m     \u001b[38;5;66;03m# https://github.com/python/mypy/issues/2427\u001b[39;00m\n\u001b[1;32m     87\u001b[0m     \u001b[38;5;28msetattr\u001b[39m(result, \u001b[38;5;124m\"\u001b[39m\u001b[38;5;124mmodifier\u001b[39m\u001b[38;5;124m\"\u001b[39m, modifier)\n",
      "File \u001b[0;32m/opt/homebrew/Caskroom/miniforge/base/lib/python3.9/site-packages/pystac/collection.py:648\u001b[0m, in \u001b[0;36mCollection.from_dict\u001b[0;34m(cls, d, href, root, migrate, preserve_dict)\u001b[0m\n\u001b[1;32m    646\u001b[0m description \u001b[38;5;241m=\u001b[39m d\u001b[38;5;241m.\u001b[39mpop(\u001b[38;5;124m\"\u001b[39m\u001b[38;5;124mdescription\u001b[39m\u001b[38;5;124m\"\u001b[39m)\n\u001b[1;32m    647\u001b[0m license \u001b[38;5;241m=\u001b[39m d\u001b[38;5;241m.\u001b[39mpop(\u001b[38;5;124m\"\u001b[39m\u001b[38;5;124mlicense\u001b[39m\u001b[38;5;124m\"\u001b[39m)\n\u001b[0;32m--> 648\u001b[0m extent \u001b[38;5;241m=\u001b[39m \u001b[43mExtent\u001b[49m\u001b[38;5;241;43m.\u001b[39;49m\u001b[43mfrom_dict\u001b[49m\u001b[43m(\u001b[49m\u001b[43md\u001b[49m\u001b[38;5;241;43m.\u001b[39;49m\u001b[43mpop\u001b[49m\u001b[43m(\u001b[49m\u001b[38;5;124;43m\"\u001b[39;49m\u001b[38;5;124;43mextent\u001b[39;49m\u001b[38;5;124;43m\"\u001b[39;49m\u001b[43m)\u001b[49m\u001b[43m)\u001b[49m\n\u001b[1;32m    649\u001b[0m title \u001b[38;5;241m=\u001b[39m d\u001b[38;5;241m.\u001b[39mpop(\u001b[38;5;124m\"\u001b[39m\u001b[38;5;124mtitle\u001b[39m\u001b[38;5;124m\"\u001b[39m, \u001b[38;5;28;01mNone\u001b[39;00m)\n\u001b[1;32m    650\u001b[0m stac_extensions \u001b[38;5;241m=\u001b[39m d\u001b[38;5;241m.\u001b[39mpop(\u001b[38;5;124m\"\u001b[39m\u001b[38;5;124mstac_extensions\u001b[39m\u001b[38;5;124m\"\u001b[39m, \u001b[38;5;28;01mNone\u001b[39;00m)\n",
      "File \u001b[0;32m/opt/homebrew/Caskroom/miniforge/base/lib/python3.9/site-packages/pystac/collection.py:367\u001b[0m, in \u001b[0;36mExtent.from_dict\u001b[0;34m(d)\u001b[0m\n\u001b[1;32m    358\u001b[0m \u001b[38;5;129m@staticmethod\u001b[39m\n\u001b[1;32m    359\u001b[0m \u001b[38;5;28;01mdef\u001b[39;00m \u001b[38;5;21mfrom_dict\u001b[39m(d: \u001b[38;5;28mdict\u001b[39m[\u001b[38;5;28mstr\u001b[39m, Any]) \u001b[38;5;241m-\u001b[39m\u001b[38;5;241m>\u001b[39m Extent:\n\u001b[1;32m    360\u001b[0m     \u001b[38;5;124;03m\"\"\"Constructs an Extent from a dict.\u001b[39;00m\n\u001b[1;32m    361\u001b[0m \n\u001b[1;32m    362\u001b[0m \u001b[38;5;124;03m    Returns:\u001b[39;00m\n\u001b[1;32m    363\u001b[0m \u001b[38;5;124;03m        Extent: The Extent deserialized from the JSON dict.\u001b[39;00m\n\u001b[1;32m    364\u001b[0m \u001b[38;5;124;03m    \"\"\"\u001b[39;00m\n\u001b[1;32m    365\u001b[0m     \u001b[38;5;28;01mreturn\u001b[39;00m Extent(\n\u001b[1;32m    366\u001b[0m         spatial\u001b[38;5;241m=\u001b[39mSpatialExtent\u001b[38;5;241m.\u001b[39mfrom_dict(d[\u001b[38;5;124m\"\u001b[39m\u001b[38;5;124mspatial\u001b[39m\u001b[38;5;124m\"\u001b[39m]),\n\u001b[0;32m--> 367\u001b[0m         temporal\u001b[38;5;241m=\u001b[39m\u001b[43mTemporalExtent\u001b[49m\u001b[38;5;241;43m.\u001b[39;49m\u001b[43mfrom_dict\u001b[49m\u001b[43m(\u001b[49m\u001b[43md\u001b[49m\u001b[43m[\u001b[49m\u001b[38;5;124;43m\"\u001b[39;49m\u001b[38;5;124;43mtemporal\u001b[39;49m\u001b[38;5;124;43m\"\u001b[39;49m\u001b[43m]\u001b[49m\u001b[43m)\u001b[49m,\n\u001b[1;32m    368\u001b[0m         extra_fields\u001b[38;5;241m=\u001b[39m{\n\u001b[1;32m    369\u001b[0m             k: v \u001b[38;5;28;01mfor\u001b[39;00m k, v \u001b[38;5;129;01min\u001b[39;00m d\u001b[38;5;241m.\u001b[39mitems() \u001b[38;5;28;01mif\u001b[39;00m k \u001b[38;5;129;01mnot\u001b[39;00m \u001b[38;5;129;01min\u001b[39;00m {\u001b[38;5;124m\"\u001b[39m\u001b[38;5;124mspatial\u001b[39m\u001b[38;5;124m\"\u001b[39m, \u001b[38;5;124m\"\u001b[39m\u001b[38;5;124mtemporal\u001b[39m\u001b[38;5;124m\"\u001b[39m}\n\u001b[1;32m    370\u001b[0m         },\n\u001b[1;32m    371\u001b[0m     )\n",
      "File \u001b[0;32m/opt/homebrew/Caskroom/miniforge/base/lib/python3.9/site-packages/pystac/collection.py:278\u001b[0m, in \u001b[0;36mTemporalExtent.from_dict\u001b[0;34m(d)\u001b[0m\n\u001b[1;32m    275\u001b[0m end \u001b[38;5;241m=\u001b[39m \u001b[38;5;28;01mNone\u001b[39;00m\n\u001b[1;32m    277\u001b[0m \u001b[38;5;28;01mif\u001b[39;00m i[\u001b[38;5;241m0\u001b[39m]:\n\u001b[0;32m--> 278\u001b[0m     start \u001b[38;5;241m=\u001b[39m \u001b[43mstr_to_datetime\u001b[49m\u001b[43m(\u001b[49m\u001b[43mi\u001b[49m\u001b[43m[\u001b[49m\u001b[38;5;241;43m0\u001b[39;49m\u001b[43m]\u001b[49m\u001b[43m)\u001b[49m\n\u001b[1;32m    279\u001b[0m \u001b[38;5;28;01mif\u001b[39;00m i[\u001b[38;5;241m1\u001b[39m]:\n\u001b[1;32m    280\u001b[0m     end \u001b[38;5;241m=\u001b[39m str_to_datetime(i[\u001b[38;5;241m1\u001b[39m])\n",
      "File \u001b[0;32m/opt/homebrew/Caskroom/miniforge/base/lib/python3.9/site-packages/pystac/utils.py:414\u001b[0m, in \u001b[0;36mstr_to_datetime\u001b[0;34m(s)\u001b[0m\n\u001b[1;32m    402\u001b[0m \u001b[38;5;28;01mdef\u001b[39;00m \u001b[38;5;21mstr_to_datetime\u001b[39m(s: \u001b[38;5;28mstr\u001b[39m) \u001b[38;5;241m-\u001b[39m\u001b[38;5;241m>\u001b[39m datetime:\n\u001b[1;32m    403\u001b[0m     \u001b[38;5;124;03m\"\"\"Converts a string timestamp to a :class:`datetime.datetime` instance using\u001b[39;00m\n\u001b[1;32m    404\u001b[0m \u001b[38;5;124;03m    :meth:`dateutil.parser.parse` under the hood. The input string may be in any\u001b[39;00m\n\u001b[1;32m    405\u001b[0m \u001b[38;5;124;03m    format supported by the parser.parser>. This includes many formats including\u001b[39;00m\n\u001b[0;32m   (...)\u001b[0m\n\u001b[1;32m    412\u001b[0m \u001b[38;5;124;03m        str: The :class:`datetime.datetime` represented the by the string.\u001b[39;00m\n\u001b[1;32m    413\u001b[0m \u001b[38;5;124;03m    \"\"\"\u001b[39;00m\n\u001b[0;32m--> 414\u001b[0m     \u001b[38;5;28;01mreturn\u001b[39;00m \u001b[43mdateutil\u001b[49m\u001b[38;5;241;43m.\u001b[39;49m\u001b[43mparser\u001b[49m\u001b[38;5;241;43m.\u001b[39;49m\u001b[43misoparse\u001b[49m\u001b[43m(\u001b[49m\u001b[43ms\u001b[49m\u001b[43m)\u001b[49m\n",
      "File \u001b[0;32m/opt/homebrew/Caskroom/miniforge/base/lib/python3.9/site-packages/dateutil/parser/isoparser.py:37\u001b[0m, in \u001b[0;36m_takes_ascii.<locals>.func\u001b[0;34m(self, str_in, *args, **kwargs)\u001b[0m\n\u001b[1;32m     34\u001b[0m         msg \u001b[38;5;241m=\u001b[39m \u001b[38;5;124m'\u001b[39m\u001b[38;5;124mISO-8601 strings should contain only ASCII characters\u001b[39m\u001b[38;5;124m'\u001b[39m\n\u001b[1;32m     35\u001b[0m         six\u001b[38;5;241m.\u001b[39mraise_from(\u001b[38;5;167;01mValueError\u001b[39;00m(msg), e)\n\u001b[0;32m---> 37\u001b[0m \u001b[38;5;28;01mreturn\u001b[39;00m \u001b[43mf\u001b[49m\u001b[43m(\u001b[49m\u001b[38;5;28;43mself\u001b[39;49m\u001b[43m,\u001b[49m\u001b[43m \u001b[49m\u001b[43mstr_in\u001b[49m\u001b[43m,\u001b[49m\u001b[43m \u001b[49m\u001b[38;5;241;43m*\u001b[39;49m\u001b[43margs\u001b[49m\u001b[43m,\u001b[49m\u001b[43m \u001b[49m\u001b[38;5;241;43m*\u001b[39;49m\u001b[38;5;241;43m*\u001b[39;49m\u001b[43mkwargs\u001b[49m\u001b[43m)\u001b[49m\n",
      "File \u001b[0;32m/opt/homebrew/Caskroom/miniforge/base/lib/python3.9/site-packages/dateutil/parser/isoparser.py:138\u001b[0m, in \u001b[0;36misoparser.isoparse\u001b[0;34m(self, dt_str)\u001b[0m\n\u001b[1;32m    136\u001b[0m \u001b[38;5;28;01mif\u001b[39;00m \u001b[38;5;28mlen\u001b[39m(dt_str) \u001b[38;5;241m>\u001b[39m pos:\n\u001b[1;32m    137\u001b[0m     \u001b[38;5;28;01mif\u001b[39;00m \u001b[38;5;28mself\u001b[39m\u001b[38;5;241m.\u001b[39m_sep \u001b[38;5;129;01mis\u001b[39;00m \u001b[38;5;28;01mNone\u001b[39;00m \u001b[38;5;129;01mor\u001b[39;00m dt_str[pos:pos \u001b[38;5;241m+\u001b[39m \u001b[38;5;241m1\u001b[39m] \u001b[38;5;241m==\u001b[39m \u001b[38;5;28mself\u001b[39m\u001b[38;5;241m.\u001b[39m_sep:\n\u001b[0;32m--> 138\u001b[0m         components \u001b[38;5;241m+\u001b[39m\u001b[38;5;241m=\u001b[39m \u001b[38;5;28;43mself\u001b[39;49m\u001b[38;5;241;43m.\u001b[39;49m\u001b[43m_parse_isotime\u001b[49m\u001b[43m(\u001b[49m\u001b[43mdt_str\u001b[49m\u001b[43m[\u001b[49m\u001b[43mpos\u001b[49m\u001b[43m \u001b[49m\u001b[38;5;241;43m+\u001b[39;49m\u001b[43m \u001b[49m\u001b[38;5;241;43m1\u001b[39;49m\u001b[43m:\u001b[49m\u001b[43m]\u001b[49m\u001b[43m)\u001b[49m\n\u001b[1;32m    139\u001b[0m     \u001b[38;5;28;01melse\u001b[39;00m:\n\u001b[1;32m    140\u001b[0m         \u001b[38;5;28;01mraise\u001b[39;00m \u001b[38;5;167;01mValueError\u001b[39;00m(\u001b[38;5;124m'\u001b[39m\u001b[38;5;124mString contains unknown ISO components\u001b[39m\u001b[38;5;124m'\u001b[39m)\n",
      "File \u001b[0;32m/opt/homebrew/Caskroom/miniforge/base/lib/python3.9/site-packages/dateutil/parser/isoparser.py:355\u001b[0m, in \u001b[0;36misoparser._parse_isotime\u001b[0;34m(self, timestr)\u001b[0m\n\u001b[1;32m    353\u001b[0m \u001b[38;5;28;01melif\u001b[39;00m comp \u001b[38;5;241m==\u001b[39m \u001b[38;5;241m2\u001b[39m \u001b[38;5;129;01mand\u001b[39;00m has_sep:\n\u001b[1;32m    354\u001b[0m     \u001b[38;5;28;01mif\u001b[39;00m timestr[pos:pos\u001b[38;5;241m+\u001b[39m\u001b[38;5;241m1\u001b[39m] \u001b[38;5;241m!=\u001b[39m \u001b[38;5;28mself\u001b[39m\u001b[38;5;241m.\u001b[39m_TIME_SEP:\n\u001b[0;32m--> 355\u001b[0m         \u001b[38;5;28;01mraise\u001b[39;00m \u001b[38;5;167;01mValueError\u001b[39;00m(\u001b[38;5;124m'\u001b[39m\u001b[38;5;124mInconsistent use of colon separator\u001b[39m\u001b[38;5;124m'\u001b[39m)\n\u001b[1;32m    356\u001b[0m     pos \u001b[38;5;241m+\u001b[39m\u001b[38;5;241m=\u001b[39m \u001b[38;5;241m1\u001b[39m\n\u001b[1;32m    358\u001b[0m \u001b[38;5;28;01mif\u001b[39;00m comp \u001b[38;5;241m<\u001b[39m \u001b[38;5;241m3\u001b[39m:\n\u001b[1;32m    359\u001b[0m     \u001b[38;5;66;03m# Hour, minute, second\u001b[39;00m\n",
      "\u001b[0;31mValueError\u001b[0m: Inconsistent use of colon separator"
     ]
    }
   ],
   "source": [
    "buildings = catalog.get_collection('buildings')"
   ]
  }
 ],
 "metadata": {
  "kernelspec": {
   "display_name": "Python 3 (ipykernel)",
   "language": "python",
   "name": "python3"
  },
  "language_info": {
   "codemirror_mode": {
    "name": "ipython",
    "version": 3
   },
   "file_extension": ".py",
   "mimetype": "text/x-python",
   "name": "python",
   "nbconvert_exporter": "python",
   "pygments_lexer": "ipython3",
   "version": "3.9.13"
  }
 },
 "nbformat": 4,
 "nbformat_minor": 5
}
